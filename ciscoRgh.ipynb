{
  "nbformat": 4,
  "nbformat_minor": 0,
  "metadata": {
    "colab": {
      "provenance": []
    },
    "kernelspec": {
      "name": "python3",
      "display_name": "Python 3"
    },
    "language_info": {
      "name": "python"
    }
  },
  "cells": [
    {
      "cell_type": "code",
      "execution_count": null,
      "metadata": {
        "id": "2jBCZY0bxXw-"
      },
      "outputs": [],
      "source": [
        "# !cp -r /content/drive/MyDrive/ciscodata /content/convolve-epoch1"
      ]
    },
    {
      "cell_type": "code",
      "source": [
        "import pandas as pd\n",
        "import numpy as np \n",
        "import matplotlib.pyplot as plt\n",
        "import seaborn as sns"
      ],
      "metadata": {
        "id": "ZnNbPZ-8xfSH"
      },
      "execution_count": null,
      "outputs": []
    },
    {
      "cell_type": "code",
      "source": [
        "import json\n",
        "f = open('/content/convolve-epoch1/convolve-epoch1/train.json')\n",
        "data = json.load(f)\n",
        "f.close()\n",
        "df = pd.DataFrame({'count': data})\n",
        "df.reset_index(inplace = True)\n",
        "df.columns = ['log', 'ans']"
      ],
      "metadata": {
        "id": "w-xfc9iPxkVd"
      },
      "execution_count": null,
      "outputs": []
    },
    {
      "cell_type": "code",
      "source": [
        "dft = pd.read_csv('/content/convolve-epoch1/convolve-epoch1/test.csv')"
      ],
      "metadata": {
        "id": "V4WdMrpuyFOu"
      },
      "execution_count": null,
      "outputs": []
    },
    {
      "cell_type": "code",
      "source": [
        "dft"
      ],
      "metadata": {
        "colab": {
          "base_uri": "https://localhost:8080/",
          "height": 424
        },
        "id": "Ojmlem-kyAVU",
        "outputId": "ab0f80a7-43ab-412e-ce15-ec8e28f25029"
      },
      "execution_count": null,
      "outputs": [
        {
          "output_type": "execute_result",
          "data": {
            "text/plain": [
              "            ID                                                Log\n",
              "0            0   1124336301 2005.08.17 R13-M1-N8-C:J12-U01 200...\n",
              "1            1   1118553175 2005.06.11 R30-M0-N9-C:J16-U01 200...\n",
              "2            2   1118536033 2005.06.11 R30-M0-N9-C:J16-U01 200...\n",
              "3            3   1117992566 2005.06.05 R30-M1-N6-C:J03-U11 200...\n",
              "4            4   1118538965 2005.06.11 R30-M0-N9-C:J16-U01 200...\n",
              "...        ...                                                ...\n",
              "595295  595295   1118768234 2005.06.14 R20-M0-NA-C:J17-U11 200...\n",
              "595296  595296   1118370947 2005.06.09 R15-M0-NA-C:J02-U01 200...\n",
              "595297  595297   1118540242 2005.06.11 R30-M0-N9-C:J16-U01 200...\n",
              "595298  595298   1118538947 2005.06.11 R30-M0-N9-C:J16-U01 200...\n",
              "595299  595299   1118165805 2005.06.07 R23-M1-N5-C:J16-U11 200...\n",
              "\n",
              "[595300 rows x 2 columns]"
            ],
            "text/html": [
              "\n",
              "  <div id=\"df-7770afd8-1cf6-4fc0-be24-0c5886fc212a\">\n",
              "    <div class=\"colab-df-container\">\n",
              "      <div>\n",
              "<style scoped>\n",
              "    .dataframe tbody tr th:only-of-type {\n",
              "        vertical-align: middle;\n",
              "    }\n",
              "\n",
              "    .dataframe tbody tr th {\n",
              "        vertical-align: top;\n",
              "    }\n",
              "\n",
              "    .dataframe thead th {\n",
              "        text-align: right;\n",
              "    }\n",
              "</style>\n",
              "<table border=\"1\" class=\"dataframe\">\n",
              "  <thead>\n",
              "    <tr style=\"text-align: right;\">\n",
              "      <th></th>\n",
              "      <th>ID</th>\n",
              "      <th>Log</th>\n",
              "    </tr>\n",
              "  </thead>\n",
              "  <tbody>\n",
              "    <tr>\n",
              "      <th>0</th>\n",
              "      <td>0</td>\n",
              "      <td>1124336301 2005.08.17 R13-M1-N8-C:J12-U01 200...</td>\n",
              "    </tr>\n",
              "    <tr>\n",
              "      <th>1</th>\n",
              "      <td>1</td>\n",
              "      <td>1118553175 2005.06.11 R30-M0-N9-C:J16-U01 200...</td>\n",
              "    </tr>\n",
              "    <tr>\n",
              "      <th>2</th>\n",
              "      <td>2</td>\n",
              "      <td>1118536033 2005.06.11 R30-M0-N9-C:J16-U01 200...</td>\n",
              "    </tr>\n",
              "    <tr>\n",
              "      <th>3</th>\n",
              "      <td>3</td>\n",
              "      <td>1117992566 2005.06.05 R30-M1-N6-C:J03-U11 200...</td>\n",
              "    </tr>\n",
              "    <tr>\n",
              "      <th>4</th>\n",
              "      <td>4</td>\n",
              "      <td>1118538965 2005.06.11 R30-M0-N9-C:J16-U01 200...</td>\n",
              "    </tr>\n",
              "    <tr>\n",
              "      <th>...</th>\n",
              "      <td>...</td>\n",
              "      <td>...</td>\n",
              "    </tr>\n",
              "    <tr>\n",
              "      <th>595295</th>\n",
              "      <td>595295</td>\n",
              "      <td>1118768234 2005.06.14 R20-M0-NA-C:J17-U11 200...</td>\n",
              "    </tr>\n",
              "    <tr>\n",
              "      <th>595296</th>\n",
              "      <td>595296</td>\n",
              "      <td>1118370947 2005.06.09 R15-M0-NA-C:J02-U01 200...</td>\n",
              "    </tr>\n",
              "    <tr>\n",
              "      <th>595297</th>\n",
              "      <td>595297</td>\n",
              "      <td>1118540242 2005.06.11 R30-M0-N9-C:J16-U01 200...</td>\n",
              "    </tr>\n",
              "    <tr>\n",
              "      <th>595298</th>\n",
              "      <td>595298</td>\n",
              "      <td>1118538947 2005.06.11 R30-M0-N9-C:J16-U01 200...</td>\n",
              "    </tr>\n",
              "    <tr>\n",
              "      <th>595299</th>\n",
              "      <td>595299</td>\n",
              "      <td>1118165805 2005.06.07 R23-M1-N5-C:J16-U11 200...</td>\n",
              "    </tr>\n",
              "  </tbody>\n",
              "</table>\n",
              "<p>595300 rows × 2 columns</p>\n",
              "</div>\n",
              "      <button class=\"colab-df-convert\" onclick=\"convertToInteractive('df-7770afd8-1cf6-4fc0-be24-0c5886fc212a')\"\n",
              "              title=\"Convert this dataframe to an interactive table.\"\n",
              "              style=\"display:none;\">\n",
              "        \n",
              "  <svg xmlns=\"http://www.w3.org/2000/svg\" height=\"24px\"viewBox=\"0 0 24 24\"\n",
              "       width=\"24px\">\n",
              "    <path d=\"M0 0h24v24H0V0z\" fill=\"none\"/>\n",
              "    <path d=\"M18.56 5.44l.94 2.06.94-2.06 2.06-.94-2.06-.94-.94-2.06-.94 2.06-2.06.94zm-11 1L8.5 8.5l.94-2.06 2.06-.94-2.06-.94L8.5 2.5l-.94 2.06-2.06.94zm10 10l.94 2.06.94-2.06 2.06-.94-2.06-.94-.94-2.06-.94 2.06-2.06.94z\"/><path d=\"M17.41 7.96l-1.37-1.37c-.4-.4-.92-.59-1.43-.59-.52 0-1.04.2-1.43.59L10.3 9.45l-7.72 7.72c-.78.78-.78 2.05 0 2.83L4 21.41c.39.39.9.59 1.41.59.51 0 1.02-.2 1.41-.59l7.78-7.78 2.81-2.81c.8-.78.8-2.07 0-2.86zM5.41 20L4 18.59l7.72-7.72 1.47 1.35L5.41 20z\"/>\n",
              "  </svg>\n",
              "      </button>\n",
              "      \n",
              "  <style>\n",
              "    .colab-df-container {\n",
              "      display:flex;\n",
              "      flex-wrap:wrap;\n",
              "      gap: 12px;\n",
              "    }\n",
              "\n",
              "    .colab-df-convert {\n",
              "      background-color: #E8F0FE;\n",
              "      border: none;\n",
              "      border-radius: 50%;\n",
              "      cursor: pointer;\n",
              "      display: none;\n",
              "      fill: #1967D2;\n",
              "      height: 32px;\n",
              "      padding: 0 0 0 0;\n",
              "      width: 32px;\n",
              "    }\n",
              "\n",
              "    .colab-df-convert:hover {\n",
              "      background-color: #E2EBFA;\n",
              "      box-shadow: 0px 1px 2px rgba(60, 64, 67, 0.3), 0px 1px 3px 1px rgba(60, 64, 67, 0.15);\n",
              "      fill: #174EA6;\n",
              "    }\n",
              "\n",
              "    [theme=dark] .colab-df-convert {\n",
              "      background-color: #3B4455;\n",
              "      fill: #D2E3FC;\n",
              "    }\n",
              "\n",
              "    [theme=dark] .colab-df-convert:hover {\n",
              "      background-color: #434B5C;\n",
              "      box-shadow: 0px 1px 3px 1px rgba(0, 0, 0, 0.15);\n",
              "      filter: drop-shadow(0px 1px 2px rgba(0, 0, 0, 0.3));\n",
              "      fill: #FFFFFF;\n",
              "    }\n",
              "  </style>\n",
              "\n",
              "      <script>\n",
              "        const buttonEl =\n",
              "          document.querySelector('#df-7770afd8-1cf6-4fc0-be24-0c5886fc212a button.colab-df-convert');\n",
              "        buttonEl.style.display =\n",
              "          google.colab.kernel.accessAllowed ? 'block' : 'none';\n",
              "\n",
              "        async function convertToInteractive(key) {\n",
              "          const element = document.querySelector('#df-7770afd8-1cf6-4fc0-be24-0c5886fc212a');\n",
              "          const dataTable =\n",
              "            await google.colab.kernel.invokeFunction('convertToInteractive',\n",
              "                                                     [key], {});\n",
              "          if (!dataTable) return;\n",
              "\n",
              "          const docLinkHtml = 'Like what you see? Visit the ' +\n",
              "            '<a target=\"_blank\" href=https://colab.research.google.com/notebooks/data_table.ipynb>data table notebook</a>'\n",
              "            + ' to learn more about interactive tables.';\n",
              "          element.innerHTML = '';\n",
              "          dataTable['output_type'] = 'display_data';\n",
              "          await google.colab.output.renderOutput(dataTable, element);\n",
              "          const docLink = document.createElement('div');\n",
              "          docLink.innerHTML = docLinkHtml;\n",
              "          element.appendChild(docLink);\n",
              "        }\n",
              "      </script>\n",
              "    </div>\n",
              "  </div>\n",
              "  "
            ]
          },
          "metadata": {},
          "execution_count": 24
        }
      ]
    },
    {
      "cell_type": "code",
      "source": [
        "import re"
      ],
      "metadata": {
        "id": "CPZ3LQYs4om4"
      },
      "execution_count": null,
      "outputs": []
    },
    {
      "cell_type": "code",
      "source": [
        "s = \"hello dear 1\"\n",
        "re.sub('[^a-zA-Z]+', ' ', s)"
      ],
      "metadata": {
        "colab": {
          "base_uri": "https://localhost:8080/",
          "height": 36
        },
        "id": "uKSjOoz8395I",
        "outputId": "d4482438-c925-4b28-fed9-e17ab57a19dc"
      },
      "execution_count": null,
      "outputs": [
        {
          "output_type": "execute_result",
          "data": {
            "text/plain": [
              "'hello dear '"
            ],
            "application/vnd.google.colaboratory.intrinsic+json": {
              "type": "string"
            }
          },
          "metadata": {},
          "execution_count": 26
        }
      ]
    },
    {
      "cell_type": "code",
      "source": [
        "df['logf'] = df['log'].apply(lambda x:' '.join([x for x in re.sub('[^a-zA-Z]+', ' ', x).split(' ') if len(x)>1]))"
      ],
      "metadata": {
        "id": "BlSvInhO4kdv"
      },
      "execution_count": null,
      "outputs": []
    },
    {
      "cell_type": "code",
      "source": [
        "df['logf'].value_counts()"
      ],
      "metadata": {
        "colab": {
          "base_uri": "https://localhost:8080/"
        },
        "id": "ibi-lYvRVr5w",
        "outputId": "a61394a0-7722-49ca-b997-316b990bdf16"
      },
      "execution_count": null,
      "outputs": [
        {
          "output_type": "execute_result",
          "data": {
            "text/plain": [
              "RAS KERNEL INFO generating core                                                                                 1053137\n",
              "RAS KERNEL INFO double hummer alignment exceptions                                                               182027\n",
              "RAS KERNEL INFO floating point alignment exceptions                                                              164014\n",
              "RAS KERNEL INFO iar dear                                                                                         136789\n",
              "NE NE RAS KERNEL INFO generating core                                                                            115704\n",
              "                                                                                                                 ...   \n",
              "UNKNOWN LOCATION UNKNOWN LOCATION NULL DISCOVERY INFO Ido chip status changed FF CE BA ip status Tue Aug PDT          1\n",
              "UNKNOWN LOCATION UNKNOWN LOCATION NULL DISCOVERY INFO Ido chip status changed FF EB CC ip status Tue Aug PDT          1\n",
              "UNKNOWN LOCATION UNKNOWN LOCATION NULL DISCOVERY INFO Ido chip status changed FF DB CB ip status Tue Aug PDT          1\n",
              "UNKNOWN LOCATION UNKNOWN LOCATION NULL DISCOVERY INFO Ido chip status changed FF ED AE ip status Tue Aug PDT          1\n",
              "RAS KERNEL FATAL machine check interrupt bit DCU read error                                                           1\n",
              "Name: logf, Length: 16481, dtype: int64"
            ]
          },
          "metadata": {},
          "execution_count": 28
        }
      ]
    },
    {
      "cell_type": "code",
      "source": [
        "dft['logf'] = dft[' Log'].apply(lambda x:' '.join([x for x in re.sub('[^a-zA-Z]+', ' ', x).split(' ') if len(x)>1]))"
      ],
      "metadata": {
        "id": "lLPasjzAVvUG"
      },
      "execution_count": null,
      "outputs": []
    },
    {
      "cell_type": "code",
      "source": [
        "dft['prd'] = np.nan"
      ],
      "metadata": {
        "id": "ilcpJsEgVvJ9"
      },
      "execution_count": null,
      "outputs": []
    },
    {
      "cell_type": "code",
      "source": [
        "ctr=0\n",
        "for i in uniq:\n",
        "  if(len(df[df['logf']==i]['ans'])==0):continue\n",
        "  dft.loc[dft['logf']==i, 'prd'] = df[df['logf']==i]['ans'].iloc[0]\n",
        "  print(ctr)\n",
        "  ctr = ctr+1\n",
        "  if(ctr==100):break"
      ],
      "metadata": {
        "id": "UYa9oOgSVvCM"
      },
      "execution_count": null,
      "outputs": []
    },
    {
      "cell_type": "code",
      "source": [
        "remaining = dft[dft['prd'].isna()]['logf'].value_counts().reset_index()"
      ],
      "metadata": {
        "id": "SSXb5--WVu5V"
      },
      "execution_count": null,
      "outputs": []
    },
    {
      "cell_type": "code",
      "source": [
        "df.to_csv('./data.csv')"
      ],
      "metadata": {
        "id": "Ru00roalcbTU"
      },
      "execution_count": null,
      "outputs": []
    },
    {
      "cell_type": "code",
      "source": [
        "dft.loc[dft['logf'].apply(lambda x:\"RAS KERNEL FATAL data storage interrupt\" in x), 'prd'] = \"abnormal\""
      ],
      "metadata": {
        "id": "M7G7berbckBu"
      },
      "execution_count": null,
      "outputs": []
    },
    {
      "cell_type": "code",
      "source": [
        "len(dft[dft['prd'].isna()])"
      ],
      "metadata": {
        "colab": {
          "base_uri": "https://localhost:8080/"
        },
        "id": "NriOV8rNtCnv",
        "outputId": "a7db2a44-1b97-40c0-d68f-3072d3eba7ec"
      },
      "execution_count": null,
      "outputs": [
        {
          "output_type": "execute_result",
          "data": {
            "text/plain": [
              "15274"
            ]
          },
          "metadata": {},
          "execution_count": 112
        }
      ]
    },
    {
      "cell_type": "code",
      "source": [
        "dft.loc[dft['prd'].isna(), 'prd']='abnormal'"
      ],
      "metadata": {
        "id": "k1ibaiZytJ93"
      },
      "execution_count": null,
      "outputs": []
    },
    {
      "cell_type": "code",
      "source": [
        "for i in dft[dft['prd'].isna()]['logf'].value_counts().reset_index().values:\n",
        "  print(i)\n",
        "  print(dft[dft['logf']==i[0]][' Log'].iloc[0])\n",
        "  inp = input()\n",
        "  dft.loc[dft['logf']==i[0], 'prd'] = \"normal\" if inp==1 else \"abnormal\""
      ],
      "metadata": {
        "colab": {
          "base_uri": "https://localhost:8080/",
          "height": 1000
        },
        "id": "oaAvryLdVuue",
        "outputId": "2610d07c-0a60-4e80-b621-fd26c383b6fb"
      },
      "execution_count": null,
      "outputs": [
        {
          "output_type": "stream",
          "name": "stdout",
          "text": [
            "['ND ND RAS KERNEL FATAL data storage interrupt' 3968]\n",
            " 1118765205 2005.06.14 R17-M0-ND-C:J14-U11 2005-06-14-09.06.45.190402 R17-M0-ND-C:J14-U11 RAS KERNEL FATAL data storage interrupt\n",
            "\n",
            "0\n",
            "['NC NC RAS KERNEL FATAL rts kernel terminated for reason' 2831]\n",
            " 1124173518 2005.08.15 R51-M1-NC-C:J12-U01 2005-08-15-23.25.18.439802 R51-M1-NC-C:J12-U01 RAS KERNEL FATAL rts: kernel terminated for reason 1001\n",
            "\n",
            "0\n",
            "['RAS KERNEL FATAL rts kernel terminated for reason rts bad message header invalid cpu type cpu index total'\n",
            " 2778]\n",
            " 1121464479 2005.07.15 R05-M1-N0-C:J12-U11 2005-07-15-14.54.39.860456 R05-M1-N0-C:J12-U11 RAS KERNEL FATAL rts: kernel terminated for reason 1001rts: bad message header: invalid cpu, type=10144, cpu=127, index=0, total=0\n",
            "\n",
            "0\n",
            "['RAS APP FATAL ciod Error reading message prefix after LOAD MESSAGE on CioStream socket to Link has been severed'\n",
            " 2605]\n",
            " 1124584009 2005.08.20 R33-M1-N0-I:J18-U11 2005-08-20-17.26.49.496687 R33-M1-N0-I:J18-U11 RAS APP FATAL ciod: Error reading message prefix after LOAD_MESSAGE on CioStream socket to 172.16.96.116:35205: Link has been severed\n",
            "\n",
            "0\n",
            "['RAS APP FATAL ciod Error reading message prefix after LOGIN MESSAGE on CioStream socket to Link has been severed'\n",
            " 1778]\n",
            " 1124721991 2005.08.22 R45-M1-N8-I:J18-U11 2005-08-22-07.46.31.657739 R45-M1-N8-I:J18-U11 RAS APP FATAL ciod: Error reading message prefix after LOGIN_MESSAGE on CioStream socket to 172.16.96.116:56604: Link has been severed\n",
            "\n",
            "0\n",
            "['RAS APP FATAL ciod Error reading message prefix after VERSION MESSAGE on CioStream socket to Link has been severed'\n",
            " 1536]\n",
            " 1123916139 2005.08.12 R37-M1-N0-I:J18-U01 2005-08-12-23.55.39.385501 R37-M1-N0-I:J18-U01 RAS APP FATAL ciod: Error reading message prefix after VERSION_MESSAGE on CioStream socket to 172.16.96.116:53866: Link has been severed\n",
            "\n",
            "0\n",
            "['RAS KERNEL FATAL Microloader Assertion' 990]\n",
            " 1125326942 2005.08.29 R51-M1-N9-C:J14-U11 2005-08-29-07.49.02.452474 R51-M1-N9-C:J14-U11 RAS KERNEL FATAL Microloader Assertion\n",
            "\n",
            "0\n",
            "['NC NC RAS APP FATAL ciod Error reading message prefix after LOAD MESSAGE on CioStream socket to Link has been severed'\n",
            " 858]\n",
            " 1124725219 2005.08.22 R43-M0-NC-I:J18-U01 2005-08-22-08.40.19.460750 R43-M0-NC-I:J18-U01 RAS APP FATAL ciod: Error reading message prefix after LOAD_MESSAGE on CioStream socket to 172.16.96.116:49320: Link has been severed\n",
            "\n",
            "1\n",
            "['RAS APP FATAL ciod Error creating node map from file home auselton bgl mapfiles bgl mps map Resource temporarily unavailable'\n",
            " 768]\n",
            " 1124132022 2005.08.15 R75-M0-N4-I:J18-U01 2005-08-15-11.53.42.023746 R75-M0-N4-I:J18-U01 RAS APP FATAL ciod: Error creating node map from file /home/auselton/bgl/mapfiles/bgl.128mps.f64.map: Resource temporarily unavailable\n",
            "\n",
            "0\n",
            "['RAS APP FATAL ciod Error creating node map from file home auselton bgl mps sequential mapfile Resource temporarily unavailable'\n",
            " 768]\n",
            " 1120591356 2005.07.05 R11-M1-N4-I:J18-U11 2005-07-05-12.22.36.350275 R11-M1-N4-I:J18-U11 RAS APP FATAL ciod: Error creating node map from file /home/auselton/bgl/64mps.sequential.mapfile: Resource temporarily unavailable\n",
            "\n"
          ]
        },
        {
          "output_type": "error",
          "ename": "KeyboardInterrupt",
          "evalue": "ignored",
          "traceback": [
            "\u001b[0;31m---------------------------------------------------------------------------\u001b[0m",
            "\u001b[0;31mKeyboardInterrupt\u001b[0m                         Traceback (most recent call last)",
            "\u001b[0;32m<ipython-input-108-9419dd9c9381>\u001b[0m in \u001b[0;36m<module>\u001b[0;34m\u001b[0m\n\u001b[1;32m      2\u001b[0m   \u001b[0mprint\u001b[0m\u001b[0;34m(\u001b[0m\u001b[0mi\u001b[0m\u001b[0;34m)\u001b[0m\u001b[0;34m\u001b[0m\u001b[0;34m\u001b[0m\u001b[0m\n\u001b[1;32m      3\u001b[0m   \u001b[0mprint\u001b[0m\u001b[0;34m(\u001b[0m\u001b[0mdft\u001b[0m\u001b[0;34m[\u001b[0m\u001b[0mdft\u001b[0m\u001b[0;34m[\u001b[0m\u001b[0;34m'logf'\u001b[0m\u001b[0;34m]\u001b[0m\u001b[0;34m==\u001b[0m\u001b[0mi\u001b[0m\u001b[0;34m[\u001b[0m\u001b[0;36m0\u001b[0m\u001b[0;34m]\u001b[0m\u001b[0;34m]\u001b[0m\u001b[0;34m[\u001b[0m\u001b[0;34m' Log'\u001b[0m\u001b[0;34m]\u001b[0m\u001b[0;34m.\u001b[0m\u001b[0miloc\u001b[0m\u001b[0;34m[\u001b[0m\u001b[0;36m0\u001b[0m\u001b[0;34m]\u001b[0m\u001b[0;34m)\u001b[0m\u001b[0;34m\u001b[0m\u001b[0;34m\u001b[0m\u001b[0m\n\u001b[0;32m----> 4\u001b[0;31m   \u001b[0minp\u001b[0m \u001b[0;34m=\u001b[0m \u001b[0minput\u001b[0m\u001b[0;34m(\u001b[0m\u001b[0;34m)\u001b[0m\u001b[0;34m\u001b[0m\u001b[0;34m\u001b[0m\u001b[0m\n\u001b[0m\u001b[1;32m      5\u001b[0m   \u001b[0mdft\u001b[0m\u001b[0;34m.\u001b[0m\u001b[0mloc\u001b[0m\u001b[0;34m[\u001b[0m\u001b[0mdft\u001b[0m\u001b[0;34m[\u001b[0m\u001b[0;34m'logf'\u001b[0m\u001b[0;34m]\u001b[0m\u001b[0;34m==\u001b[0m\u001b[0mi\u001b[0m\u001b[0;34m[\u001b[0m\u001b[0;36m0\u001b[0m\u001b[0;34m]\u001b[0m\u001b[0;34m,\u001b[0m \u001b[0;34m'prd'\u001b[0m\u001b[0;34m]\u001b[0m \u001b[0;34m=\u001b[0m \u001b[0;34m\"normal\"\u001b[0m \u001b[0;32mif\u001b[0m \u001b[0minp\u001b[0m\u001b[0;34m==\u001b[0m\u001b[0;36m1\u001b[0m \u001b[0;32melse\u001b[0m \u001b[0;34m\"abnormal\"\u001b[0m\u001b[0;34m\u001b[0m\u001b[0;34m\u001b[0m\u001b[0m\n",
            "\u001b[0;32m/usr/local/lib/python3.8/dist-packages/ipykernel/kernelbase.py\u001b[0m in \u001b[0;36mraw_input\u001b[0;34m(self, prompt)\u001b[0m\n\u001b[1;32m    858\u001b[0m                 \u001b[0;34m\"raw_input was called, but this frontend does not support input requests.\"\u001b[0m\u001b[0;34m\u001b[0m\u001b[0;34m\u001b[0m\u001b[0m\n\u001b[1;32m    859\u001b[0m             )\n\u001b[0;32m--> 860\u001b[0;31m         return self._input_request(str(prompt),\n\u001b[0m\u001b[1;32m    861\u001b[0m             \u001b[0mself\u001b[0m\u001b[0;34m.\u001b[0m\u001b[0m_parent_ident\u001b[0m\u001b[0;34m,\u001b[0m\u001b[0;34m\u001b[0m\u001b[0;34m\u001b[0m\u001b[0m\n\u001b[1;32m    862\u001b[0m             \u001b[0mself\u001b[0m\u001b[0;34m.\u001b[0m\u001b[0m_parent_header\u001b[0m\u001b[0;34m,\u001b[0m\u001b[0;34m\u001b[0m\u001b[0;34m\u001b[0m\u001b[0m\n",
            "\u001b[0;32m/usr/local/lib/python3.8/dist-packages/ipykernel/kernelbase.py\u001b[0m in \u001b[0;36m_input_request\u001b[0;34m(self, prompt, ident, parent, password)\u001b[0m\n\u001b[1;32m    902\u001b[0m             \u001b[0;32mexcept\u001b[0m \u001b[0mKeyboardInterrupt\u001b[0m\u001b[0;34m:\u001b[0m\u001b[0;34m\u001b[0m\u001b[0;34m\u001b[0m\u001b[0m\n\u001b[1;32m    903\u001b[0m                 \u001b[0;31m# re-raise KeyboardInterrupt, to truncate traceback\u001b[0m\u001b[0;34m\u001b[0m\u001b[0;34m\u001b[0m\u001b[0;34m\u001b[0m\u001b[0m\n\u001b[0;32m--> 904\u001b[0;31m                 \u001b[0;32mraise\u001b[0m \u001b[0mKeyboardInterrupt\u001b[0m\u001b[0;34m(\u001b[0m\u001b[0;34m\"Interrupted by user\"\u001b[0m\u001b[0;34m)\u001b[0m \u001b[0;32mfrom\u001b[0m \u001b[0;32mNone\u001b[0m\u001b[0;34m\u001b[0m\u001b[0;34m\u001b[0m\u001b[0m\n\u001b[0m\u001b[1;32m    905\u001b[0m             \u001b[0;32mexcept\u001b[0m \u001b[0mException\u001b[0m \u001b[0;32mas\u001b[0m \u001b[0me\u001b[0m\u001b[0;34m:\u001b[0m\u001b[0;34m\u001b[0m\u001b[0;34m\u001b[0m\u001b[0m\n\u001b[1;32m    906\u001b[0m                 \u001b[0mself\u001b[0m\u001b[0;34m.\u001b[0m\u001b[0mlog\u001b[0m\u001b[0;34m.\u001b[0m\u001b[0mwarning\u001b[0m\u001b[0;34m(\u001b[0m\u001b[0;34m\"Invalid Message:\"\u001b[0m\u001b[0;34m,\u001b[0m \u001b[0mexc_info\u001b[0m\u001b[0;34m=\u001b[0m\u001b[0;32mTrue\u001b[0m\u001b[0;34m)\u001b[0m\u001b[0;34m\u001b[0m\u001b[0;34m\u001b[0m\u001b[0m\n",
            "\u001b[0;31mKeyboardInterrupt\u001b[0m: Interrupted by user"
          ]
        }
      ]
    },
    {
      "cell_type": "code",
      "source": [
        "00"
      ],
      "metadata": {
        "id": "DLCWn3_kVudF"
      },
      "execution_count": null,
      "outputs": []
    },
    {
      "cell_type": "code",
      "source": [
        "features = {\"stopping execution\", \"panic stopping\", \"ras app\", \"tlb error\", \"read message\", \"app fatal\", \"ras kernel\", \"fatal ciod\", \"ciod failed\", \"rts panic\", \"fatal data\", \"message prefix\", \"ciostream socket\", \"nc nc\", \"interrupt ras\", \"kernel fatal\", \"control stream\", \"fatal rts\", \"data tlb\", \"stream ciostream\", \"error interrupt\"}"
      ],
      "metadata": {
        "id": "uEqVcvEp8MoE"
      },
      "execution_count": null,
      "outputs": []
    },
    {
      "cell_type": "code",
      "source": [
        "ftr=set()\n",
        "for i in features:\n",
        "  for x in i.split(\" \"):\n",
        "    ftr.add(x)"
      ],
      "metadata": {
        "id": "IOvfEg188oCP"
      },
      "execution_count": null,
      "outputs": []
    },
    {
      "cell_type": "code",
      "source": [
        "ftr"
      ],
      "metadata": {
        "id": "RhSKyx8J-81z"
      },
      "execution_count": null,
      "outputs": []
    },
    {
      "cell_type": "code",
      "source": [
        "ctr=0\n",
        "for i in ftr:\n",
        "  df[i] = df['logf'].apply(lambda x:1 if i in x.lower() else 0)\n",
        "  print((ctr+1)/len(ftr))\n",
        "  ctr+=1"
      ],
      "metadata": {
        "colab": {
          "base_uri": "https://localhost:8080/"
        },
        "id": "5wk97RFvBr6H",
        "outputId": "2fb63e1a-1fa5-4f86-88fc-764e31f2d8a0"
      },
      "execution_count": null,
      "outputs": [
        {
          "output_type": "stream",
          "name": "stdout",
          "text": [
            "0.045454545454545456\n",
            "0.09090909090909091\n",
            "0.13636363636363635\n",
            "0.18181818181818182\n",
            "0.22727272727272727\n",
            "0.2727272727272727\n",
            "0.3181818181818182\n",
            "0.36363636363636365\n",
            "0.4090909090909091\n",
            "0.45454545454545453\n",
            "0.5\n",
            "0.5454545454545454\n",
            "0.5909090909090909\n",
            "0.6363636363636364\n",
            "0.6818181818181818\n",
            "0.7272727272727273\n",
            "0.7727272727272727\n",
            "0.8181818181818182\n",
            "0.8636363636363636\n",
            "0.9090909090909091\n",
            "0.9545454545454546\n",
            "1.0\n"
          ]
        }
      ]
    },
    {
      "cell_type": "code",
      "source": [
        "df"
      ],
      "metadata": {
        "id": "zNXJ4MFFCClp"
      },
      "execution_count": null,
      "outputs": []
    },
    {
      "cell_type": "code",
      "source": [],
      "metadata": {
        "colab": {
          "base_uri": "https://localhost:8080/",
          "height": 171
        },
        "id": "VKtz9enWUvgq",
        "outputId": "0ae986b1-e93e-41f6-ee57-48041c870e05"
      },
      "execution_count": null,
      "outputs": [
        {
          "output_type": "error",
          "ename": "NameError",
          "evalue": "ignored",
          "traceback": [
            "\u001b[0;31m---------------------------------------------------------------------------\u001b[0m",
            "\u001b[0;31mNameError\u001b[0m                                 Traceback (most recent call last)",
            "\u001b[0;32m<ipython-input-16-b9842f2b8293>\u001b[0m in \u001b[0;36m<module>\u001b[0;34m\u001b[0m\n\u001b[0;32m----> 1\u001b[0;31m \u001b[0mdf_t\u001b[0m\u001b[0;34m\u001b[0m\u001b[0;34m\u001b[0m\u001b[0m\n\u001b[0m",
            "\u001b[0;31mNameError\u001b[0m: name 'df_t' is not defined"
          ]
        }
      ]
    },
    {
      "cell_type": "code",
      "source": [
        "X = df[df.columns[3:]]\n",
        "y = df['ans'].apply(lambda x:1 if (x=='normal') else 0)"
      ],
      "metadata": {
        "id": "B0Nssk3qCJuk"
      },
      "execution_count": null,
      "outputs": []
    },
    {
      "cell_type": "code",
      "source": [
        "from sklearn.model_selection import train_test_split\n",
        "X_train, X_test, y_train, y_test = train_test_split(X, y, test_size = 0.2)"
      ],
      "metadata": {
        "id": "iO84y-b_CxRc"
      },
      "execution_count": null,
      "outputs": []
    },
    {
      "cell_type": "code",
      "source": [
        "from sklearn.tree import DecisionTreeClassifier\n",
        "clf = DecisionTreeClassifier(random_state=0)"
      ],
      "metadata": {
        "id": "SYXnuKmKCyqf"
      },
      "execution_count": null,
      "outputs": []
    },
    {
      "cell_type": "code",
      "source": [
        "clf.fit(X_train, y_train)"
      ],
      "metadata": {
        "colab": {
          "base_uri": "https://localhost:8080/"
        },
        "id": "hVEYsjV9DLd7",
        "outputId": "d5726c15-8493-4f01-92bf-1bda6118e9bd"
      },
      "execution_count": null,
      "outputs": [
        {
          "output_type": "execute_result",
          "data": {
            "text/plain": [
              "DecisionTreeClassifier(random_state=0)"
            ]
          },
          "metadata": {},
          "execution_count": 103
        }
      ]
    },
    {
      "cell_type": "code",
      "source": [
        "y_pred = clf.predict(X)"
      ],
      "metadata": {
        "id": "mo6SPfGQDOf3"
      },
      "execution_count": null,
      "outputs": []
    },
    {
      "cell_type": "code",
      "source": [
        "from sklearn.metrics import classification_report\n",
        "print(classification_report(y, y_pred))"
      ],
      "metadata": {
        "colab": {
          "base_uri": "https://localhost:8080/"
        },
        "id": "ZoR9YbVHDSSK",
        "outputId": "cd7fb3c4-0dd6-4270-85f7-ace1187ec5c4"
      },
      "execution_count": null,
      "outputs": [
        {
          "output_type": "stream",
          "name": "stdout",
          "text": [
            "              precision    recall  f1-score   support\n",
            "\n",
            "           0       1.00      1.00      1.00     69692\n",
            "           1       1.00      1.00      1.00   4082967\n",
            "\n",
            "    accuracy                           1.00   4152659\n",
            "   macro avg       1.00      1.00      1.00   4152659\n",
            "weighted avg       1.00      1.00      1.00   4152659\n",
            "\n"
          ]
        }
      ]
    },
    {
      "cell_type": "code",
      "source": [
        "df_test = pd.read_csv(\"/content/convolve-epoch1/convolve-epoch1/test.csv\")"
      ],
      "metadata": {
        "id": "MGcCnfvADZKc"
      },
      "execution_count": null,
      "outputs": []
    },
    {
      "cell_type": "code",
      "source": [
        "df_test['logf'] = df_test[' Log'].apply(lambda x:' '.join([x for x in re.sub('[^a-zA-Z]+', ' ', x).split(' ') if len(x)>1]))"
      ],
      "metadata": {
        "id": "zv6OgDe4Du7s"
      },
      "execution_count": null,
      "outputs": []
    },
    {
      "cell_type": "code",
      "source": [
        "ctr=0\n",
        "for i in ftr:\n",
        "  df_test[i] = df_test['logf'].apply(lambda x:1 if i in x else 0)\n",
        "  print((ctr+1)/len(ftr))\n",
        "  ctr+=1"
      ],
      "metadata": {
        "id": "BBLKZ6FpD4IG",
        "colab": {
          "base_uri": "https://localhost:8080/"
        },
        "outputId": "2d874637-6643-46c2-c531-ac1c617adb46"
      },
      "execution_count": null,
      "outputs": [
        {
          "output_type": "stream",
          "name": "stdout",
          "text": [
            "0.045454545454545456\n",
            "0.09090909090909091\n",
            "0.13636363636363635\n",
            "0.18181818181818182\n",
            "0.22727272727272727\n",
            "0.2727272727272727\n",
            "0.3181818181818182\n",
            "0.36363636363636365\n",
            "0.4090909090909091\n",
            "0.45454545454545453\n",
            "0.5\n",
            "0.5454545454545454\n",
            "0.5909090909090909\n",
            "0.6363636363636364\n",
            "0.6818181818181818\n",
            "0.7272727272727273\n",
            "0.7727272727272727\n",
            "0.8181818181818182\n",
            "0.8636363636363636\n",
            "0.9090909090909091\n",
            "0.9545454545454546\n",
            "1.0\n"
          ]
        }
      ]
    },
    {
      "cell_type": "code",
      "source": [
        "df['test']"
      ],
      "metadata": {
        "id": "s0LmsrK9VTxx"
      },
      "execution_count": null,
      "outputs": []
    },
    {
      "cell_type": "code",
      "source": [
        "df_test['enc'] = df['socket']+df['control']"
      ],
      "metadata": {
        "id": "eaiAssrsVBN7"
      },
      "execution_count": null,
      "outputs": []
    },
    {
      "cell_type": "code",
      "source": [],
      "metadata": {
        "id": "RRwtm9a9VBCr"
      },
      "execution_count": null,
      "outputs": []
    },
    {
      "cell_type": "code",
      "source": [],
      "metadata": {
        "id": "ft4LHXMhVAyL"
      },
      "execution_count": null,
      "outputs": []
    },
    {
      "cell_type": "code",
      "source": [],
      "metadata": {
        "id": "6em9dwCvVAON"
      },
      "execution_count": null,
      "outputs": []
    },
    {
      "cell_type": "code",
      "source": [
        "ans_pred = clf.predict(df_test[df_test.columns[3:]])"
      ],
      "metadata": {
        "id": "jNWXz6saEHYc"
      },
      "execution_count": null,
      "outputs": []
    },
    {
      "cell_type": "code",
      "source": [
        "df_ans = pd.DataFrame(data = df_test['ID'])"
      ],
      "metadata": {
        "id": "oQposJlLEJ6I"
      },
      "execution_count": null,
      "outputs": []
    },
    {
      "cell_type": "code",
      "source": [
        "df_ans[' Label'] = pd.Series(ans_pred).apply(lambda x:\"normal\" if x==1 else \"abnormal\")"
      ],
      "metadata": {
        "id": "lXcsB7azEWjG"
      },
      "execution_count": null,
      "outputs": []
    },
    {
      "cell_type": "code",
      "source": [
        "from copy import copy\n",
        "df_tmp = copy(df_test)\n",
        "df_tmp[' Label'] = pd.Series(ans_pred).apply(lambda x:\"normal\" if x==1 else \"abnormal\")"
      ],
      "metadata": {
        "id": "HRC4F264IUnt"
      },
      "execution_count": null,
      "outputs": []
    },
    {
      "cell_type": "code",
      "source": [
        "df_tmp[df_tmp[' Label'] == 'abnormal']['logf'].sample(5)"
      ],
      "metadata": {
        "colab": {
          "base_uri": "https://localhost:8080/"
        },
        "id": "vB1BJokqEvAy",
        "outputId": "4f9be4d3-a56b-48de-ad78-768a4ce67d26"
      },
      "execution_count": null,
      "outputs": [
        {
          "output_type": "execute_result",
          "data": {
            "text/plain": [
              "499406        RAS KERNEL FATAL rts panic stopping execution\n",
              "15543             RAS KERNEL FATAL data TLB error interrupt\n",
              "537324            RAS KERNEL FATAL data TLB error interrupt\n",
              "200672    NC NC RAS APP FATAL ciod failed to read messag...\n",
              "46224             RAS KERNEL FATAL data TLB error interrupt\n",
              "Name: logf, dtype: object"
            ]
          },
          "metadata": {},
          "execution_count": 119
        }
      ]
    },
    {
      "cell_type": "code",
      "source": [
        "df_ans.to_csv('./ans.csv', index=False)"
      ],
      "metadata": {
        "id": "AV9D2Pg9FL7V"
      },
      "execution_count": null,
      "outputs": []
    },
    {
      "cell_type": "code",
      "source": [
        "pd.set_option('max_colwidth', 400)\n",
        "df_test['logf'].value_counts()[:10]"
      ],
      "metadata": {
        "colab": {
          "base_uri": "https://localhost:8080/"
        },
        "id": "Oi5oynBrFcGE",
        "outputId": "8c717d04-5fbf-4951-82f2-7a258cfea6c8"
      },
      "execution_count": null,
      "outputs": [
        {
          "output_type": "execute_result",
          "data": {
            "text/plain": [
              "RAS KERNEL FATAL data TLB error interrupt                   152540\n",
              "RAS KERNEL INFO generating core                             117649\n",
              "RAS KERNEL FATAL data storage interrupt                      39680\n",
              "RAS KERNEL FATAL instruction address ed                      28245\n",
              "RAS KERNEL INFO instruction cache parity error corrected     22617\n",
              "RAS KERNEL FATAL Lustre mount FAILED bglio point gb          16453\n",
              "NB NB RAS KERNEL INFO generating core                        12286\n",
              "NA NA RAS KERNEL INFO generating core                        12156\n",
              "ND ND RAS KERNEL INFO generating core                        11946\n",
              "NC NC RAS KERNEL INFO generating core                        11827\n",
              "Name: logf, dtype: int64"
            ]
          },
          "metadata": {},
          "execution_count": 121
        }
      ]
    },
    {
      "cell_type": "code",
      "source": [
        "df_tmp[df_tmp[' Label']=='normal'][' Log'][364015]"
      ],
      "metadata": {
        "colab": {
          "base_uri": "https://localhost:8080/",
          "height": 36
        },
        "id": "ACYsQHsCGf3b",
        "outputId": "2462aafa-d5ee-431b-cf8f-9fa21cd1cf02"
      },
      "execution_count": null,
      "outputs": [
        {
          "output_type": "execute_result",
          "data": {
            "text/plain": [
              "' 1118768143 2005.06.14 R24-M0-NB-C:J14-U11 2005-06-14-09.55.43.369485 R24-M0-NB-C:J14-U11 RAS KERNEL FATAL data address: 0x00000002\\n'"
            ],
            "application/vnd.google.colaboratory.intrinsic+json": {
              "type": "string"
            }
          },
          "metadata": {},
          "execution_count": 130
        }
      ]
    },
    {
      "cell_type": "code",
      "source": [
        "k = df_test[list(ftr)[0]]==0\n",
        "for i in [(df[i]==0)for i in ftr]:\n",
        "  k = k&i"
      ],
      "metadata": {
        "id": "l34AuFHXHJi1"
      },
      "execution_count": null,
      "outputs": []
    },
    {
      "cell_type": "code",
      "source": [
        "df[k]"
      ],
      "metadata": {
        "id": "eVm39dfXHVGq"
      },
      "execution_count": null,
      "outputs": []
    },
    {
      "cell_type": "code",
      "source": [],
      "metadata": {
        "id": "c8JfppayZu0t"
      },
      "execution_count": null,
      "outputs": []
    },
    {
      "cell_type": "code",
      "source": [
        "df_ans.head()"
      ],
      "metadata": {
        "colab": {
          "base_uri": "https://localhost:8080/",
          "height": 206
        },
        "id": "VBA_6SEigbZo",
        "outputId": "89dde03c-77a5-4d94-88b2-3c6a1f51f909"
      },
      "execution_count": null,
      "outputs": [
        {
          "output_type": "execute_result",
          "data": {
            "text/plain": [
              "   ID     Label\n",
              "0   0  abnormal\n",
              "1   1  abnormal\n",
              "2   2  abnormal\n",
              "3   3    normal\n",
              "4   4  abnormal"
            ],
            "text/html": [
              "\n",
              "  <div id=\"df-e83be725-c2ce-45de-9883-1d7805380c98\">\n",
              "    <div class=\"colab-df-container\">\n",
              "      <div>\n",
              "<style scoped>\n",
              "    .dataframe tbody tr th:only-of-type {\n",
              "        vertical-align: middle;\n",
              "    }\n",
              "\n",
              "    .dataframe tbody tr th {\n",
              "        vertical-align: top;\n",
              "    }\n",
              "\n",
              "    .dataframe thead th {\n",
              "        text-align: right;\n",
              "    }\n",
              "</style>\n",
              "<table border=\"1\" class=\"dataframe\">\n",
              "  <thead>\n",
              "    <tr style=\"text-align: right;\">\n",
              "      <th></th>\n",
              "      <th>ID</th>\n",
              "      <th>Label</th>\n",
              "    </tr>\n",
              "  </thead>\n",
              "  <tbody>\n",
              "    <tr>\n",
              "      <th>0</th>\n",
              "      <td>0</td>\n",
              "      <td>abnormal</td>\n",
              "    </tr>\n",
              "    <tr>\n",
              "      <th>1</th>\n",
              "      <td>1</td>\n",
              "      <td>abnormal</td>\n",
              "    </tr>\n",
              "    <tr>\n",
              "      <th>2</th>\n",
              "      <td>2</td>\n",
              "      <td>abnormal</td>\n",
              "    </tr>\n",
              "    <tr>\n",
              "      <th>3</th>\n",
              "      <td>3</td>\n",
              "      <td>normal</td>\n",
              "    </tr>\n",
              "    <tr>\n",
              "      <th>4</th>\n",
              "      <td>4</td>\n",
              "      <td>abnormal</td>\n",
              "    </tr>\n",
              "  </tbody>\n",
              "</table>\n",
              "</div>\n",
              "      <button class=\"colab-df-convert\" onclick=\"convertToInteractive('df-e83be725-c2ce-45de-9883-1d7805380c98')\"\n",
              "              title=\"Convert this dataframe to an interactive table.\"\n",
              "              style=\"display:none;\">\n",
              "        \n",
              "  <svg xmlns=\"http://www.w3.org/2000/svg\" height=\"24px\"viewBox=\"0 0 24 24\"\n",
              "       width=\"24px\">\n",
              "    <path d=\"M0 0h24v24H0V0z\" fill=\"none\"/>\n",
              "    <path d=\"M18.56 5.44l.94 2.06.94-2.06 2.06-.94-2.06-.94-.94-2.06-.94 2.06-2.06.94zm-11 1L8.5 8.5l.94-2.06 2.06-.94-2.06-.94L8.5 2.5l-.94 2.06-2.06.94zm10 10l.94 2.06.94-2.06 2.06-.94-2.06-.94-.94-2.06-.94 2.06-2.06.94z\"/><path d=\"M17.41 7.96l-1.37-1.37c-.4-.4-.92-.59-1.43-.59-.52 0-1.04.2-1.43.59L10.3 9.45l-7.72 7.72c-.78.78-.78 2.05 0 2.83L4 21.41c.39.39.9.59 1.41.59.51 0 1.02-.2 1.41-.59l7.78-7.78 2.81-2.81c.8-.78.8-2.07 0-2.86zM5.41 20L4 18.59l7.72-7.72 1.47 1.35L5.41 20z\"/>\n",
              "  </svg>\n",
              "      </button>\n",
              "      \n",
              "  <style>\n",
              "    .colab-df-container {\n",
              "      display:flex;\n",
              "      flex-wrap:wrap;\n",
              "      gap: 12px;\n",
              "    }\n",
              "\n",
              "    .colab-df-convert {\n",
              "      background-color: #E8F0FE;\n",
              "      border: none;\n",
              "      border-radius: 50%;\n",
              "      cursor: pointer;\n",
              "      display: none;\n",
              "      fill: #1967D2;\n",
              "      height: 32px;\n",
              "      padding: 0 0 0 0;\n",
              "      width: 32px;\n",
              "    }\n",
              "\n",
              "    .colab-df-convert:hover {\n",
              "      background-color: #E2EBFA;\n",
              "      box-shadow: 0px 1px 2px rgba(60, 64, 67, 0.3), 0px 1px 3px 1px rgba(60, 64, 67, 0.15);\n",
              "      fill: #174EA6;\n",
              "    }\n",
              "\n",
              "    [theme=dark] .colab-df-convert {\n",
              "      background-color: #3B4455;\n",
              "      fill: #D2E3FC;\n",
              "    }\n",
              "\n",
              "    [theme=dark] .colab-df-convert:hover {\n",
              "      background-color: #434B5C;\n",
              "      box-shadow: 0px 1px 3px 1px rgba(0, 0, 0, 0.15);\n",
              "      filter: drop-shadow(0px 1px 2px rgba(0, 0, 0, 0.3));\n",
              "      fill: #FFFFFF;\n",
              "    }\n",
              "  </style>\n",
              "\n",
              "      <script>\n",
              "        const buttonEl =\n",
              "          document.querySelector('#df-e83be725-c2ce-45de-9883-1d7805380c98 button.colab-df-convert');\n",
              "        buttonEl.style.display =\n",
              "          google.colab.kernel.accessAllowed ? 'block' : 'none';\n",
              "\n",
              "        async function convertToInteractive(key) {\n",
              "          const element = document.querySelector('#df-e83be725-c2ce-45de-9883-1d7805380c98');\n",
              "          const dataTable =\n",
              "            await google.colab.kernel.invokeFunction('convertToInteractive',\n",
              "                                                     [key], {});\n",
              "          if (!dataTable) return;\n",
              "\n",
              "          const docLinkHtml = 'Like what you see? Visit the ' +\n",
              "            '<a target=\"_blank\" href=https://colab.research.google.com/notebooks/data_table.ipynb>data table notebook</a>'\n",
              "            + ' to learn more about interactive tables.';\n",
              "          element.innerHTML = '';\n",
              "          dataTable['output_type'] = 'display_data';\n",
              "          await google.colab.output.renderOutput(dataTable, element);\n",
              "          const docLink = document.createElement('div');\n",
              "          docLink.innerHTML = docLinkHtml;\n",
              "          element.appendChild(docLink);\n",
              "        }\n",
              "      </script>\n",
              "    </div>\n",
              "  </div>\n",
              "  "
            ]
          },
          "metadata": {},
          "execution_count": 119
        }
      ]
    },
    {
      "cell_type": "code",
      "source": [
        "df_ans = dft.drop([' Log', 'logf'], axis=1)"
      ],
      "metadata": {
        "id": "yLFqwg9Ggli5"
      },
      "execution_count": null,
      "outputs": []
    },
    {
      "cell_type": "code",
      "source": [
        "df_ans.columns = ['ID', ' Label']"
      ],
      "metadata": {
        "id": "yDLGZivbtW3a"
      },
      "execution_count": null,
      "outputs": []
    },
    {
      "cell_type": "code",
      "source": [
        "df_ans.to_csv('./ans.csv', index=False)"
      ],
      "metadata": {
        "id": "EVgDrFPltdja"
      },
      "execution_count": null,
      "outputs": []
    },
    {
      "cell_type": "code",
      "source": [],
      "metadata": {
        "id": "raim6gWDtu3X"
      },
      "execution_count": null,
      "outputs": []
    }
  ]
}