{
  "nbformat": 4,
  "nbformat_minor": 0,
  "metadata": {
    "colab": {
      "provenance": []
    },
    "kernelspec": {
      "name": "python3",
      "display_name": "Python 3"
    },
    "language_info": {
      "name": "python"
    },
    "accelerator": "GPU",
    "gpuClass": "standard",
    "widgets": {
      "application/vnd.jupyter.widget-state+json": {
        "964f4096e9974778a8221b03ec4fa838": {
          "model_module": "@jupyter-widgets/controls",
          "model_name": "HBoxModel",
          "model_module_version": "1.5.0",
          "state": {
            "_dom_classes": [],
            "_model_module": "@jupyter-widgets/controls",
            "_model_module_version": "1.5.0",
            "_model_name": "HBoxModel",
            "_view_count": null,
            "_view_module": "@jupyter-widgets/controls",
            "_view_module_version": "1.5.0",
            "_view_name": "HBoxView",
            "box_style": "",
            "children": [
              "IPY_MODEL_9403cbea945d4dfab599a856dcd22536",
              "IPY_MODEL_fe26d07e88964d8e9addaf3fd242b368",
              "IPY_MODEL_22fe223c586e4f6ca335d8ebb53ae380"
            ],
            "layout": "IPY_MODEL_6b93c83dc4e74b37a7569af7bf8031c3"
          }
        },
        "9403cbea945d4dfab599a856dcd22536": {
          "model_module": "@jupyter-widgets/controls",
          "model_name": "HTMLModel",
          "model_module_version": "1.5.0",
          "state": {
            "_dom_classes": [],
            "_model_module": "@jupyter-widgets/controls",
            "_model_module_version": "1.5.0",
            "_model_name": "HTMLModel",
            "_view_count": null,
            "_view_module": "@jupyter-widgets/controls",
            "_view_module_version": "1.5.0",
            "_view_name": "HTMLView",
            "description": "",
            "description_tooltip": null,
            "layout": "IPY_MODEL_a0b1457e10fa471ca3f1f2f9dabe4840",
            "placeholder": "​",
            "style": "IPY_MODEL_5902e414cd6f49ff9cc93ec145034c30",
            "value": "Batches: 100%"
          }
        },
        "fe26d07e88964d8e9addaf3fd242b368": {
          "model_module": "@jupyter-widgets/controls",
          "model_name": "FloatProgressModel",
          "model_module_version": "1.5.0",
          "state": {
            "_dom_classes": [],
            "_model_module": "@jupyter-widgets/controls",
            "_model_module_version": "1.5.0",
            "_model_name": "FloatProgressModel",
            "_view_count": null,
            "_view_module": "@jupyter-widgets/controls",
            "_view_module_version": "1.5.0",
            "_view_name": "ProgressView",
            "bar_style": "success",
            "description": "",
            "description_tooltip": null,
            "layout": "IPY_MODEL_78701abfde6c416d9596590f744add4c",
            "max": 18604,
            "min": 0,
            "orientation": "horizontal",
            "style": "IPY_MODEL_16b82ca69e1c4092a18a087708de032b",
            "value": 18604
          }
        },
        "22fe223c586e4f6ca335d8ebb53ae380": {
          "model_module": "@jupyter-widgets/controls",
          "model_name": "HTMLModel",
          "model_module_version": "1.5.0",
          "state": {
            "_dom_classes": [],
            "_model_module": "@jupyter-widgets/controls",
            "_model_module_version": "1.5.0",
            "_model_name": "HTMLModel",
            "_view_count": null,
            "_view_module": "@jupyter-widgets/controls",
            "_view_module_version": "1.5.0",
            "_view_name": "HTMLView",
            "description": "",
            "description_tooltip": null,
            "layout": "IPY_MODEL_77222d2e90bd4c6d9fee5f0696d32efe",
            "placeholder": "​",
            "style": "IPY_MODEL_9d1a498b70254af3b8736697d6e6a4b5",
            "value": " 18604/18604 [07:19&lt;00:00, 45.59it/s]"
          }
        },
        "6b93c83dc4e74b37a7569af7bf8031c3": {
          "model_module": "@jupyter-widgets/base",
          "model_name": "LayoutModel",
          "model_module_version": "1.2.0",
          "state": {
            "_model_module": "@jupyter-widgets/base",
            "_model_module_version": "1.2.0",
            "_model_name": "LayoutModel",
            "_view_count": null,
            "_view_module": "@jupyter-widgets/base",
            "_view_module_version": "1.2.0",
            "_view_name": "LayoutView",
            "align_content": null,
            "align_items": null,
            "align_self": null,
            "border": null,
            "bottom": null,
            "display": null,
            "flex": null,
            "flex_flow": null,
            "grid_area": null,
            "grid_auto_columns": null,
            "grid_auto_flow": null,
            "grid_auto_rows": null,
            "grid_column": null,
            "grid_gap": null,
            "grid_row": null,
            "grid_template_areas": null,
            "grid_template_columns": null,
            "grid_template_rows": null,
            "height": null,
            "justify_content": null,
            "justify_items": null,
            "left": null,
            "margin": null,
            "max_height": null,
            "max_width": null,
            "min_height": null,
            "min_width": null,
            "object_fit": null,
            "object_position": null,
            "order": null,
            "overflow": null,
            "overflow_x": null,
            "overflow_y": null,
            "padding": null,
            "right": null,
            "top": null,
            "visibility": null,
            "width": null
          }
        },
        "a0b1457e10fa471ca3f1f2f9dabe4840": {
          "model_module": "@jupyter-widgets/base",
          "model_name": "LayoutModel",
          "model_module_version": "1.2.0",
          "state": {
            "_model_module": "@jupyter-widgets/base",
            "_model_module_version": "1.2.0",
            "_model_name": "LayoutModel",
            "_view_count": null,
            "_view_module": "@jupyter-widgets/base",
            "_view_module_version": "1.2.0",
            "_view_name": "LayoutView",
            "align_content": null,
            "align_items": null,
            "align_self": null,
            "border": null,
            "bottom": null,
            "display": null,
            "flex": null,
            "flex_flow": null,
            "grid_area": null,
            "grid_auto_columns": null,
            "grid_auto_flow": null,
            "grid_auto_rows": null,
            "grid_column": null,
            "grid_gap": null,
            "grid_row": null,
            "grid_template_areas": null,
            "grid_template_columns": null,
            "grid_template_rows": null,
            "height": null,
            "justify_content": null,
            "justify_items": null,
            "left": null,
            "margin": null,
            "max_height": null,
            "max_width": null,
            "min_height": null,
            "min_width": null,
            "object_fit": null,
            "object_position": null,
            "order": null,
            "overflow": null,
            "overflow_x": null,
            "overflow_y": null,
            "padding": null,
            "right": null,
            "top": null,
            "visibility": null,
            "width": null
          }
        },
        "5902e414cd6f49ff9cc93ec145034c30": {
          "model_module": "@jupyter-widgets/controls",
          "model_name": "DescriptionStyleModel",
          "model_module_version": "1.5.0",
          "state": {
            "_model_module": "@jupyter-widgets/controls",
            "_model_module_version": "1.5.0",
            "_model_name": "DescriptionStyleModel",
            "_view_count": null,
            "_view_module": "@jupyter-widgets/base",
            "_view_module_version": "1.2.0",
            "_view_name": "StyleView",
            "description_width": ""
          }
        },
        "78701abfde6c416d9596590f744add4c": {
          "model_module": "@jupyter-widgets/base",
          "model_name": "LayoutModel",
          "model_module_version": "1.2.0",
          "state": {
            "_model_module": "@jupyter-widgets/base",
            "_model_module_version": "1.2.0",
            "_model_name": "LayoutModel",
            "_view_count": null,
            "_view_module": "@jupyter-widgets/base",
            "_view_module_version": "1.2.0",
            "_view_name": "LayoutView",
            "align_content": null,
            "align_items": null,
            "align_self": null,
            "border": null,
            "bottom": null,
            "display": null,
            "flex": null,
            "flex_flow": null,
            "grid_area": null,
            "grid_auto_columns": null,
            "grid_auto_flow": null,
            "grid_auto_rows": null,
            "grid_column": null,
            "grid_gap": null,
            "grid_row": null,
            "grid_template_areas": null,
            "grid_template_columns": null,
            "grid_template_rows": null,
            "height": null,
            "justify_content": null,
            "justify_items": null,
            "left": null,
            "margin": null,
            "max_height": null,
            "max_width": null,
            "min_height": null,
            "min_width": null,
            "object_fit": null,
            "object_position": null,
            "order": null,
            "overflow": null,
            "overflow_x": null,
            "overflow_y": null,
            "padding": null,
            "right": null,
            "top": null,
            "visibility": null,
            "width": null
          }
        },
        "16b82ca69e1c4092a18a087708de032b": {
          "model_module": "@jupyter-widgets/controls",
          "model_name": "ProgressStyleModel",
          "model_module_version": "1.5.0",
          "state": {
            "_model_module": "@jupyter-widgets/controls",
            "_model_module_version": "1.5.0",
            "_model_name": "ProgressStyleModel",
            "_view_count": null,
            "_view_module": "@jupyter-widgets/base",
            "_view_module_version": "1.2.0",
            "_view_name": "StyleView",
            "bar_color": null,
            "description_width": ""
          }
        },
        "77222d2e90bd4c6d9fee5f0696d32efe": {
          "model_module": "@jupyter-widgets/base",
          "model_name": "LayoutModel",
          "model_module_version": "1.2.0",
          "state": {
            "_model_module": "@jupyter-widgets/base",
            "_model_module_version": "1.2.0",
            "_model_name": "LayoutModel",
            "_view_count": null,
            "_view_module": "@jupyter-widgets/base",
            "_view_module_version": "1.2.0",
            "_view_name": "LayoutView",
            "align_content": null,
            "align_items": null,
            "align_self": null,
            "border": null,
            "bottom": null,
            "display": null,
            "flex": null,
            "flex_flow": null,
            "grid_area": null,
            "grid_auto_columns": null,
            "grid_auto_flow": null,
            "grid_auto_rows": null,
            "grid_column": null,
            "grid_gap": null,
            "grid_row": null,
            "grid_template_areas": null,
            "grid_template_columns": null,
            "grid_template_rows": null,
            "height": null,
            "justify_content": null,
            "justify_items": null,
            "left": null,
            "margin": null,
            "max_height": null,
            "max_width": null,
            "min_height": null,
            "min_width": null,
            "object_fit": null,
            "object_position": null,
            "order": null,
            "overflow": null,
            "overflow_x": null,
            "overflow_y": null,
            "padding": null,
            "right": null,
            "top": null,
            "visibility": null,
            "width": null
          }
        },
        "9d1a498b70254af3b8736697d6e6a4b5": {
          "model_module": "@jupyter-widgets/controls",
          "model_name": "DescriptionStyleModel",
          "model_module_version": "1.5.0",
          "state": {
            "_model_module": "@jupyter-widgets/controls",
            "_model_module_version": "1.5.0",
            "_model_name": "DescriptionStyleModel",
            "_view_count": null,
            "_view_module": "@jupyter-widgets/base",
            "_view_module_version": "1.2.0",
            "_view_name": "StyleView",
            "description_width": ""
          }
        }
      }
    }
  },
  "cells": [
    {
      "cell_type": "code",
      "execution_count": null,
      "metadata": {
        "colab": {
          "base_uri": "https://localhost:8080/"
        },
        "id": "RqD4Z4XztoJd",
        "outputId": "fbea8105-4fb3-4765-d1ac-03be5868a751"
      },
      "outputs": [
        {
          "output_type": "stream",
          "name": "stdout",
          "text": [
            "Looking in indexes: https://pypi.org/simple, https://us-python.pkg.dev/colab-wheels/public/simple/\n",
            "Collecting opendatasets\n",
            "  Downloading opendatasets-0.1.22-py3-none-any.whl (15 kB)\n",
            "Requirement already satisfied: kaggle in /usr/local/lib/python3.8/dist-packages (from opendatasets) (1.5.12)\n",
            "Requirement already satisfied: tqdm in /usr/local/lib/python3.8/dist-packages (from opendatasets) (4.64.1)\n",
            "Requirement already satisfied: click in /usr/local/lib/python3.8/dist-packages (from opendatasets) (7.1.2)\n",
            "Requirement already satisfied: six>=1.10 in /usr/local/lib/python3.8/dist-packages (from kaggle->opendatasets) (1.15.0)\n",
            "Requirement already satisfied: certifi in /usr/local/lib/python3.8/dist-packages (from kaggle->opendatasets) (2022.9.24)\n",
            "Requirement already satisfied: python-dateutil in /usr/local/lib/python3.8/dist-packages (from kaggle->opendatasets) (2.8.2)\n",
            "Requirement already satisfied: requests in /usr/local/lib/python3.8/dist-packages (from kaggle->opendatasets) (2.23.0)\n",
            "Requirement already satisfied: python-slugify in /usr/local/lib/python3.8/dist-packages (from kaggle->opendatasets) (7.0.0)\n",
            "Requirement already satisfied: urllib3 in /usr/local/lib/python3.8/dist-packages (from kaggle->opendatasets) (1.24.3)\n",
            "Requirement already satisfied: text-unidecode>=1.3 in /usr/local/lib/python3.8/dist-packages (from python-slugify->kaggle->opendatasets) (1.3)\n",
            "Requirement already satisfied: idna<3,>=2.5 in /usr/local/lib/python3.8/dist-packages (from requests->kaggle->opendatasets) (2.10)\n",
            "Requirement already satisfied: chardet<4,>=3.0.2 in /usr/local/lib/python3.8/dist-packages (from requests->kaggle->opendatasets) (3.0.4)\n",
            "Installing collected packages: opendatasets\n",
            "Successfully installed opendatasets-0.1.22\n"
          ]
        }
      ],
      "source": [
        "!pip install opendatasets"
      ]
    },
    {
      "cell_type": "code",
      "source": [
        "import opendatasets as od"
      ],
      "metadata": {
        "id": "GRdozvp-twrS"
      },
      "execution_count": null,
      "outputs": []
    },
    {
      "cell_type": "code",
      "source": [
        "od.download('https://www.kaggle.com/competitions/convolve-epoch1/')"
      ],
      "metadata": {
        "colab": {
          "base_uri": "https://localhost:8080/"
        },
        "id": "bEMjyzM6tyGe",
        "outputId": "d4c09a60-58f7-4c08-9634-3b26b231e415"
      },
      "execution_count": null,
      "outputs": [
        {
          "output_type": "stream",
          "name": "stdout",
          "text": [
            "Please provide your Kaggle credentials to download this dataset. Learn more: http://bit.ly/kaggle-creds\n",
            "Your Kaggle username: sm745052\n",
            "Your Kaggle Key: ··········\n",
            "Downloading convolve-epoch1.zip to ./convolve-epoch1\n"
          ]
        },
        {
          "output_type": "stream",
          "name": "stderr",
          "text": [
            "100%|██████████| 65.9M/65.9M [00:00<00:00, 121MB/s]\n"
          ]
        },
        {
          "output_type": "stream",
          "name": "stdout",
          "text": [
            "\n",
            "Extracting archive ./convolve-epoch1/convolve-epoch1.zip to ./convolve-epoch1\n"
          ]
        }
      ]
    },
    {
      "cell_type": "code",
      "source": [
        "# !cp -r /content/drive/MyDrive/ciscodata /content/convolve-epoch1"
      ],
      "metadata": {
        "id": "S9z-LaSrt0Re"
      },
      "execution_count": null,
      "outputs": []
    },
    {
      "cell_type": "code",
      "source": [
        "import pandas as pd\n",
        "import numpy as np \n",
        "import matplotlib.pyplot as plt\n",
        "import seaborn as sns"
      ],
      "metadata": {
        "id": "ByQBY9kouPs0"
      },
      "execution_count": null,
      "outputs": []
    },
    {
      "cell_type": "code",
      "source": [
        "df_test = pd.read_csv('/content/convolve-epoch1/convolve-epoch1/test.csv')"
      ],
      "metadata": {
        "id": "rLpi4m5WuheH"
      },
      "execution_count": null,
      "outputs": []
    },
    {
      "cell_type": "code",
      "source": [
        "df_test.head(5)[' Log'][0]"
      ],
      "metadata": {
        "colab": {
          "base_uri": "https://localhost:8080/",
          "height": 36
        },
        "id": "_356qXzHulpU",
        "outputId": "8035361d-81d2-4929-8c37-c1b63aaa8730"
      },
      "execution_count": null,
      "outputs": [
        {
          "output_type": "execute_result",
          "data": {
            "text/plain": [
              "' 1124336301 2005.08.17 R13-M1-N8-C:J12-U01 2005-08-17-20.38.21.466368 R13-M1-N8-C:J12-U01 RAS KERNEL FATAL rts: kernel terminated for reason 1001\\n'"
            ],
            "application/vnd.google.colaboratory.intrinsic+json": {
              "type": "string"
            }
          },
          "metadata": {},
          "execution_count": 60
        }
      ]
    },
    {
      "cell_type": "code",
      "source": [
        "\n",
        "# Python program to read\n",
        "# json file\n",
        "  \n",
        "  \n",
        "import json\n",
        "  \n",
        "# Opening JSON file\n",
        "f = open('/content/convolve-epoch1/convolve-epoch1/train.json')\n",
        "  \n",
        "# returns JSON object as \n",
        "# a dictionary\n",
        "data = json.load(f)\n",
        "\n",
        "# Closing file\n",
        "f.close()"
      ],
      "metadata": {
        "id": "PEAL0YT9vFhW"
      },
      "execution_count": null,
      "outputs": []
    },
    {
      "cell_type": "code",
      "source": [
        "df = pd.DataFrame({'count': data})"
      ],
      "metadata": {
        "id": "N6sDvaoivNu5"
      },
      "execution_count": null,
      "outputs": []
    },
    {
      "cell_type": "code",
      "source": [
        "df.reset_index(inplace = True)"
      ],
      "metadata": {
        "id": "XeHe7dnbvRW2"
      },
      "execution_count": null,
      "outputs": []
    },
    {
      "cell_type": "code",
      "source": [
        "df.columns = ['log', 'ans']"
      ],
      "metadata": {
        "id": "6rQf5OxgwVZ0"
      },
      "execution_count": null,
      "outputs": []
    },
    {
      "cell_type": "code",
      "source": [
        "df['log'][:10000].apply(lambda x:x.split(' '))[10000-1]"
      ],
      "metadata": {
        "colab": {
          "base_uri": "https://localhost:8080/"
        },
        "id": "RIpH3BK28g5z",
        "outputId": "218dae4a-81fd-40fb-dc6b-9e960c6a32cc"
      },
      "execution_count": null,
      "outputs": [
        {
          "output_type": "execute_result",
          "data": {
            "text/plain": [
              "['',\n",
              " '1117845126',\n",
              " '2005.06.03',\n",
              " 'R20-M0-N5-C:J07-U11',\n",
              " '2005-06-03-17.32.06.578148',\n",
              " 'R20-M0-N5-C:J07-U11',\n",
              " 'RAS',\n",
              " 'KERNEL',\n",
              " 'INFO',\n",
              " 'generating',\n",
              " 'core.3514\\n']"
            ]
          },
          "metadata": {},
          "execution_count": 63
        }
      ]
    },
    {
      "cell_type": "code",
      "source": [
        "len(df)"
      ],
      "metadata": {
        "colab": {
          "base_uri": "https://localhost:8080/"
        },
        "id": "OU7ZKucb9k_X",
        "outputId": "ef5dfb1a-5de8-45ad-f6d7-65a016959e32"
      },
      "execution_count": null,
      "outputs": [
        {
          "output_type": "execute_result",
          "data": {
            "text/plain": [
              "4152659"
            ]
          },
          "metadata": {},
          "execution_count": 65
        }
      ]
    },
    {
      "cell_type": "code",
      "source": [
        "df['log'][-10000:].apply(lambda x:x.split(' '))[4142660]"
      ],
      "metadata": {
        "colab": {
          "base_uri": "https://localhost:8080/"
        },
        "id": "7Ov1kiVc8hey",
        "outputId": "356868f9-2095-493e-f7d2-b628934b55f4"
      },
      "execution_count": null,
      "outputs": [
        {
          "output_type": "execute_result",
          "data": {
            "text/plain": [
              "['1118543935',\n",
              " '2005.06.11',\n",
              " 'R30-M0-N9-C:J16-U01',\n",
              " '2005-06-11-19.38.55.803915',\n",
              " 'R30-M0-N9-C:J16-U01',\n",
              " 'RAS',\n",
              " 'KERNEL',\n",
              " 'FATAL',\n",
              " 'data',\n",
              " 'TLB',\n",
              " 'error',\n",
              " 'interrupt']"
            ]
          },
          "metadata": {},
          "execution_count": 69
        }
      ]
    },
    {
      "cell_type": "code",
      "source": [],
      "metadata": {
        "id": "_rHdurFB9Zys"
      },
      "execution_count": null,
      "outputs": []
    },
    {
      "cell_type": "code",
      "source": [
        "df['logi'] = df['log'].apply(lambda x:' '.join(x.strip().split(' ')[5:8]))"
      ],
      "metadata": {
        "id": "9SkO5mOa_YAY"
      },
      "execution_count": null,
      "outputs": []
    },
    {
      "cell_type": "code",
      "source": [
        "df['logm'] = df['log'].apply(lambda x:' '.join(x.strip().split(' ')[8:]))"
      ],
      "metadata": {
        "id": "B4rzPpRb_hOF"
      },
      "execution_count": null,
      "outputs": []
    },
    {
      "cell_type": "code",
      "source": [
        "df['logl'] = df['logm'].apply(lambda x:len(x.strip().split(' ')))"
      ],
      "metadata": {
        "id": "TFjyxz6u_k9o"
      },
      "execution_count": null,
      "outputs": []
    },
    {
      "cell_type": "code",
      "source": [
        "df"
      ],
      "metadata": {
        "colab": {
          "base_uri": "https://localhost:8080/",
          "height": 424
        },
        "id": "G_daeOH7AVKf",
        "outputId": "c51b34a5-abbe-4df3-8070-b7cc9fef6370"
      },
      "execution_count": null,
      "outputs": [
        {
          "output_type": "execute_result",
          "data": {
            "text/plain": [
              "                                                       log       ans\n",
              "0         1117838570 2005.06.03 R02-M1-N0-C:J12-U11 200...    normal\n",
              "1         1117838570 2005.06.03 R02-M1-N0-C:J12-U11 200...    normal\n",
              "2         1117838570 2005.06.03 R02-M1-N0-C:J12-U11 200...    normal\n",
              "3         1117838570 2005.06.03 R02-M1-N0-C:J12-U11 200...    normal\n",
              "4         1117838570 2005.06.03 R02-M1-N0-C:J12-U11 200...    normal\n",
              "...                                                    ...       ...\n",
              "4152654  1118545530 2005.06.11 R30-M0-N9-C:J16-U01 2005...  abnormal\n",
              "4152655  1118545530 2005.06.11 R30-M0-N9-C:J16-U01 2005...  abnormal\n",
              "4152656  1118545530 2005.06.11 R30-M0-N9-C:J16-U01 2005...  abnormal\n",
              "4152657  1118545530 2005.06.11 R30-M0-N9-C:J16-U01 2005...  abnormal\n",
              "4152658  1118545530 2005.06.11 R30-M0-N9-C:J16-U01 2005...  abnormal\n",
              "\n",
              "[4152659 rows x 2 columns]"
            ],
            "text/html": [
              "\n",
              "  <div id=\"df-48605399-9571-4e84-9c14-e0645b7cad53\">\n",
              "    <div class=\"colab-df-container\">\n",
              "      <div>\n",
              "<style scoped>\n",
              "    .dataframe tbody tr th:only-of-type {\n",
              "        vertical-align: middle;\n",
              "    }\n",
              "\n",
              "    .dataframe tbody tr th {\n",
              "        vertical-align: top;\n",
              "    }\n",
              "\n",
              "    .dataframe thead th {\n",
              "        text-align: right;\n",
              "    }\n",
              "</style>\n",
              "<table border=\"1\" class=\"dataframe\">\n",
              "  <thead>\n",
              "    <tr style=\"text-align: right;\">\n",
              "      <th></th>\n",
              "      <th>log</th>\n",
              "      <th>ans</th>\n",
              "    </tr>\n",
              "  </thead>\n",
              "  <tbody>\n",
              "    <tr>\n",
              "      <th>0</th>\n",
              "      <td>1117838570 2005.06.03 R02-M1-N0-C:J12-U11 200...</td>\n",
              "      <td>normal</td>\n",
              "    </tr>\n",
              "    <tr>\n",
              "      <th>1</th>\n",
              "      <td>1117838570 2005.06.03 R02-M1-N0-C:J12-U11 200...</td>\n",
              "      <td>normal</td>\n",
              "    </tr>\n",
              "    <tr>\n",
              "      <th>2</th>\n",
              "      <td>1117838570 2005.06.03 R02-M1-N0-C:J12-U11 200...</td>\n",
              "      <td>normal</td>\n",
              "    </tr>\n",
              "    <tr>\n",
              "      <th>3</th>\n",
              "      <td>1117838570 2005.06.03 R02-M1-N0-C:J12-U11 200...</td>\n",
              "      <td>normal</td>\n",
              "    </tr>\n",
              "    <tr>\n",
              "      <th>4</th>\n",
              "      <td>1117838570 2005.06.03 R02-M1-N0-C:J12-U11 200...</td>\n",
              "      <td>normal</td>\n",
              "    </tr>\n",
              "    <tr>\n",
              "      <th>...</th>\n",
              "      <td>...</td>\n",
              "      <td>...</td>\n",
              "    </tr>\n",
              "    <tr>\n",
              "      <th>4152654</th>\n",
              "      <td>1118545530 2005.06.11 R30-M0-N9-C:J16-U01 2005...</td>\n",
              "      <td>abnormal</td>\n",
              "    </tr>\n",
              "    <tr>\n",
              "      <th>4152655</th>\n",
              "      <td>1118545530 2005.06.11 R30-M0-N9-C:J16-U01 2005...</td>\n",
              "      <td>abnormal</td>\n",
              "    </tr>\n",
              "    <tr>\n",
              "      <th>4152656</th>\n",
              "      <td>1118545530 2005.06.11 R30-M0-N9-C:J16-U01 2005...</td>\n",
              "      <td>abnormal</td>\n",
              "    </tr>\n",
              "    <tr>\n",
              "      <th>4152657</th>\n",
              "      <td>1118545530 2005.06.11 R30-M0-N9-C:J16-U01 2005...</td>\n",
              "      <td>abnormal</td>\n",
              "    </tr>\n",
              "    <tr>\n",
              "      <th>4152658</th>\n",
              "      <td>1118545530 2005.06.11 R30-M0-N9-C:J16-U01 2005...</td>\n",
              "      <td>abnormal</td>\n",
              "    </tr>\n",
              "  </tbody>\n",
              "</table>\n",
              "<p>4152659 rows × 2 columns</p>\n",
              "</div>\n",
              "      <button class=\"colab-df-convert\" onclick=\"convertToInteractive('df-48605399-9571-4e84-9c14-e0645b7cad53')\"\n",
              "              title=\"Convert this dataframe to an interactive table.\"\n",
              "              style=\"display:none;\">\n",
              "        \n",
              "  <svg xmlns=\"http://www.w3.org/2000/svg\" height=\"24px\"viewBox=\"0 0 24 24\"\n",
              "       width=\"24px\">\n",
              "    <path d=\"M0 0h24v24H0V0z\" fill=\"none\"/>\n",
              "    <path d=\"M18.56 5.44l.94 2.06.94-2.06 2.06-.94-2.06-.94-.94-2.06-.94 2.06-2.06.94zm-11 1L8.5 8.5l.94-2.06 2.06-.94-2.06-.94L8.5 2.5l-.94 2.06-2.06.94zm10 10l.94 2.06.94-2.06 2.06-.94-2.06-.94-.94-2.06-.94 2.06-2.06.94z\"/><path d=\"M17.41 7.96l-1.37-1.37c-.4-.4-.92-.59-1.43-.59-.52 0-1.04.2-1.43.59L10.3 9.45l-7.72 7.72c-.78.78-.78 2.05 0 2.83L4 21.41c.39.39.9.59 1.41.59.51 0 1.02-.2 1.41-.59l7.78-7.78 2.81-2.81c.8-.78.8-2.07 0-2.86zM5.41 20L4 18.59l7.72-7.72 1.47 1.35L5.41 20z\"/>\n",
              "  </svg>\n",
              "      </button>\n",
              "      \n",
              "  <style>\n",
              "    .colab-df-container {\n",
              "      display:flex;\n",
              "      flex-wrap:wrap;\n",
              "      gap: 12px;\n",
              "    }\n",
              "\n",
              "    .colab-df-convert {\n",
              "      background-color: #E8F0FE;\n",
              "      border: none;\n",
              "      border-radius: 50%;\n",
              "      cursor: pointer;\n",
              "      display: none;\n",
              "      fill: #1967D2;\n",
              "      height: 32px;\n",
              "      padding: 0 0 0 0;\n",
              "      width: 32px;\n",
              "    }\n",
              "\n",
              "    .colab-df-convert:hover {\n",
              "      background-color: #E2EBFA;\n",
              "      box-shadow: 0px 1px 2px rgba(60, 64, 67, 0.3), 0px 1px 3px 1px rgba(60, 64, 67, 0.15);\n",
              "      fill: #174EA6;\n",
              "    }\n",
              "\n",
              "    [theme=dark] .colab-df-convert {\n",
              "      background-color: #3B4455;\n",
              "      fill: #D2E3FC;\n",
              "    }\n",
              "\n",
              "    [theme=dark] .colab-df-convert:hover {\n",
              "      background-color: #434B5C;\n",
              "      box-shadow: 0px 1px 3px 1px rgba(0, 0, 0, 0.15);\n",
              "      filter: drop-shadow(0px 1px 2px rgba(0, 0, 0, 0.3));\n",
              "      fill: #FFFFFF;\n",
              "    }\n",
              "  </style>\n",
              "\n",
              "      <script>\n",
              "        const buttonEl =\n",
              "          document.querySelector('#df-48605399-9571-4e84-9c14-e0645b7cad53 button.colab-df-convert');\n",
              "        buttonEl.style.display =\n",
              "          google.colab.kernel.accessAllowed ? 'block' : 'none';\n",
              "\n",
              "        async function convertToInteractive(key) {\n",
              "          const element = document.querySelector('#df-48605399-9571-4e84-9c14-e0645b7cad53');\n",
              "          const dataTable =\n",
              "            await google.colab.kernel.invokeFunction('convertToInteractive',\n",
              "                                                     [key], {});\n",
              "          if (!dataTable) return;\n",
              "\n",
              "          const docLinkHtml = 'Like what you see? Visit the ' +\n",
              "            '<a target=\"_blank\" href=https://colab.research.google.com/notebooks/data_table.ipynb>data table notebook</a>'\n",
              "            + ' to learn more about interactive tables.';\n",
              "          element.innerHTML = '';\n",
              "          dataTable['output_type'] = 'display_data';\n",
              "          await google.colab.output.renderOutput(dataTable, element);\n",
              "          const docLink = document.createElement('div');\n",
              "          docLink.innerHTML = docLinkHtml;\n",
              "          element.appendChild(docLink);\n",
              "        }\n",
              "      </script>\n",
              "    </div>\n",
              "  </div>\n",
              "  "
            ]
          },
          "metadata": {},
          "execution_count": 13
        }
      ]
    },
    {
      "cell_type": "code",
      "source": [
        "df['logi_1'] = df['logi'].apply(lambda x:x.split(' ')[0])\n",
        "df['logi_2'] = df['logi'].apply(lambda x:x.split(' ')[1])\n",
        "df['logi_3'] = df['logi'].apply(lambda x:x.split(' ')[2])"
      ],
      "metadata": {
        "id": "_so8GER3AePR"
      },
      "execution_count": null,
      "outputs": []
    },
    {
      "cell_type": "code",
      "source": [
        "df[df['logi']=='KERNEL FATAL Kill']['log'][660248]"
      ],
      "metadata": {
        "colab": {
          "base_uri": "https://localhost:8080/",
          "height": 36
        },
        "id": "BixfAZcmIFe-",
        "outputId": "58ff7185-0a25-4ca7-9429-ff68398b0f8a"
      },
      "execution_count": null,
      "outputs": [
        {
          "output_type": "execute_result",
          "data": {
            "text/plain": [
              "' 1119415930 2005.06.21 - 2005-06-21-21.52.10.214285 RAS KERNEL FATAL Kill job 20251 timed out. Block freed.\\n'"
            ],
            "application/vnd.google.colaboratory.intrinsic+json": {
              "type": "string"
            }
          },
          "metadata": {},
          "execution_count": 73
        }
      ]
    },
    {
      "cell_type": "code",
      "source": [
        "df[df['log'].apply(lambda x: \"Kill\" in x)]"
      ],
      "metadata": {
        "colab": {
          "base_uri": "https://localhost:8080/",
          "height": 424
        },
        "id": "rmJS7gkYIxaX",
        "outputId": "8ef37d8b-69a1-4083-8203-1afb2b56431c"
      },
      "execution_count": null,
      "outputs": [
        {
          "output_type": "execute_result",
          "data": {
            "text/plain": [
              "                                                       log     ans model  \\\n",
              "660248    1119415930 2005.06.21 - 2005-06-21-21.52.10.2...  normal     -   \n",
              "673633    1119479882 2005.06.22 - 2005-06-22-15.38.02.6...  normal     -   \n",
              "675691    1119480744 2005.06.22 - 2005-06-22-15.52.24.9...  normal     -   \n",
              "729638    1119695751 2005.06.25 - 2005-06-25-03.35.51.2...  normal     -   \n",
              "766663    1119716003 2005.06.25 - 2005-06-25-09.13.23.2...  normal     -   \n",
              "...                                                    ...     ...   ...   \n",
              "3966416   1133009332 2005.11.26 - 2005-11-26-04.48.52.6...  normal     -   \n",
              "3974865   1133204060 2005.11.28 - 2005-11-28-10.54.20.6...  normal     -   \n",
              "3976789   1133300160 2005.11.29 - 2005-11-29-13.36.00.4...  normal     -   \n",
              "3982022   1133317553 2005.11.29 - 2005-11-29-18.25.53.4...  normal     -   \n",
              "3986168   1133363215 2005.11.30 - 2005-11-30-07.06.55.6...  normal     -   \n",
              "\n",
              "           log1               logi  \n",
              "660248   KERNEL  KERNEL FATAL Kill  \n",
              "673633   KERNEL  KERNEL FATAL Kill  \n",
              "675691   KERNEL  KERNEL FATAL Kill  \n",
              "729638   KERNEL  KERNEL FATAL Kill  \n",
              "766663   KERNEL  KERNEL FATAL Kill  \n",
              "...         ...                ...  \n",
              "3966416  KERNEL  KERNEL FATAL Kill  \n",
              "3974865  KERNEL  KERNEL FATAL Kill  \n",
              "3976789  KERNEL  KERNEL FATAL Kill  \n",
              "3982022  KERNEL  KERNEL FATAL Kill  \n",
              "3986168  KERNEL  KERNEL FATAL Kill  \n",
              "\n",
              "[276 rows x 5 columns]"
            ],
            "text/html": [
              "\n",
              "  <div id=\"df-e3da6336-0448-4829-ba02-6bfbdfd82146\">\n",
              "    <div class=\"colab-df-container\">\n",
              "      <div>\n",
              "<style scoped>\n",
              "    .dataframe tbody tr th:only-of-type {\n",
              "        vertical-align: middle;\n",
              "    }\n",
              "\n",
              "    .dataframe tbody tr th {\n",
              "        vertical-align: top;\n",
              "    }\n",
              "\n",
              "    .dataframe thead th {\n",
              "        text-align: right;\n",
              "    }\n",
              "</style>\n",
              "<table border=\"1\" class=\"dataframe\">\n",
              "  <thead>\n",
              "    <tr style=\"text-align: right;\">\n",
              "      <th></th>\n",
              "      <th>log</th>\n",
              "      <th>ans</th>\n",
              "      <th>model</th>\n",
              "      <th>log1</th>\n",
              "      <th>logi</th>\n",
              "    </tr>\n",
              "  </thead>\n",
              "  <tbody>\n",
              "    <tr>\n",
              "      <th>660248</th>\n",
              "      <td>1119415930 2005.06.21 - 2005-06-21-21.52.10.2...</td>\n",
              "      <td>normal</td>\n",
              "      <td>-</td>\n",
              "      <td>KERNEL</td>\n",
              "      <td>KERNEL FATAL Kill</td>\n",
              "    </tr>\n",
              "    <tr>\n",
              "      <th>673633</th>\n",
              "      <td>1119479882 2005.06.22 - 2005-06-22-15.38.02.6...</td>\n",
              "      <td>normal</td>\n",
              "      <td>-</td>\n",
              "      <td>KERNEL</td>\n",
              "      <td>KERNEL FATAL Kill</td>\n",
              "    </tr>\n",
              "    <tr>\n",
              "      <th>675691</th>\n",
              "      <td>1119480744 2005.06.22 - 2005-06-22-15.52.24.9...</td>\n",
              "      <td>normal</td>\n",
              "      <td>-</td>\n",
              "      <td>KERNEL</td>\n",
              "      <td>KERNEL FATAL Kill</td>\n",
              "    </tr>\n",
              "    <tr>\n",
              "      <th>729638</th>\n",
              "      <td>1119695751 2005.06.25 - 2005-06-25-03.35.51.2...</td>\n",
              "      <td>normal</td>\n",
              "      <td>-</td>\n",
              "      <td>KERNEL</td>\n",
              "      <td>KERNEL FATAL Kill</td>\n",
              "    </tr>\n",
              "    <tr>\n",
              "      <th>766663</th>\n",
              "      <td>1119716003 2005.06.25 - 2005-06-25-09.13.23.2...</td>\n",
              "      <td>normal</td>\n",
              "      <td>-</td>\n",
              "      <td>KERNEL</td>\n",
              "      <td>KERNEL FATAL Kill</td>\n",
              "    </tr>\n",
              "    <tr>\n",
              "      <th>...</th>\n",
              "      <td>...</td>\n",
              "      <td>...</td>\n",
              "      <td>...</td>\n",
              "      <td>...</td>\n",
              "      <td>...</td>\n",
              "    </tr>\n",
              "    <tr>\n",
              "      <th>3966416</th>\n",
              "      <td>1133009332 2005.11.26 - 2005-11-26-04.48.52.6...</td>\n",
              "      <td>normal</td>\n",
              "      <td>-</td>\n",
              "      <td>KERNEL</td>\n",
              "      <td>KERNEL FATAL Kill</td>\n",
              "    </tr>\n",
              "    <tr>\n",
              "      <th>3974865</th>\n",
              "      <td>1133204060 2005.11.28 - 2005-11-28-10.54.20.6...</td>\n",
              "      <td>normal</td>\n",
              "      <td>-</td>\n",
              "      <td>KERNEL</td>\n",
              "      <td>KERNEL FATAL Kill</td>\n",
              "    </tr>\n",
              "    <tr>\n",
              "      <th>3976789</th>\n",
              "      <td>1133300160 2005.11.29 - 2005-11-29-13.36.00.4...</td>\n",
              "      <td>normal</td>\n",
              "      <td>-</td>\n",
              "      <td>KERNEL</td>\n",
              "      <td>KERNEL FATAL Kill</td>\n",
              "    </tr>\n",
              "    <tr>\n",
              "      <th>3982022</th>\n",
              "      <td>1133317553 2005.11.29 - 2005-11-29-18.25.53.4...</td>\n",
              "      <td>normal</td>\n",
              "      <td>-</td>\n",
              "      <td>KERNEL</td>\n",
              "      <td>KERNEL FATAL Kill</td>\n",
              "    </tr>\n",
              "    <tr>\n",
              "      <th>3986168</th>\n",
              "      <td>1133363215 2005.11.30 - 2005-11-30-07.06.55.6...</td>\n",
              "      <td>normal</td>\n",
              "      <td>-</td>\n",
              "      <td>KERNEL</td>\n",
              "      <td>KERNEL FATAL Kill</td>\n",
              "    </tr>\n",
              "  </tbody>\n",
              "</table>\n",
              "<p>276 rows × 5 columns</p>\n",
              "</div>\n",
              "      <button class=\"colab-df-convert\" onclick=\"convertToInteractive('df-e3da6336-0448-4829-ba02-6bfbdfd82146')\"\n",
              "              title=\"Convert this dataframe to an interactive table.\"\n",
              "              style=\"display:none;\">\n",
              "        \n",
              "  <svg xmlns=\"http://www.w3.org/2000/svg\" height=\"24px\"viewBox=\"0 0 24 24\"\n",
              "       width=\"24px\">\n",
              "    <path d=\"M0 0h24v24H0V0z\" fill=\"none\"/>\n",
              "    <path d=\"M18.56 5.44l.94 2.06.94-2.06 2.06-.94-2.06-.94-.94-2.06-.94 2.06-2.06.94zm-11 1L8.5 8.5l.94-2.06 2.06-.94-2.06-.94L8.5 2.5l-.94 2.06-2.06.94zm10 10l.94 2.06.94-2.06 2.06-.94-2.06-.94-.94-2.06-.94 2.06-2.06.94z\"/><path d=\"M17.41 7.96l-1.37-1.37c-.4-.4-.92-.59-1.43-.59-.52 0-1.04.2-1.43.59L10.3 9.45l-7.72 7.72c-.78.78-.78 2.05 0 2.83L4 21.41c.39.39.9.59 1.41.59.51 0 1.02-.2 1.41-.59l7.78-7.78 2.81-2.81c.8-.78.8-2.07 0-2.86zM5.41 20L4 18.59l7.72-7.72 1.47 1.35L5.41 20z\"/>\n",
              "  </svg>\n",
              "      </button>\n",
              "      \n",
              "  <style>\n",
              "    .colab-df-container {\n",
              "      display:flex;\n",
              "      flex-wrap:wrap;\n",
              "      gap: 12px;\n",
              "    }\n",
              "\n",
              "    .colab-df-convert {\n",
              "      background-color: #E8F0FE;\n",
              "      border: none;\n",
              "      border-radius: 50%;\n",
              "      cursor: pointer;\n",
              "      display: none;\n",
              "      fill: #1967D2;\n",
              "      height: 32px;\n",
              "      padding: 0 0 0 0;\n",
              "      width: 32px;\n",
              "    }\n",
              "\n",
              "    .colab-df-convert:hover {\n",
              "      background-color: #E2EBFA;\n",
              "      box-shadow: 0px 1px 2px rgba(60, 64, 67, 0.3), 0px 1px 3px 1px rgba(60, 64, 67, 0.15);\n",
              "      fill: #174EA6;\n",
              "    }\n",
              "\n",
              "    [theme=dark] .colab-df-convert {\n",
              "      background-color: #3B4455;\n",
              "      fill: #D2E3FC;\n",
              "    }\n",
              "\n",
              "    [theme=dark] .colab-df-convert:hover {\n",
              "      background-color: #434B5C;\n",
              "      box-shadow: 0px 1px 3px 1px rgba(0, 0, 0, 0.15);\n",
              "      filter: drop-shadow(0px 1px 2px rgba(0, 0, 0, 0.3));\n",
              "      fill: #FFFFFF;\n",
              "    }\n",
              "  </style>\n",
              "\n",
              "      <script>\n",
              "        const buttonEl =\n",
              "          document.querySelector('#df-e3da6336-0448-4829-ba02-6bfbdfd82146 button.colab-df-convert');\n",
              "        buttonEl.style.display =\n",
              "          google.colab.kernel.accessAllowed ? 'block' : 'none';\n",
              "\n",
              "        async function convertToInteractive(key) {\n",
              "          const element = document.querySelector('#df-e3da6336-0448-4829-ba02-6bfbdfd82146');\n",
              "          const dataTable =\n",
              "            await google.colab.kernel.invokeFunction('convertToInteractive',\n",
              "                                                     [key], {});\n",
              "          if (!dataTable) return;\n",
              "\n",
              "          const docLinkHtml = 'Like what you see? Visit the ' +\n",
              "            '<a target=\"_blank\" href=https://colab.research.google.com/notebooks/data_table.ipynb>data table notebook</a>'\n",
              "            + ' to learn more about interactive tables.';\n",
              "          element.innerHTML = '';\n",
              "          dataTable['output_type'] = 'display_data';\n",
              "          await google.colab.output.renderOutput(dataTable, element);\n",
              "          const docLink = document.createElement('div');\n",
              "          docLink.innerHTML = docLinkHtml;\n",
              "          element.appendChild(docLink);\n",
              "        }\n",
              "      </script>\n",
              "    </div>\n",
              "  </div>\n",
              "  "
            ]
          },
          "metadata": {},
          "execution_count": 75
        }
      ]
    },
    {
      "cell_type": "code",
      "source": [
        "df['logi'].value_counts()"
      ],
      "metadata": {
        "colab": {
          "base_uri": "https://localhost:8080/"
        },
        "id": "B5NlWgdeAziP",
        "outputId": "1a1d379e-8b63-43a5-ad14-fc75ddb4f3cd"
      },
      "execution_count": null,
      "outputs": [
        {
          "output_type": "execute_result",
          "data": {
            "text/plain": [
              "RAS KERNEL INFO               3412050\n",
              "RAS KERNEL FATAL               402720\n",
              "RAS APP FATAL                  146527\n",
              "RAS MMCS ERROR                  88516\n",
              "NULL DISCOVERY INFO             35022\n",
              "NULL DISCOVERY ERROR            23359\n",
              "NULL DISCOVERY WARNING          18615\n",
              "NULL DISCOVERY SEVERE           17858\n",
              "NULL HARDWARE WARNING            3595\n",
              "NULL MONITOR FAILURE             1650\n",
              "RAS LINKCARD INFO                 964\n",
              "NULL HARDWARE SEVERE              873\n",
              "RAS MMCS INFO                     346\n",
              "KERNEL FATAL Kill                 276\n",
              "NULL CMCS INFO                    178\n",
              "RAS BGLMASTER INFO                 85\n",
              "NULL MONITOR SEVERE                16\n",
              "RAS BGLMASTER FAILURE               2\n",
              "for a single                        2\n",
              "interrupts, 0 microseconds          2\n",
              "NULL SERV_NET WARNING               1\n",
              "NULL SERV_NET ERROR                 1\n",
              "NULL SERV_NET INFO                  1\n",
              "Name: logi, dtype: int64"
            ]
          },
          "metadata": {},
          "execution_count": 104
        }
      ]
    },
    {
      "cell_type": "code",
      "source": [
        "df[(df['logi_3']=='FATAL') & (df['ans']=='normal')]"
      ],
      "metadata": {
        "colab": {
          "base_uri": "https://localhost:8080/",
          "height": 641
        },
        "id": "d-351LB_A8Nc",
        "outputId": "2c92b701-679f-4ecb-9ec3-d33ca551f95a"
      },
      "execution_count": null,
      "outputs": [
        {
          "output_type": "execute_result",
          "data": {
            "text/plain": [
              "                                                       log     ans  logl  \\\n",
              "4987      1117840660 2005.06.03 R26-M0-N0-I:J18-U01 200...  normal    14   \n",
              "4988      1117840660 2005.06.03 R26-M0-N0-I:J18-U11 200...  normal    14   \n",
              "4989      1117840660 2005.06.03 R26-M0-N4-I:J18-U01 200...  normal    14   \n",
              "4990      1117840660 2005.06.03 R26-M0-N4-I:J18-U11 200...  normal    14   \n",
              "4991      1117840660 2005.06.03 R26-M0-N8-I:J18-U01 200...  normal    14   \n",
              "...                                                    ...     ...   ...   \n",
              "3991551   1133409798 2005.11.30 R52-M1-N4-I:J18-U01 200...  normal     9   \n",
              "3991552   1133409798 2005.11.30 R65-M1-N4-I:J18-U11 200...  normal     9   \n",
              "3991553   1133409798 2005.11.30 R66-M0-N4-I:J18-U11 200...  normal     9   \n",
              "3991554   1133409813 2005.11.30 R24-M1-N8-I:J18-U11 200...  normal     9   \n",
              "3991555   1133409814 2005.11.30 R34-M0-N4-I:J18-U11 200...  normal     9   \n",
              "\n",
              "                  logi                                               logm  \\\n",
              "4987     RAS APP FATAL  ciod: Error loading /p/gb2/stella/RAPTOR/65641...   \n",
              "4988     RAS APP FATAL  ciod: Error loading /p/gb2/stella/RAPTOR/65641...   \n",
              "4989     RAS APP FATAL  ciod: Error loading /p/gb2/stella/RAPTOR/65641...   \n",
              "4990     RAS APP FATAL  ciod: Error loading /p/gb2/stella/RAPTOR/65641...   \n",
              "4991     RAS APP FATAL  ciod: Error loading /p/gb2/stella/RAPTOR/65641...   \n",
              "...                ...                                                ...   \n",
              "3991551  RAS APP FATAL  ciod: LOGIN chdir(/g/g0/spelce1/Linpack_SWL) f...   \n",
              "3991552  RAS APP FATAL  ciod: LOGIN chdir(/g/g0/spelce1/Linpack_SWL) f...   \n",
              "3991553  RAS APP FATAL  ciod: LOGIN chdir(/g/g0/spelce1/Linpack_SWL) f...   \n",
              "3991554  RAS APP FATAL  ciod: LOGIN chdir(/g/g0/spelce1/Linpack_SWL) f...   \n",
              "3991555  RAS APP FATAL  ciod: LOGIN chdir(/g/g0/spelce1/Linpack_SWL) f...   \n",
              "\n",
              "        logi_1 logi_2 logi_3  \n",
              "4987       RAS    APP  FATAL  \n",
              "4988       RAS    APP  FATAL  \n",
              "4989       RAS    APP  FATAL  \n",
              "4990       RAS    APP  FATAL  \n",
              "4991       RAS    APP  FATAL  \n",
              "...        ...    ...    ...  \n",
              "3991551    RAS    APP  FATAL  \n",
              "3991552    RAS    APP  FATAL  \n",
              "3991553    RAS    APP  FATAL  \n",
              "3991554    RAS    APP  FATAL  \n",
              "3991555    RAS    APP  FATAL  \n",
              "\n",
              "[479555 rows x 8 columns]"
            ],
            "text/html": [
              "\n",
              "  <div id=\"df-8a5d8841-c9fb-45d2-8ab3-636f4fff63a9\">\n",
              "    <div class=\"colab-df-container\">\n",
              "      <div>\n",
              "<style scoped>\n",
              "    .dataframe tbody tr th:only-of-type {\n",
              "        vertical-align: middle;\n",
              "    }\n",
              "\n",
              "    .dataframe tbody tr th {\n",
              "        vertical-align: top;\n",
              "    }\n",
              "\n",
              "    .dataframe thead th {\n",
              "        text-align: right;\n",
              "    }\n",
              "</style>\n",
              "<table border=\"1\" class=\"dataframe\">\n",
              "  <thead>\n",
              "    <tr style=\"text-align: right;\">\n",
              "      <th></th>\n",
              "      <th>log</th>\n",
              "      <th>ans</th>\n",
              "      <th>logl</th>\n",
              "      <th>logi</th>\n",
              "      <th>logm</th>\n",
              "      <th>logi_1</th>\n",
              "      <th>logi_2</th>\n",
              "      <th>logi_3</th>\n",
              "    </tr>\n",
              "  </thead>\n",
              "  <tbody>\n",
              "    <tr>\n",
              "      <th>4987</th>\n",
              "      <td>1117840660 2005.06.03 R26-M0-N0-I:J18-U01 200...</td>\n",
              "      <td>normal</td>\n",
              "      <td>14</td>\n",
              "      <td>RAS APP FATAL</td>\n",
              "      <td>ciod: Error loading /p/gb2/stella/RAPTOR/65641...</td>\n",
              "      <td>RAS</td>\n",
              "      <td>APP</td>\n",
              "      <td>FATAL</td>\n",
              "    </tr>\n",
              "    <tr>\n",
              "      <th>4988</th>\n",
              "      <td>1117840660 2005.06.03 R26-M0-N0-I:J18-U11 200...</td>\n",
              "      <td>normal</td>\n",
              "      <td>14</td>\n",
              "      <td>RAS APP FATAL</td>\n",
              "      <td>ciod: Error loading /p/gb2/stella/RAPTOR/65641...</td>\n",
              "      <td>RAS</td>\n",
              "      <td>APP</td>\n",
              "      <td>FATAL</td>\n",
              "    </tr>\n",
              "    <tr>\n",
              "      <th>4989</th>\n",
              "      <td>1117840660 2005.06.03 R26-M0-N4-I:J18-U01 200...</td>\n",
              "      <td>normal</td>\n",
              "      <td>14</td>\n",
              "      <td>RAS APP FATAL</td>\n",
              "      <td>ciod: Error loading /p/gb2/stella/RAPTOR/65641...</td>\n",
              "      <td>RAS</td>\n",
              "      <td>APP</td>\n",
              "      <td>FATAL</td>\n",
              "    </tr>\n",
              "    <tr>\n",
              "      <th>4990</th>\n",
              "      <td>1117840660 2005.06.03 R26-M0-N4-I:J18-U11 200...</td>\n",
              "      <td>normal</td>\n",
              "      <td>14</td>\n",
              "      <td>RAS APP FATAL</td>\n",
              "      <td>ciod: Error loading /p/gb2/stella/RAPTOR/65641...</td>\n",
              "      <td>RAS</td>\n",
              "      <td>APP</td>\n",
              "      <td>FATAL</td>\n",
              "    </tr>\n",
              "    <tr>\n",
              "      <th>4991</th>\n",
              "      <td>1117840660 2005.06.03 R26-M0-N8-I:J18-U01 200...</td>\n",
              "      <td>normal</td>\n",
              "      <td>14</td>\n",
              "      <td>RAS APP FATAL</td>\n",
              "      <td>ciod: Error loading /p/gb2/stella/RAPTOR/65641...</td>\n",
              "      <td>RAS</td>\n",
              "      <td>APP</td>\n",
              "      <td>FATAL</td>\n",
              "    </tr>\n",
              "    <tr>\n",
              "      <th>...</th>\n",
              "      <td>...</td>\n",
              "      <td>...</td>\n",
              "      <td>...</td>\n",
              "      <td>...</td>\n",
              "      <td>...</td>\n",
              "      <td>...</td>\n",
              "      <td>...</td>\n",
              "      <td>...</td>\n",
              "    </tr>\n",
              "    <tr>\n",
              "      <th>3991551</th>\n",
              "      <td>1133409798 2005.11.30 R52-M1-N4-I:J18-U01 200...</td>\n",
              "      <td>normal</td>\n",
              "      <td>9</td>\n",
              "      <td>RAS APP FATAL</td>\n",
              "      <td>ciod: LOGIN chdir(/g/g0/spelce1/Linpack_SWL) f...</td>\n",
              "      <td>RAS</td>\n",
              "      <td>APP</td>\n",
              "      <td>FATAL</td>\n",
              "    </tr>\n",
              "    <tr>\n",
              "      <th>3991552</th>\n",
              "      <td>1133409798 2005.11.30 R65-M1-N4-I:J18-U11 200...</td>\n",
              "      <td>normal</td>\n",
              "      <td>9</td>\n",
              "      <td>RAS APP FATAL</td>\n",
              "      <td>ciod: LOGIN chdir(/g/g0/spelce1/Linpack_SWL) f...</td>\n",
              "      <td>RAS</td>\n",
              "      <td>APP</td>\n",
              "      <td>FATAL</td>\n",
              "    </tr>\n",
              "    <tr>\n",
              "      <th>3991553</th>\n",
              "      <td>1133409798 2005.11.30 R66-M0-N4-I:J18-U11 200...</td>\n",
              "      <td>normal</td>\n",
              "      <td>9</td>\n",
              "      <td>RAS APP FATAL</td>\n",
              "      <td>ciod: LOGIN chdir(/g/g0/spelce1/Linpack_SWL) f...</td>\n",
              "      <td>RAS</td>\n",
              "      <td>APP</td>\n",
              "      <td>FATAL</td>\n",
              "    </tr>\n",
              "    <tr>\n",
              "      <th>3991554</th>\n",
              "      <td>1133409813 2005.11.30 R24-M1-N8-I:J18-U11 200...</td>\n",
              "      <td>normal</td>\n",
              "      <td>9</td>\n",
              "      <td>RAS APP FATAL</td>\n",
              "      <td>ciod: LOGIN chdir(/g/g0/spelce1/Linpack_SWL) f...</td>\n",
              "      <td>RAS</td>\n",
              "      <td>APP</td>\n",
              "      <td>FATAL</td>\n",
              "    </tr>\n",
              "    <tr>\n",
              "      <th>3991555</th>\n",
              "      <td>1133409814 2005.11.30 R34-M0-N4-I:J18-U11 200...</td>\n",
              "      <td>normal</td>\n",
              "      <td>9</td>\n",
              "      <td>RAS APP FATAL</td>\n",
              "      <td>ciod: LOGIN chdir(/g/g0/spelce1/Linpack_SWL) f...</td>\n",
              "      <td>RAS</td>\n",
              "      <td>APP</td>\n",
              "      <td>FATAL</td>\n",
              "    </tr>\n",
              "  </tbody>\n",
              "</table>\n",
              "<p>479555 rows × 8 columns</p>\n",
              "</div>\n",
              "      <button class=\"colab-df-convert\" onclick=\"convertToInteractive('df-8a5d8841-c9fb-45d2-8ab3-636f4fff63a9')\"\n",
              "              title=\"Convert this dataframe to an interactive table.\"\n",
              "              style=\"display:none;\">\n",
              "        \n",
              "  <svg xmlns=\"http://www.w3.org/2000/svg\" height=\"24px\"viewBox=\"0 0 24 24\"\n",
              "       width=\"24px\">\n",
              "    <path d=\"M0 0h24v24H0V0z\" fill=\"none\"/>\n",
              "    <path d=\"M18.56 5.44l.94 2.06.94-2.06 2.06-.94-2.06-.94-.94-2.06-.94 2.06-2.06.94zm-11 1L8.5 8.5l.94-2.06 2.06-.94-2.06-.94L8.5 2.5l-.94 2.06-2.06.94zm10 10l.94 2.06.94-2.06 2.06-.94-2.06-.94-.94-2.06-.94 2.06-2.06.94z\"/><path d=\"M17.41 7.96l-1.37-1.37c-.4-.4-.92-.59-1.43-.59-.52 0-1.04.2-1.43.59L10.3 9.45l-7.72 7.72c-.78.78-.78 2.05 0 2.83L4 21.41c.39.39.9.59 1.41.59.51 0 1.02-.2 1.41-.59l7.78-7.78 2.81-2.81c.8-.78.8-2.07 0-2.86zM5.41 20L4 18.59l7.72-7.72 1.47 1.35L5.41 20z\"/>\n",
              "  </svg>\n",
              "      </button>\n",
              "      \n",
              "  <style>\n",
              "    .colab-df-container {\n",
              "      display:flex;\n",
              "      flex-wrap:wrap;\n",
              "      gap: 12px;\n",
              "    }\n",
              "\n",
              "    .colab-df-convert {\n",
              "      background-color: #E8F0FE;\n",
              "      border: none;\n",
              "      border-radius: 50%;\n",
              "      cursor: pointer;\n",
              "      display: none;\n",
              "      fill: #1967D2;\n",
              "      height: 32px;\n",
              "      padding: 0 0 0 0;\n",
              "      width: 32px;\n",
              "    }\n",
              "\n",
              "    .colab-df-convert:hover {\n",
              "      background-color: #E2EBFA;\n",
              "      box-shadow: 0px 1px 2px rgba(60, 64, 67, 0.3), 0px 1px 3px 1px rgba(60, 64, 67, 0.15);\n",
              "      fill: #174EA6;\n",
              "    }\n",
              "\n",
              "    [theme=dark] .colab-df-convert {\n",
              "      background-color: #3B4455;\n",
              "      fill: #D2E3FC;\n",
              "    }\n",
              "\n",
              "    [theme=dark] .colab-df-convert:hover {\n",
              "      background-color: #434B5C;\n",
              "      box-shadow: 0px 1px 3px 1px rgba(0, 0, 0, 0.15);\n",
              "      filter: drop-shadow(0px 1px 2px rgba(0, 0, 0, 0.3));\n",
              "      fill: #FFFFFF;\n",
              "    }\n",
              "  </style>\n",
              "\n",
              "      <script>\n",
              "        const buttonEl =\n",
              "          document.querySelector('#df-8a5d8841-c9fb-45d2-8ab3-636f4fff63a9 button.colab-df-convert');\n",
              "        buttonEl.style.display =\n",
              "          google.colab.kernel.accessAllowed ? 'block' : 'none';\n",
              "\n",
              "        async function convertToInteractive(key) {\n",
              "          const element = document.querySelector('#df-8a5d8841-c9fb-45d2-8ab3-636f4fff63a9');\n",
              "          const dataTable =\n",
              "            await google.colab.kernel.invokeFunction('convertToInteractive',\n",
              "                                                     [key], {});\n",
              "          if (!dataTable) return;\n",
              "\n",
              "          const docLinkHtml = 'Like what you see? Visit the ' +\n",
              "            '<a target=\"_blank\" href=https://colab.research.google.com/notebooks/data_table.ipynb>data table notebook</a>'\n",
              "            + ' to learn more about interactive tables.';\n",
              "          element.innerHTML = '';\n",
              "          dataTable['output_type'] = 'display_data';\n",
              "          await google.colab.output.renderOutput(dataTable, element);\n",
              "          const docLink = document.createElement('div');\n",
              "          docLink.innerHTML = docLinkHtml;\n",
              "          element.appendChild(docLink);\n",
              "        }\n",
              "      </script>\n",
              "    </div>\n",
              "  </div>\n",
              "  "
            ]
          },
          "metadata": {},
          "execution_count": 106
        }
      ]
    },
    {
      "cell_type": "code",
      "source": [],
      "metadata": {
        "id": "fPt5v0e3A8jX"
      },
      "execution_count": null,
      "outputs": []
    },
    {
      "cell_type": "code",
      "source": [
        "df['logl'].value_counts()"
      ],
      "metadata": {
        "colab": {
          "base_uri": "https://localhost:8080/"
        },
        "id": "2J6GkdRQ-jqD",
        "outputId": "f4136eee-4aeb-46cb-ec37-f381ba98a60a"
      },
      "execution_count": null,
      "outputs": [
        {
          "output_type": "execute_result",
          "data": {
            "text/plain": [
              "2     1730010\n",
              "4      942353\n",
              "5      354059\n",
              "7      230367\n",
              "3      175540\n",
              "13     122743\n",
              "8      103094\n",
              "6       69235\n",
              "9       64586\n",
              "11      53803\n",
              "14      51480\n",
              "24      44630\n",
              "25      44467\n",
              "1       36361\n",
              "12      36255\n",
              "10      30117\n",
              "19      22299\n",
              "69      16433\n",
              "15      15670\n",
              "16       6218\n",
              "75        691\n",
              "30        522\n",
              "18        275\n",
              "22        261\n",
              "70        232\n",
              "74        198\n",
              "27        194\n",
              "71        119\n",
              "21        106\n",
              "20         70\n",
              "72         49\n",
              "68         47\n",
              "23         46\n",
              "17         37\n",
              "79         21\n",
              "77         19\n",
              "45          8\n",
              "38          8\n",
              "29          8\n",
              "54          7\n",
              "61          7\n",
              "41          4\n",
              "86          3\n",
              "93          3\n",
              "33          2\n",
              "32          2\n",
              "Name: logl, dtype: int64"
            ]
          },
          "metadata": {},
          "execution_count": 90
        }
      ]
    },
    {
      "cell_type": "code",
      "source": [
        "df['log'][0].strip().split(' ')"
      ],
      "metadata": {
        "colab": {
          "base_uri": "https://localhost:8080/"
        },
        "id": "Lp_WsaIU-lpj",
        "outputId": "4804988e-7979-4911-8ca0-240f5d6414de"
      },
      "execution_count": null,
      "outputs": [
        {
          "output_type": "execute_result",
          "data": {
            "text/plain": [
              "['1117838570',\n",
              " '2005.06.03',\n",
              " 'R02-M1-N0-C:J12-U11',\n",
              " '2005-06-03-15.42.50.363779',\n",
              " 'R02-M1-N0-C:J12-U11',\n",
              " 'RAS',\n",
              " 'KERNEL',\n",
              " 'INFO',\n",
              " 'instruction',\n",
              " 'cache',\n",
              " 'parity',\n",
              " 'error',\n",
              " 'corrected']"
            ]
          },
          "metadata": {},
          "execution_count": 83
        }
      ]
    },
    {
      "cell_type": "code",
      "source": [
        "df['log'][188785].strip().split(' ')"
      ],
      "metadata": {
        "colab": {
          "base_uri": "https://localhost:8080/"
        },
        "id": "WrnLYzB2-wba",
        "outputId": "1f7554a3-ee10-43b3-c803-1db8d50df96d"
      },
      "execution_count": null,
      "outputs": [
        {
          "output_type": "execute_result",
          "data": {
            "text/plain": [
              "['1118241709',\n",
              " '2005.06.08',\n",
              " 'R33-M1-ND',\n",
              " '2005-06-08-07.41.49.839299',\n",
              " 'R33-M1-ND',\n",
              " 'NULL',\n",
              " 'HARDWARE',\n",
              " 'WARNING',\n",
              " 'PrepareForService',\n",
              " 'is',\n",
              " 'being',\n",
              " 'done',\n",
              " 'on',\n",
              " 'this',\n",
              " 'card(mLctn(R33-M1-ND),',\n",
              " 'mCardSernum(203231503833343000000000594c31304b35303034303232),',\n",
              " 'mLp(FF:F2:9F:16:BF:44:00:0D:60:E9:40:BB),',\n",
              " 'mIp(10.3.0.80),',\n",
              " 'mType(4))',\n",
              " 'by',\n",
              " 'root']"
            ]
          },
          "metadata": {},
          "execution_count": 98
        }
      ]
    },
    {
      "cell_type": "code",
      "source": [
        "df['model'] = df['log'].apply(lambda x:x.strip().split(' ')[2])"
      ],
      "metadata": {
        "id": "TrFXPAw4_5Od"
      },
      "execution_count": null,
      "outputs": []
    },
    {
      "cell_type": "code",
      "source": [
        "df['model'].value_counts()"
      ],
      "metadata": {
        "colab": {
          "base_uri": "https://localhost:8080/"
        },
        "id": "i2VkMu8hBLWa",
        "outputId": "e0c30393-33f5-4a2b-d3ea-6ee1984d1184"
      },
      "execution_count": null,
      "outputs": [
        {
          "output_type": "execute_result",
          "data": {
            "text/plain": [
              "NULL                   88949\n",
              "R30-M0-N9-C:J16-U01    67058\n",
              "R02-M1-N0-C:J12-U11    64630\n",
              "UNKNOWN_LOCATION       26610\n",
              "R16-M1-N2-C:J17-U01    16915\n",
              "                       ...  \n",
              "R41-M1-L0                  1\n",
              "R44-M0-L1                  1\n",
              "R41-M1-L1                  1\n",
              "R46-M0-L2                  1\n",
              "R34-M0                     1\n",
              "Name: model, Length: 69235, dtype: int64"
            ]
          },
          "metadata": {},
          "execution_count": 19
        }
      ]
    },
    {
      "cell_type": "code",
      "source": [
        "df['logi'] = df['log'].apply(lambda x:' '.join(x.strip().split(' ')[5:5+3]))"
      ],
      "metadata": {
        "id": "YW8UpsVJBneK"
      },
      "execution_count": null,
      "outputs": []
    },
    {
      "cell_type": "code",
      "source": [
        "df[df['ans']=='abnormal']['logi'].value_counts()"
      ],
      "metadata": {
        "colab": {
          "base_uri": "https://localhost:8080/"
        },
        "id": "LDRxIFD7CUbQ",
        "outputId": "23fcb851-e479-4f16-d82e-ad52f066a0fe"
      },
      "execution_count": null,
      "outputs": [
        {
          "output_type": "execute_result",
          "data": {
            "text/plain": [
              "RAS KERNEL FATAL    67528\n",
              "RAS APP FATAL        2164\n",
              "Name: logi, dtype: int64"
            ]
          },
          "metadata": {},
          "execution_count": 41
        }
      ]
    },
    {
      "cell_type": "code",
      "source": [
        "df[(df['logi']=='RAS APP FATAL') & (df['ans']=='abnormal')]['log'][4082967]"
      ],
      "metadata": {
        "colab": {
          "base_uri": "https://localhost:8080/",
          "height": 54
        },
        "id": "JdzZfTv4FCd8",
        "outputId": "f758369d-c5b4-4891-97c6-637287682d4e"
      },
      "execution_count": null,
      "outputs": [
        {
          "output_type": "execute_result",
          "data": {
            "text/plain": [
              "'1117869872 2005.06.04 R04-M1-N4-I:J18-U01 2005-06-04-00.24.32.481570 R04-M1-N4-I:J18-U01 RAS APP FATAL ciod: failed to read message prefix on control stream (CioStream socket to 172.16.96.116:33570'"
            ],
            "application/vnd.google.colaboratory.intrinsic+json": {
              "type": "string"
            }
          },
          "metadata": {},
          "execution_count": 45
        }
      ]
    },
    {
      "cell_type": "code",
      "source": [
        "df[(df['logi']=='RAS APP FATAL') & (df['ans']=='abnormal')]['log'][4084735]"
      ],
      "metadata": {
        "colab": {
          "base_uri": "https://localhost:8080/",
          "height": 54
        },
        "id": "RPhWJxBNGKg9",
        "outputId": "c672551b-f601-44c6-911f-775babc97fde"
      },
      "execution_count": null,
      "outputs": [
        {
          "output_type": "execute_result",
          "data": {
            "text/plain": [
              "'1117886172 2005.06.04 R32-M0-N8-I:J18-U11 2005-06-04-04.56.12.501511 R32-M0-N8-I:J18-U11 RAS APP FATAL ciod: failed to read message prefix on control stream (CioStream socket to 172.16.96.116:36637'"
            ],
            "application/vnd.google.colaboratory.intrinsic+json": {
              "type": "string"
            }
          },
          "metadata": {},
          "execution_count": 54
        }
      ]
    },
    {
      "cell_type": "code",
      "source": [
        "df[(df['logi']=='RAS APP FATAL') & (df['ans']=='abnormal')]['log'][4085735]"
      ],
      "metadata": {
        "colab": {
          "base_uri": "https://localhost:8080/",
          "height": 54
        },
        "id": "oqohtJ6DFVa5",
        "outputId": "c52da856-9e04-43a8-ed82-03c04e374b68"
      },
      "execution_count": null,
      "outputs": [
        {
          "output_type": "execute_result",
          "data": {
            "text/plain": [
              "'1118287283 2005.06.08 R35-M1-NC-I:J18-U11 2005-06-08-20.21.23.605805 R35-M1-NC-I:J18-U11 RAS APP FATAL ciod: failed to read message prefix on control stream (CioStream socket to 172.16.96.116:38004'"
            ],
            "application/vnd.google.colaboratory.intrinsic+json": {
              "type": "string"
            }
          },
          "metadata": {},
          "execution_count": 48
        }
      ]
    },
    {
      "cell_type": "code",
      "source": [
        "df[(df['logi']=='RAS APP FATAL') & (df['ans']=='normal')]['log'][4987]"
      ],
      "metadata": {
        "colab": {
          "base_uri": "https://localhost:8080/",
          "height": 54
        },
        "id": "Me0HLcdZFamj",
        "outputId": "c25e0acd-0f20-4f8e-94c6-213236103026"
      },
      "execution_count": null,
      "outputs": [
        {
          "output_type": "execute_result",
          "data": {
            "text/plain": [
              "' 1117840660 2005.06.03 R26-M0-N0-I:J18-U01 2005-06-03-16.17.40.425081 R26-M0-N0-I:J18-U01 RAS APP FATAL ciod: Error loading /p/gb2/stella/RAPTOR/65641/raptor: invalid or missing program image, No such file or directory\\n'"
            ],
            "application/vnd.google.colaboratory.intrinsic+json": {
              "type": "string"
            }
          },
          "metadata": {},
          "execution_count": 50
        }
      ]
    },
    {
      "cell_type": "code",
      "source": [
        "df[(df['logi']=='RAS APP FATAL') & (df['ans']=='normal')]['log'][3991555]"
      ],
      "metadata": {
        "colab": {
          "base_uri": "https://localhost:8080/",
          "height": 54
        },
        "id": "lc_szetTFbME",
        "outputId": "f9c814e0-849a-41b3-ac34-7db4e49009f0"
      },
      "execution_count": null,
      "outputs": [
        {
          "output_type": "execute_result",
          "data": {
            "text/plain": [
              "' 1133409814 2005.11.30 R34-M0-N4-I:J18-U11 2005-11-30-20.03.34.172003 R34-M0-N4-I:J18-U11 RAS APP FATAL ciod: LOGIN chdir(/g/g0/spelce1/Linpack_SWL) failed: No such file or directory\\n'"
            ],
            "application/vnd.google.colaboratory.intrinsic+json": {
              "type": "string"
            }
          },
          "metadata": {},
          "execution_count": 52
        }
      ]
    },
    {
      "cell_type": "code",
      "source": [
        "df[(df['logi']=='RAS KERNEL FATAL') & (df['ans']=='abnormal')]['log'][4152658]"
      ],
      "metadata": {
        "colab": {
          "base_uri": "https://localhost:8080/",
          "height": 36
        },
        "id": "jsmUBMxmCbS4",
        "outputId": "528026bd-1ba0-40e0-ef30-9905d6857ff9"
      },
      "execution_count": null,
      "outputs": [
        {
          "output_type": "execute_result",
          "data": {
            "text/plain": [
              "'1118545530 2005.06.11 R30-M0-N9-C:J16-U01 2005-06-11-20.05.30.937080 R30-M0-N9-C:J16-U01 RAS KERNEL FATAL data TLB error interrupt'"
            ],
            "application/vnd.google.colaboratory.intrinsic+json": {
              "type": "string"
            }
          },
          "metadata": {},
          "execution_count": 47
        }
      ]
    },
    {
      "cell_type": "code",
      "source": [
        "df[(df['logi']=='RAS KERNEL FATAL') & (df['ans']=='normal')]['log'][27463]"
      ],
      "metadata": {
        "colab": {
          "base_uri": "https://localhost:8080/",
          "height": 36
        },
        "id": "7oeX7mmgC6vl",
        "outputId": "d2a5f844-01a8-4d1a-8475-41417ac49846"
      },
      "execution_count": null,
      "outputs": [
        {
          "output_type": "execute_result",
          "data": {
            "text/plain": [
              "' 1117957787 2005.06.05 R21-M1-N8-C:J10-U01 2005-06-05-00.49.47.926325 R21-M1-N8-C:J10-U01 RAS KERNEL FATAL instruction address: 0x0000df30\\n'"
            ],
            "application/vnd.google.colaboratory.intrinsic+json": {
              "type": "string"
            }
          },
          "metadata": {},
          "execution_count": 37
        }
      ]
    },
    {
      "cell_type": "code",
      "source": [
        "def f(x):\n",
        "  if \"RAS KERNEL FATAL\" in x or \"RAS APP FATAL\" in x:\n",
        "    if \"terminat\" in x or \"interrup\" in x:\n",
        "      return 0\n",
        "  return 1"
      ],
      "metadata": {
        "id": "ELAR1hczDjS3"
      },
      "execution_count": null,
      "outputs": []
    },
    {
      "cell_type": "code",
      "source": [
        "df['log'].apply(f).value_counts()"
      ],
      "metadata": {
        "colab": {
          "base_uri": "https://localhost:8080/"
        },
        "id": "xpcg9AgXJ722",
        "outputId": "d61eb45e-542f-4b5a-dcdd-87f89fcab0c8"
      },
      "execution_count": null,
      "outputs": [
        {
          "output_type": "execute_result",
          "data": {
            "text/plain": [
              "1    3998718\n",
              "0     153941\n",
              "Name: log, dtype: int64"
            ]
          },
          "metadata": {},
          "execution_count": 116
        }
      ]
    },
    {
      "cell_type": "code",
      "source": [
        "df['ans'].value_counts()"
      ],
      "metadata": {
        "colab": {
          "base_uri": "https://localhost:8080/"
        },
        "id": "YipXJD7hKB51",
        "outputId": "4b01a7f6-df35-4ca0-c33f-8ecf5d7724c6"
      },
      "execution_count": null,
      "outputs": [
        {
          "output_type": "execute_result",
          "data": {
            "text/plain": [
              "normal      4082967\n",
              "abnormal      69692\n",
              "Name: ans, dtype: int64"
            ]
          },
          "metadata": {},
          "execution_count": 79
        }
      ]
    },
    {
      "cell_type": "code",
      "source": [
        "df_test[' Label'] = df_test[' Log'].apply(f).apply(lambda x:\"normal\" if x==1 else \"abnormal\")"
      ],
      "metadata": {
        "id": "Ry9CObboKK9u"
      },
      "execution_count": null,
      "outputs": []
    },
    {
      "cell_type": "code",
      "source": [
        "df_ans = df_test.drop([' Log', 'ans'], axis = 1)"
      ],
      "metadata": {
        "id": "379TOkWSLYtn"
      },
      "execution_count": null,
      "outputs": []
    },
    {
      "cell_type": "code",
      "source": [
        "df_test"
      ],
      "metadata": {
        "colab": {
          "base_uri": "https://localhost:8080/",
          "height": 424
        },
        "id": "j6P7WxqQLaDJ",
        "outputId": "ccf4e49f-ebc6-4a2a-afa5-8cca4cb7645f"
      },
      "execution_count": null,
      "outputs": [
        {
          "output_type": "execute_result",
          "data": {
            "text/plain": [
              "            ID                                                Log  ans  \\\n",
              "0            0   1124336301 2005.08.17 R13-M1-N8-C:J12-U01 200...    0   \n",
              "1            1   1118553175 2005.06.11 R30-M0-N9-C:J16-U01 200...    0   \n",
              "2            2   1118536033 2005.06.11 R30-M0-N9-C:J16-U01 200...    0   \n",
              "3            3   1117992566 2005.06.05 R30-M1-N6-C:J03-U11 200...    1   \n",
              "4            4   1118538965 2005.06.11 R30-M0-N9-C:J16-U01 200...    0   \n",
              "...        ...                                                ...  ...   \n",
              "595295  595295   1118768234 2005.06.14 R20-M0-NA-C:J17-U11 200...    1   \n",
              "595296  595296   1118370947 2005.06.09 R15-M0-NA-C:J02-U01 200...    1   \n",
              "595297  595297   1118540242 2005.06.11 R30-M0-N9-C:J16-U01 200...    0   \n",
              "595298  595298   1118538947 2005.06.11 R30-M0-N9-C:J16-U01 200...    0   \n",
              "595299  595299   1118165805 2005.06.07 R23-M1-N5-C:J16-U11 200...    1   \n",
              "\n",
              "           Label     Label  \n",
              "0       abnormal  abnormal  \n",
              "1       abnormal  abnormal  \n",
              "2       abnormal  abnormal  \n",
              "3         normal    normal  \n",
              "4       abnormal  abnormal  \n",
              "...          ...       ...  \n",
              "595295    normal    normal  \n",
              "595296    normal    normal  \n",
              "595297  abnormal  abnormal  \n",
              "595298  abnormal  abnormal  \n",
              "595299    normal    normal  \n",
              "\n",
              "[595300 rows x 5 columns]"
            ],
            "text/html": [
              "\n",
              "  <div id=\"df-eb92c75d-854d-45c8-bce4-31a606ada6de\">\n",
              "    <div class=\"colab-df-container\">\n",
              "      <div>\n",
              "<style scoped>\n",
              "    .dataframe tbody tr th:only-of-type {\n",
              "        vertical-align: middle;\n",
              "    }\n",
              "\n",
              "    .dataframe tbody tr th {\n",
              "        vertical-align: top;\n",
              "    }\n",
              "\n",
              "    .dataframe thead th {\n",
              "        text-align: right;\n",
              "    }\n",
              "</style>\n",
              "<table border=\"1\" class=\"dataframe\">\n",
              "  <thead>\n",
              "    <tr style=\"text-align: right;\">\n",
              "      <th></th>\n",
              "      <th>ID</th>\n",
              "      <th>Log</th>\n",
              "      <th>ans</th>\n",
              "      <th>Label</th>\n",
              "      <th>Label</th>\n",
              "    </tr>\n",
              "  </thead>\n",
              "  <tbody>\n",
              "    <tr>\n",
              "      <th>0</th>\n",
              "      <td>0</td>\n",
              "      <td>1124336301 2005.08.17 R13-M1-N8-C:J12-U01 200...</td>\n",
              "      <td>0</td>\n",
              "      <td>abnormal</td>\n",
              "      <td>abnormal</td>\n",
              "    </tr>\n",
              "    <tr>\n",
              "      <th>1</th>\n",
              "      <td>1</td>\n",
              "      <td>1118553175 2005.06.11 R30-M0-N9-C:J16-U01 200...</td>\n",
              "      <td>0</td>\n",
              "      <td>abnormal</td>\n",
              "      <td>abnormal</td>\n",
              "    </tr>\n",
              "    <tr>\n",
              "      <th>2</th>\n",
              "      <td>2</td>\n",
              "      <td>1118536033 2005.06.11 R30-M0-N9-C:J16-U01 200...</td>\n",
              "      <td>0</td>\n",
              "      <td>abnormal</td>\n",
              "      <td>abnormal</td>\n",
              "    </tr>\n",
              "    <tr>\n",
              "      <th>3</th>\n",
              "      <td>3</td>\n",
              "      <td>1117992566 2005.06.05 R30-M1-N6-C:J03-U11 200...</td>\n",
              "      <td>1</td>\n",
              "      <td>normal</td>\n",
              "      <td>normal</td>\n",
              "    </tr>\n",
              "    <tr>\n",
              "      <th>4</th>\n",
              "      <td>4</td>\n",
              "      <td>1118538965 2005.06.11 R30-M0-N9-C:J16-U01 200...</td>\n",
              "      <td>0</td>\n",
              "      <td>abnormal</td>\n",
              "      <td>abnormal</td>\n",
              "    </tr>\n",
              "    <tr>\n",
              "      <th>...</th>\n",
              "      <td>...</td>\n",
              "      <td>...</td>\n",
              "      <td>...</td>\n",
              "      <td>...</td>\n",
              "      <td>...</td>\n",
              "    </tr>\n",
              "    <tr>\n",
              "      <th>595295</th>\n",
              "      <td>595295</td>\n",
              "      <td>1118768234 2005.06.14 R20-M0-NA-C:J17-U11 200...</td>\n",
              "      <td>1</td>\n",
              "      <td>normal</td>\n",
              "      <td>normal</td>\n",
              "    </tr>\n",
              "    <tr>\n",
              "      <th>595296</th>\n",
              "      <td>595296</td>\n",
              "      <td>1118370947 2005.06.09 R15-M0-NA-C:J02-U01 200...</td>\n",
              "      <td>1</td>\n",
              "      <td>normal</td>\n",
              "      <td>normal</td>\n",
              "    </tr>\n",
              "    <tr>\n",
              "      <th>595297</th>\n",
              "      <td>595297</td>\n",
              "      <td>1118540242 2005.06.11 R30-M0-N9-C:J16-U01 200...</td>\n",
              "      <td>0</td>\n",
              "      <td>abnormal</td>\n",
              "      <td>abnormal</td>\n",
              "    </tr>\n",
              "    <tr>\n",
              "      <th>595298</th>\n",
              "      <td>595298</td>\n",
              "      <td>1118538947 2005.06.11 R30-M0-N9-C:J16-U01 200...</td>\n",
              "      <td>0</td>\n",
              "      <td>abnormal</td>\n",
              "      <td>abnormal</td>\n",
              "    </tr>\n",
              "    <tr>\n",
              "      <th>595299</th>\n",
              "      <td>595299</td>\n",
              "      <td>1118165805 2005.06.07 R23-M1-N5-C:J16-U11 200...</td>\n",
              "      <td>1</td>\n",
              "      <td>normal</td>\n",
              "      <td>normal</td>\n",
              "    </tr>\n",
              "  </tbody>\n",
              "</table>\n",
              "<p>595300 rows × 5 columns</p>\n",
              "</div>\n",
              "      <button class=\"colab-df-convert\" onclick=\"convertToInteractive('df-eb92c75d-854d-45c8-bce4-31a606ada6de')\"\n",
              "              title=\"Convert this dataframe to an interactive table.\"\n",
              "              style=\"display:none;\">\n",
              "        \n",
              "  <svg xmlns=\"http://www.w3.org/2000/svg\" height=\"24px\"viewBox=\"0 0 24 24\"\n",
              "       width=\"24px\">\n",
              "    <path d=\"M0 0h24v24H0V0z\" fill=\"none\"/>\n",
              "    <path d=\"M18.56 5.44l.94 2.06.94-2.06 2.06-.94-2.06-.94-.94-2.06-.94 2.06-2.06.94zm-11 1L8.5 8.5l.94-2.06 2.06-.94-2.06-.94L8.5 2.5l-.94 2.06-2.06.94zm10 10l.94 2.06.94-2.06 2.06-.94-2.06-.94-.94-2.06-.94 2.06-2.06.94z\"/><path d=\"M17.41 7.96l-1.37-1.37c-.4-.4-.92-.59-1.43-.59-.52 0-1.04.2-1.43.59L10.3 9.45l-7.72 7.72c-.78.78-.78 2.05 0 2.83L4 21.41c.39.39.9.59 1.41.59.51 0 1.02-.2 1.41-.59l7.78-7.78 2.81-2.81c.8-.78.8-2.07 0-2.86zM5.41 20L4 18.59l7.72-7.72 1.47 1.35L5.41 20z\"/>\n",
              "  </svg>\n",
              "      </button>\n",
              "      \n",
              "  <style>\n",
              "    .colab-df-container {\n",
              "      display:flex;\n",
              "      flex-wrap:wrap;\n",
              "      gap: 12px;\n",
              "    }\n",
              "\n",
              "    .colab-df-convert {\n",
              "      background-color: #E8F0FE;\n",
              "      border: none;\n",
              "      border-radius: 50%;\n",
              "      cursor: pointer;\n",
              "      display: none;\n",
              "      fill: #1967D2;\n",
              "      height: 32px;\n",
              "      padding: 0 0 0 0;\n",
              "      width: 32px;\n",
              "    }\n",
              "\n",
              "    .colab-df-convert:hover {\n",
              "      background-color: #E2EBFA;\n",
              "      box-shadow: 0px 1px 2px rgba(60, 64, 67, 0.3), 0px 1px 3px 1px rgba(60, 64, 67, 0.15);\n",
              "      fill: #174EA6;\n",
              "    }\n",
              "\n",
              "    [theme=dark] .colab-df-convert {\n",
              "      background-color: #3B4455;\n",
              "      fill: #D2E3FC;\n",
              "    }\n",
              "\n",
              "    [theme=dark] .colab-df-convert:hover {\n",
              "      background-color: #434B5C;\n",
              "      box-shadow: 0px 1px 3px 1px rgba(0, 0, 0, 0.15);\n",
              "      filter: drop-shadow(0px 1px 2px rgba(0, 0, 0, 0.3));\n",
              "      fill: #FFFFFF;\n",
              "    }\n",
              "  </style>\n",
              "\n",
              "      <script>\n",
              "        const buttonEl =\n",
              "          document.querySelector('#df-eb92c75d-854d-45c8-bce4-31a606ada6de button.colab-df-convert');\n",
              "        buttonEl.style.display =\n",
              "          google.colab.kernel.accessAllowed ? 'block' : 'none';\n",
              "\n",
              "        async function convertToInteractive(key) {\n",
              "          const element = document.querySelector('#df-eb92c75d-854d-45c8-bce4-31a606ada6de');\n",
              "          const dataTable =\n",
              "            await google.colab.kernel.invokeFunction('convertToInteractive',\n",
              "                                                     [key], {});\n",
              "          if (!dataTable) return;\n",
              "\n",
              "          const docLinkHtml = 'Like what you see? Visit the ' +\n",
              "            '<a target=\"_blank\" href=https://colab.research.google.com/notebooks/data_table.ipynb>data table notebook</a>'\n",
              "            + ' to learn more about interactive tables.';\n",
              "          element.innerHTML = '';\n",
              "          dataTable['output_type'] = 'display_data';\n",
              "          await google.colab.output.renderOutput(dataTable, element);\n",
              "          const docLink = document.createElement('div');\n",
              "          docLink.innerHTML = docLinkHtml;\n",
              "          element.appendChild(docLink);\n",
              "        }\n",
              "      </script>\n",
              "    </div>\n",
              "  </div>\n",
              "  "
            ]
          },
          "metadata": {},
          "execution_count": 103
        }
      ]
    },
    {
      "cell_type": "code",
      "source": [
        "pd.read_csv('/content/convolve-epoch1/convolve-epoch1/sample_submission.csv')[' Label'].value_counts()"
      ],
      "metadata": {
        "colab": {
          "base_uri": "https://localhost:8080/"
        },
        "id": "3jfEyBr7Ld0M",
        "outputId": "a32e6135-4188-464b-c60c-9ff099779095"
      },
      "execution_count": null,
      "outputs": [
        {
          "output_type": "execute_result",
          "data": {
            "text/plain": [
              "normal    595300\n",
              "Name:  Label, dtype: int64"
            ]
          },
          "metadata": {},
          "execution_count": 115
        }
      ]
    },
    {
      "cell_type": "code",
      "source": [
        "df_ans"
      ],
      "metadata": {
        "colab": {
          "base_uri": "https://localhost:8080/",
          "height": 424
        },
        "id": "MXAf-JE2Rk3R",
        "outputId": "9e1f6cf2-c687-4839-89fa-88d1cce5ab61"
      },
      "execution_count": null,
      "outputs": [
        {
          "output_type": "execute_result",
          "data": {
            "text/plain": [
              "            ID     Label     Label\n",
              "0            0  abnormal  abnormal\n",
              "1            1  abnormal  abnormal\n",
              "2            2  abnormal  abnormal\n",
              "3            3    normal    normal\n",
              "4            4  abnormal  abnormal\n",
              "...        ...       ...       ...\n",
              "595295  595295    normal    normal\n",
              "595296  595296    normal    normal\n",
              "595297  595297  abnormal  abnormal\n",
              "595298  595298  abnormal  abnormal\n",
              "595299  595299    normal    normal\n",
              "\n",
              "[595300 rows x 3 columns]"
            ],
            "text/html": [
              "\n",
              "  <div id=\"df-3deb47d3-8427-411c-a4e4-1f558c7d1697\">\n",
              "    <div class=\"colab-df-container\">\n",
              "      <div>\n",
              "<style scoped>\n",
              "    .dataframe tbody tr th:only-of-type {\n",
              "        vertical-align: middle;\n",
              "    }\n",
              "\n",
              "    .dataframe tbody tr th {\n",
              "        vertical-align: top;\n",
              "    }\n",
              "\n",
              "    .dataframe thead th {\n",
              "        text-align: right;\n",
              "    }\n",
              "</style>\n",
              "<table border=\"1\" class=\"dataframe\">\n",
              "  <thead>\n",
              "    <tr style=\"text-align: right;\">\n",
              "      <th></th>\n",
              "      <th>ID</th>\n",
              "      <th>Label</th>\n",
              "      <th>Label</th>\n",
              "    </tr>\n",
              "  </thead>\n",
              "  <tbody>\n",
              "    <tr>\n",
              "      <th>0</th>\n",
              "      <td>0</td>\n",
              "      <td>abnormal</td>\n",
              "      <td>abnormal</td>\n",
              "    </tr>\n",
              "    <tr>\n",
              "      <th>1</th>\n",
              "      <td>1</td>\n",
              "      <td>abnormal</td>\n",
              "      <td>abnormal</td>\n",
              "    </tr>\n",
              "    <tr>\n",
              "      <th>2</th>\n",
              "      <td>2</td>\n",
              "      <td>abnormal</td>\n",
              "      <td>abnormal</td>\n",
              "    </tr>\n",
              "    <tr>\n",
              "      <th>3</th>\n",
              "      <td>3</td>\n",
              "      <td>normal</td>\n",
              "      <td>normal</td>\n",
              "    </tr>\n",
              "    <tr>\n",
              "      <th>4</th>\n",
              "      <td>4</td>\n",
              "      <td>abnormal</td>\n",
              "      <td>abnormal</td>\n",
              "    </tr>\n",
              "    <tr>\n",
              "      <th>...</th>\n",
              "      <td>...</td>\n",
              "      <td>...</td>\n",
              "      <td>...</td>\n",
              "    </tr>\n",
              "    <tr>\n",
              "      <th>595295</th>\n",
              "      <td>595295</td>\n",
              "      <td>normal</td>\n",
              "      <td>normal</td>\n",
              "    </tr>\n",
              "    <tr>\n",
              "      <th>595296</th>\n",
              "      <td>595296</td>\n",
              "      <td>normal</td>\n",
              "      <td>normal</td>\n",
              "    </tr>\n",
              "    <tr>\n",
              "      <th>595297</th>\n",
              "      <td>595297</td>\n",
              "      <td>abnormal</td>\n",
              "      <td>abnormal</td>\n",
              "    </tr>\n",
              "    <tr>\n",
              "      <th>595298</th>\n",
              "      <td>595298</td>\n",
              "      <td>abnormal</td>\n",
              "      <td>abnormal</td>\n",
              "    </tr>\n",
              "    <tr>\n",
              "      <th>595299</th>\n",
              "      <td>595299</td>\n",
              "      <td>normal</td>\n",
              "      <td>normal</td>\n",
              "    </tr>\n",
              "  </tbody>\n",
              "</table>\n",
              "<p>595300 rows × 3 columns</p>\n",
              "</div>\n",
              "      <button class=\"colab-df-convert\" onclick=\"convertToInteractive('df-3deb47d3-8427-411c-a4e4-1f558c7d1697')\"\n",
              "              title=\"Convert this dataframe to an interactive table.\"\n",
              "              style=\"display:none;\">\n",
              "        \n",
              "  <svg xmlns=\"http://www.w3.org/2000/svg\" height=\"24px\"viewBox=\"0 0 24 24\"\n",
              "       width=\"24px\">\n",
              "    <path d=\"M0 0h24v24H0V0z\" fill=\"none\"/>\n",
              "    <path d=\"M18.56 5.44l.94 2.06.94-2.06 2.06-.94-2.06-.94-.94-2.06-.94 2.06-2.06.94zm-11 1L8.5 8.5l.94-2.06 2.06-.94-2.06-.94L8.5 2.5l-.94 2.06-2.06.94zm10 10l.94 2.06.94-2.06 2.06-.94-2.06-.94-.94-2.06-.94 2.06-2.06.94z\"/><path d=\"M17.41 7.96l-1.37-1.37c-.4-.4-.92-.59-1.43-.59-.52 0-1.04.2-1.43.59L10.3 9.45l-7.72 7.72c-.78.78-.78 2.05 0 2.83L4 21.41c.39.39.9.59 1.41.59.51 0 1.02-.2 1.41-.59l7.78-7.78 2.81-2.81c.8-.78.8-2.07 0-2.86zM5.41 20L4 18.59l7.72-7.72 1.47 1.35L5.41 20z\"/>\n",
              "  </svg>\n",
              "      </button>\n",
              "      \n",
              "  <style>\n",
              "    .colab-df-container {\n",
              "      display:flex;\n",
              "      flex-wrap:wrap;\n",
              "      gap: 12px;\n",
              "    }\n",
              "\n",
              "    .colab-df-convert {\n",
              "      background-color: #E8F0FE;\n",
              "      border: none;\n",
              "      border-radius: 50%;\n",
              "      cursor: pointer;\n",
              "      display: none;\n",
              "      fill: #1967D2;\n",
              "      height: 32px;\n",
              "      padding: 0 0 0 0;\n",
              "      width: 32px;\n",
              "    }\n",
              "\n",
              "    .colab-df-convert:hover {\n",
              "      background-color: #E2EBFA;\n",
              "      box-shadow: 0px 1px 2px rgba(60, 64, 67, 0.3), 0px 1px 3px 1px rgba(60, 64, 67, 0.15);\n",
              "      fill: #174EA6;\n",
              "    }\n",
              "\n",
              "    [theme=dark] .colab-df-convert {\n",
              "      background-color: #3B4455;\n",
              "      fill: #D2E3FC;\n",
              "    }\n",
              "\n",
              "    [theme=dark] .colab-df-convert:hover {\n",
              "      background-color: #434B5C;\n",
              "      box-shadow: 0px 1px 3px 1px rgba(0, 0, 0, 0.15);\n",
              "      filter: drop-shadow(0px 1px 2px rgba(0, 0, 0, 0.3));\n",
              "      fill: #FFFFFF;\n",
              "    }\n",
              "  </style>\n",
              "\n",
              "      <script>\n",
              "        const buttonEl =\n",
              "          document.querySelector('#df-3deb47d3-8427-411c-a4e4-1f558c7d1697 button.colab-df-convert');\n",
              "        buttonEl.style.display =\n",
              "          google.colab.kernel.accessAllowed ? 'block' : 'none';\n",
              "\n",
              "        async function convertToInteractive(key) {\n",
              "          const element = document.querySelector('#df-3deb47d3-8427-411c-a4e4-1f558c7d1697');\n",
              "          const dataTable =\n",
              "            await google.colab.kernel.invokeFunction('convertToInteractive',\n",
              "                                                     [key], {});\n",
              "          if (!dataTable) return;\n",
              "\n",
              "          const docLinkHtml = 'Like what you see? Visit the ' +\n",
              "            '<a target=\"_blank\" href=https://colab.research.google.com/notebooks/data_table.ipynb>data table notebook</a>'\n",
              "            + ' to learn more about interactive tables.';\n",
              "          element.innerHTML = '';\n",
              "          dataTable['output_type'] = 'display_data';\n",
              "          await google.colab.output.renderOutput(dataTable, element);\n",
              "          const docLink = document.createElement('div');\n",
              "          docLink.innerHTML = docLinkHtml;\n",
              "          element.appendChild(docLink);\n",
              "        }\n",
              "      </script>\n",
              "    </div>\n",
              "  </div>\n",
              "  "
            ]
          },
          "metadata": {},
          "execution_count": 110
        }
      ]
    },
    {
      "cell_type": "code",
      "source": [
        "df_ans.drop(['Label'], axis = 1,inplace=True)"
      ],
      "metadata": {
        "id": "ZDFY2wUvRdkK"
      },
      "execution_count": null,
      "outputs": []
    },
    {
      "cell_type": "code",
      "source": [
        "df_ans.to_csv('./ans.csv', index=False)"
      ],
      "metadata": {
        "id": "B6XeohEiMiaM"
      },
      "execution_count": null,
      "outputs": []
    },
    {
      "cell_type": "code",
      "source": [
        "pd.read_csv('./ans.csv')"
      ],
      "metadata": {
        "colab": {
          "base_uri": "https://localhost:8080/",
          "height": 424
        },
        "id": "AXyZKnVxNEfO",
        "outputId": "0a6b000e-197b-48fc-8fe7-51e5dc2ae267"
      },
      "execution_count": null,
      "outputs": [
        {
          "output_type": "execute_result",
          "data": {
            "text/plain": [
              "            ID     Label\n",
              "0            0  abnormal\n",
              "1            1  abnormal\n",
              "2            2  abnormal\n",
              "3            3    normal\n",
              "4            4  abnormal\n",
              "...        ...       ...\n",
              "595295  595295    normal\n",
              "595296  595296    normal\n",
              "595297  595297  abnormal\n",
              "595298  595298  abnormal\n",
              "595299  595299    normal\n",
              "\n",
              "[595300 rows x 2 columns]"
            ],
            "text/html": [
              "\n",
              "  <div id=\"df-90f439c5-1b4f-4739-9cbd-f0c6b98394dd\">\n",
              "    <div class=\"colab-df-container\">\n",
              "      <div>\n",
              "<style scoped>\n",
              "    .dataframe tbody tr th:only-of-type {\n",
              "        vertical-align: middle;\n",
              "    }\n",
              "\n",
              "    .dataframe tbody tr th {\n",
              "        vertical-align: top;\n",
              "    }\n",
              "\n",
              "    .dataframe thead th {\n",
              "        text-align: right;\n",
              "    }\n",
              "</style>\n",
              "<table border=\"1\" class=\"dataframe\">\n",
              "  <thead>\n",
              "    <tr style=\"text-align: right;\">\n",
              "      <th></th>\n",
              "      <th>ID</th>\n",
              "      <th>Label</th>\n",
              "    </tr>\n",
              "  </thead>\n",
              "  <tbody>\n",
              "    <tr>\n",
              "      <th>0</th>\n",
              "      <td>0</td>\n",
              "      <td>abnormal</td>\n",
              "    </tr>\n",
              "    <tr>\n",
              "      <th>1</th>\n",
              "      <td>1</td>\n",
              "      <td>abnormal</td>\n",
              "    </tr>\n",
              "    <tr>\n",
              "      <th>2</th>\n",
              "      <td>2</td>\n",
              "      <td>abnormal</td>\n",
              "    </tr>\n",
              "    <tr>\n",
              "      <th>3</th>\n",
              "      <td>3</td>\n",
              "      <td>normal</td>\n",
              "    </tr>\n",
              "    <tr>\n",
              "      <th>4</th>\n",
              "      <td>4</td>\n",
              "      <td>abnormal</td>\n",
              "    </tr>\n",
              "    <tr>\n",
              "      <th>...</th>\n",
              "      <td>...</td>\n",
              "      <td>...</td>\n",
              "    </tr>\n",
              "    <tr>\n",
              "      <th>595295</th>\n",
              "      <td>595295</td>\n",
              "      <td>normal</td>\n",
              "    </tr>\n",
              "    <tr>\n",
              "      <th>595296</th>\n",
              "      <td>595296</td>\n",
              "      <td>normal</td>\n",
              "    </tr>\n",
              "    <tr>\n",
              "      <th>595297</th>\n",
              "      <td>595297</td>\n",
              "      <td>abnormal</td>\n",
              "    </tr>\n",
              "    <tr>\n",
              "      <th>595298</th>\n",
              "      <td>595298</td>\n",
              "      <td>abnormal</td>\n",
              "    </tr>\n",
              "    <tr>\n",
              "      <th>595299</th>\n",
              "      <td>595299</td>\n",
              "      <td>normal</td>\n",
              "    </tr>\n",
              "  </tbody>\n",
              "</table>\n",
              "<p>595300 rows × 2 columns</p>\n",
              "</div>\n",
              "      <button class=\"colab-df-convert\" onclick=\"convertToInteractive('df-90f439c5-1b4f-4739-9cbd-f0c6b98394dd')\"\n",
              "              title=\"Convert this dataframe to an interactive table.\"\n",
              "              style=\"display:none;\">\n",
              "        \n",
              "  <svg xmlns=\"http://www.w3.org/2000/svg\" height=\"24px\"viewBox=\"0 0 24 24\"\n",
              "       width=\"24px\">\n",
              "    <path d=\"M0 0h24v24H0V0z\" fill=\"none\"/>\n",
              "    <path d=\"M18.56 5.44l.94 2.06.94-2.06 2.06-.94-2.06-.94-.94-2.06-.94 2.06-2.06.94zm-11 1L8.5 8.5l.94-2.06 2.06-.94-2.06-.94L8.5 2.5l-.94 2.06-2.06.94zm10 10l.94 2.06.94-2.06 2.06-.94-2.06-.94-.94-2.06-.94 2.06-2.06.94z\"/><path d=\"M17.41 7.96l-1.37-1.37c-.4-.4-.92-.59-1.43-.59-.52 0-1.04.2-1.43.59L10.3 9.45l-7.72 7.72c-.78.78-.78 2.05 0 2.83L4 21.41c.39.39.9.59 1.41.59.51 0 1.02-.2 1.41-.59l7.78-7.78 2.81-2.81c.8-.78.8-2.07 0-2.86zM5.41 20L4 18.59l7.72-7.72 1.47 1.35L5.41 20z\"/>\n",
              "  </svg>\n",
              "      </button>\n",
              "      \n",
              "  <style>\n",
              "    .colab-df-container {\n",
              "      display:flex;\n",
              "      flex-wrap:wrap;\n",
              "      gap: 12px;\n",
              "    }\n",
              "\n",
              "    .colab-df-convert {\n",
              "      background-color: #E8F0FE;\n",
              "      border: none;\n",
              "      border-radius: 50%;\n",
              "      cursor: pointer;\n",
              "      display: none;\n",
              "      fill: #1967D2;\n",
              "      height: 32px;\n",
              "      padding: 0 0 0 0;\n",
              "      width: 32px;\n",
              "    }\n",
              "\n",
              "    .colab-df-convert:hover {\n",
              "      background-color: #E2EBFA;\n",
              "      box-shadow: 0px 1px 2px rgba(60, 64, 67, 0.3), 0px 1px 3px 1px rgba(60, 64, 67, 0.15);\n",
              "      fill: #174EA6;\n",
              "    }\n",
              "\n",
              "    [theme=dark] .colab-df-convert {\n",
              "      background-color: #3B4455;\n",
              "      fill: #D2E3FC;\n",
              "    }\n",
              "\n",
              "    [theme=dark] .colab-df-convert:hover {\n",
              "      background-color: #434B5C;\n",
              "      box-shadow: 0px 1px 3px 1px rgba(0, 0, 0, 0.15);\n",
              "      filter: drop-shadow(0px 1px 2px rgba(0, 0, 0, 0.3));\n",
              "      fill: #FFFFFF;\n",
              "    }\n",
              "  </style>\n",
              "\n",
              "      <script>\n",
              "        const buttonEl =\n",
              "          document.querySelector('#df-90f439c5-1b4f-4739-9cbd-f0c6b98394dd button.colab-df-convert');\n",
              "        buttonEl.style.display =\n",
              "          google.colab.kernel.accessAllowed ? 'block' : 'none';\n",
              "\n",
              "        async function convertToInteractive(key) {\n",
              "          const element = document.querySelector('#df-90f439c5-1b4f-4739-9cbd-f0c6b98394dd');\n",
              "          const dataTable =\n",
              "            await google.colab.kernel.invokeFunction('convertToInteractive',\n",
              "                                                     [key], {});\n",
              "          if (!dataTable) return;\n",
              "\n",
              "          const docLinkHtml = 'Like what you see? Visit the ' +\n",
              "            '<a target=\"_blank\" href=https://colab.research.google.com/notebooks/data_table.ipynb>data table notebook</a>'\n",
              "            + ' to learn more about interactive tables.';\n",
              "          element.innerHTML = '';\n",
              "          dataTable['output_type'] = 'display_data';\n",
              "          await google.colab.output.renderOutput(dataTable, element);\n",
              "          const docLink = document.createElement('div');\n",
              "          docLink.innerHTML = docLinkHtml;\n",
              "          element.appendChild(docLink);\n",
              "        }\n",
              "      </script>\n",
              "    </div>\n",
              "  </div>\n",
              "  "
            ]
          },
          "metadata": {},
          "execution_count": 113
        }
      ]
    },
    {
      "cell_type": "code",
      "source": [
        "!pip install sentence_transformers"
      ],
      "metadata": {
        "colab": {
          "base_uri": "https://localhost:8080/"
        },
        "id": "VLzif9QAGAtS",
        "outputId": "8be09382-1972-4bc2-e00e-c4fdeb7097dc"
      },
      "execution_count": null,
      "outputs": [
        {
          "output_type": "stream",
          "name": "stdout",
          "text": [
            "Looking in indexes: https://pypi.org/simple, https://us-python.pkg.dev/colab-wheels/public/simple/\n",
            "Collecting sentence_transformers\n",
            "  Downloading sentence-transformers-2.2.2.tar.gz (85 kB)\n",
            "\u001b[K     |████████████████████████████████| 85 kB 4.8 MB/s \n",
            "\u001b[?25hCollecting transformers<5.0.0,>=4.6.0\n",
            "  Downloading transformers-4.25.1-py3-none-any.whl (5.8 MB)\n",
            "\u001b[K     |████████████████████████████████| 5.8 MB 75.6 MB/s \n",
            "\u001b[?25hRequirement already satisfied: tqdm in /usr/local/lib/python3.8/dist-packages (from sentence_transformers) (4.64.1)\n",
            "Requirement already satisfied: torch>=1.6.0 in /usr/local/lib/python3.8/dist-packages (from sentence_transformers) (1.13.0+cu116)\n",
            "Requirement already satisfied: torchvision in /usr/local/lib/python3.8/dist-packages (from sentence_transformers) (0.14.0+cu116)\n",
            "Requirement already satisfied: numpy in /usr/local/lib/python3.8/dist-packages (from sentence_transformers) (1.21.6)\n",
            "Requirement already satisfied: scikit-learn in /usr/local/lib/python3.8/dist-packages (from sentence_transformers) (1.0.2)\n",
            "Requirement already satisfied: scipy in /usr/local/lib/python3.8/dist-packages (from sentence_transformers) (1.7.3)\n",
            "Requirement already satisfied: nltk in /usr/local/lib/python3.8/dist-packages (from sentence_transformers) (3.7)\n",
            "Collecting sentencepiece\n",
            "  Downloading sentencepiece-0.1.97-cp38-cp38-manylinux_2_17_x86_64.manylinux2014_x86_64.whl (1.3 MB)\n",
            "\u001b[K     |████████████████████████████████| 1.3 MB 53.4 MB/s \n",
            "\u001b[?25hCollecting huggingface-hub>=0.4.0\n",
            "  Downloading huggingface_hub-0.11.1-py3-none-any.whl (182 kB)\n",
            "\u001b[K     |████████████████████████████████| 182 kB 77.3 MB/s \n",
            "\u001b[?25hRequirement already satisfied: requests in /usr/local/lib/python3.8/dist-packages (from huggingface-hub>=0.4.0->sentence_transformers) (2.23.0)\n",
            "Requirement already satisfied: typing-extensions>=3.7.4.3 in /usr/local/lib/python3.8/dist-packages (from huggingface-hub>=0.4.0->sentence_transformers) (4.4.0)\n",
            "Requirement already satisfied: pyyaml>=5.1 in /usr/local/lib/python3.8/dist-packages (from huggingface-hub>=0.4.0->sentence_transformers) (6.0)\n",
            "Requirement already satisfied: packaging>=20.9 in /usr/local/lib/python3.8/dist-packages (from huggingface-hub>=0.4.0->sentence_transformers) (21.3)\n",
            "Requirement already satisfied: filelock in /usr/local/lib/python3.8/dist-packages (from huggingface-hub>=0.4.0->sentence_transformers) (3.8.0)\n",
            "Requirement already satisfied: pyparsing!=3.0.5,>=2.0.2 in /usr/local/lib/python3.8/dist-packages (from packaging>=20.9->huggingface-hub>=0.4.0->sentence_transformers) (3.0.9)\n",
            "Collecting tokenizers!=0.11.3,<0.14,>=0.11.1\n",
            "  Downloading tokenizers-0.13.2-cp38-cp38-manylinux_2_17_x86_64.manylinux2014_x86_64.whl (7.6 MB)\n",
            "\u001b[K     |████████████████████████████████| 7.6 MB 60.1 MB/s \n",
            "\u001b[?25hRequirement already satisfied: regex!=2019.12.17 in /usr/local/lib/python3.8/dist-packages (from transformers<5.0.0,>=4.6.0->sentence_transformers) (2022.6.2)\n",
            "Requirement already satisfied: click in /usr/local/lib/python3.8/dist-packages (from nltk->sentence_transformers) (7.1.2)\n",
            "Requirement already satisfied: joblib in /usr/local/lib/python3.8/dist-packages (from nltk->sentence_transformers) (1.2.0)\n",
            "Requirement already satisfied: urllib3!=1.25.0,!=1.25.1,<1.26,>=1.21.1 in /usr/local/lib/python3.8/dist-packages (from requests->huggingface-hub>=0.4.0->sentence_transformers) (1.24.3)\n",
            "Requirement already satisfied: idna<3,>=2.5 in /usr/local/lib/python3.8/dist-packages (from requests->huggingface-hub>=0.4.0->sentence_transformers) (2.10)\n",
            "Requirement already satisfied: certifi>=2017.4.17 in /usr/local/lib/python3.8/dist-packages (from requests->huggingface-hub>=0.4.0->sentence_transformers) (2022.9.24)\n",
            "Requirement already satisfied: chardet<4,>=3.0.2 in /usr/local/lib/python3.8/dist-packages (from requests->huggingface-hub>=0.4.0->sentence_transformers) (3.0.4)\n",
            "Requirement already satisfied: threadpoolctl>=2.0.0 in /usr/local/lib/python3.8/dist-packages (from scikit-learn->sentence_transformers) (3.1.0)\n",
            "Requirement already satisfied: pillow!=8.3.*,>=5.3.0 in /usr/local/lib/python3.8/dist-packages (from torchvision->sentence_transformers) (7.1.2)\n",
            "Building wheels for collected packages: sentence-transformers\n",
            "  Building wheel for sentence-transformers (setup.py) ... \u001b[?25l\u001b[?25hdone\n",
            "  Created wheel for sentence-transformers: filename=sentence_transformers-2.2.2-py3-none-any.whl size=125938 sha256=4793bc8c1b03a8c6cf1a0a50c0647a8858b7e95b87ee0e6a85ffb33ee47a238d\n",
            "  Stored in directory: /root/.cache/pip/wheels/5e/6f/8c/d88aec621f3f542d26fac0342bef5e693335d125f4e54aeffe\n",
            "Successfully built sentence-transformers\n",
            "Installing collected packages: tokenizers, huggingface-hub, transformers, sentencepiece, sentence-transformers\n",
            "Successfully installed huggingface-hub-0.11.1 sentence-transformers-2.2.2 sentencepiece-0.1.97 tokenizers-0.13.2 transformers-4.25.1\n"
          ]
        }
      ]
    },
    {
      "cell_type": "code",
      "source": [
        "from sklearn.model_selection import train_test_split"
      ],
      "metadata": {
        "id": "9KUyAFjnNHcp"
      },
      "execution_count": null,
      "outputs": []
    },
    {
      "cell_type": "code",
      "source": [
        "X_train = df[df['ans']=='abnormal']['log']"
      ],
      "metadata": {
        "id": "ibhf8T-QM9C8"
      },
      "execution_count": null,
      "outputs": []
    },
    {
      "cell_type": "code",
      "source": [
        "y_train = df[df['ans']=='abnormal']['ans']"
      ],
      "metadata": {
        "id": "CxGFbTVcN0ZK"
      },
      "execution_count": null,
      "outputs": []
    },
    {
      "cell_type": "code",
      "source": [
        "X_train, X_test, y_train, y_test = train_test_split(df['log'], df['ans'], test_size = 0.99)"
      ],
      "metadata": {
        "id": "Ve__8kUhE80t"
      },
      "execution_count": null,
      "outputs": []
    },
    {
      "cell_type": "code",
      "source": [
        "X_train"
      ],
      "metadata": {
        "colab": {
          "base_uri": "https://localhost:8080/"
        },
        "id": "dhIawtr6F0AL",
        "outputId": "87d6e185-ef1a-4826-8334-0eede95c51f5"
      },
      "execution_count": null,
      "outputs": [
        {
          "output_type": "execute_result",
          "data": {
            "text/plain": [
              "4082967    1117869872 2005.06.04 R04-M1-N4-I:J18-U01 2005...\n",
              "4082968    1117869872 2005.06.04 R04-M1-N4-I:J18-U11 2005...\n",
              "4082969    1117869872 2005.06.04 R23-M1-N8-I:J18-U11 2005...\n",
              "4082970    1117869873 2005.06.04 R22-M1-N8-I:J18-U01 2005...\n",
              "4082971    1117869873 2005.06.04 R22-M1-N8-I:J18-U11 2005...\n",
              "                                 ...                        \n",
              "4152654    1118545530 2005.06.11 R30-M0-N9-C:J16-U01 2005...\n",
              "4152655    1118545530 2005.06.11 R30-M0-N9-C:J16-U01 2005...\n",
              "4152656    1118545530 2005.06.11 R30-M0-N9-C:J16-U01 2005...\n",
              "4152657    1118545530 2005.06.11 R30-M0-N9-C:J16-U01 2005...\n",
              "4152658    1118545530 2005.06.11 R30-M0-N9-C:J16-U01 2005...\n",
              "Name: log, Length: 69692, dtype: object"
            ]
          },
          "metadata": {},
          "execution_count": 42
        }
      ]
    },
    {
      "cell_type": "code",
      "source": [
        "from sentence_transformers import SentenceTransformer\n",
        "model = SentenceTransformer('all-MiniLM-L6-v2', device=\"cuda\")"
      ],
      "metadata": {
        "id": "lyCwJ8ETF6qz"
      },
      "execution_count": null,
      "outputs": []
    },
    {
      "cell_type": "code",
      "source": [
        "embeddings = model.encode(np.array(df_test[' Log']), show_progress_bar=True)"
      ],
      "metadata": {
        "colab": {
          "base_uri": "https://localhost:8080/",
          "height": 49,
          "referenced_widgets": [
            "964f4096e9974778a8221b03ec4fa838",
            "9403cbea945d4dfab599a856dcd22536",
            "fe26d07e88964d8e9addaf3fd242b368",
            "22fe223c586e4f6ca335d8ebb53ae380",
            "6b93c83dc4e74b37a7569af7bf8031c3",
            "a0b1457e10fa471ca3f1f2f9dabe4840",
            "5902e414cd6f49ff9cc93ec145034c30",
            "78701abfde6c416d9596590f744add4c",
            "16b82ca69e1c4092a18a087708de032b",
            "77222d2e90bd4c6d9fee5f0696d32efe",
            "9d1a498b70254af3b8736697d6e6a4b5"
          ]
        },
        "id": "okhfEXaXGePt",
        "outputId": "3c9b8bd0-6c11-40d5-cb57-5cef90fd4746"
      },
      "execution_count": null,
      "outputs": [
        {
          "output_type": "display_data",
          "data": {
            "text/plain": [
              "Batches:   0%|          | 0/18604 [00:00<?, ?it/s]"
            ],
            "application/vnd.jupyter.widget-view+json": {
              "version_major": 2,
              "version_minor": 0,
              "model_id": "964f4096e9974778a8221b03ec4fa838"
            }
          },
          "metadata": {}
        }
      ]
    },
    {
      "cell_type": "code",
      "source": [
        "embeddings.shape"
      ],
      "metadata": {
        "colab": {
          "base_uri": "https://localhost:8080/"
        },
        "id": "AhMxNUqZIyvb",
        "outputId": "301c3b2e-9e83-4e8d-9e82-8e276366b90b"
      },
      "execution_count": null,
      "outputs": [
        {
          "output_type": "execute_result",
          "data": {
            "text/plain": [
              "(41526, 384)"
            ]
          },
          "metadata": {},
          "execution_count": 36
        }
      ]
    },
    {
      "cell_type": "code",
      "source": [
        "y_t = np.array(y_train.apply(lambda x:1 if x=='normal' else 0))"
      ],
      "metadata": {
        "id": "MuEv4kHQI3yf"
      },
      "execution_count": null,
      "outputs": []
    },
    {
      "cell_type": "code",
      "source": [
        "from sklearn.neighbors import KNeighborsClassifier  \n",
        "classifier= KNeighborsClassifier(n_neighbors=2 )  \n",
        "classifier.fit(embeddings, y_t)  "
      ],
      "metadata": {
        "colab": {
          "base_uri": "https://localhost:8080/"
        },
        "id": "HedQTPIgJSJc",
        "outputId": "288aea85-dcea-4052-9d51-c744ee34744a"
      },
      "execution_count": null,
      "outputs": [
        {
          "output_type": "execute_result",
          "data": {
            "text/plain": [
              "KNeighborsClassifier(n_neighbors=2)"
            ]
          },
          "metadata": {},
          "execution_count": 20
        }
      ]
    },
    {
      "cell_type": "code",
      "source": [
        "yprd = classifier.predict(embeddings)"
      ],
      "metadata": {
        "id": "bmOl2GL7K5-l"
      },
      "execution_count": null,
      "outputs": []
    },
    {
      "cell_type": "code",
      "source": [
        "from sklearn.metrics import classification_report"
      ],
      "metadata": {
        "id": "ScPojPEuK9vV"
      },
      "execution_count": null,
      "outputs": []
    },
    {
      "cell_type": "code",
      "source": [
        "print(classification_report(y_t, yprd))"
      ],
      "metadata": {
        "colab": {
          "base_uri": "https://localhost:8080/"
        },
        "id": "NoGxlRYaLWjo",
        "outputId": "5a096591-b293-4cec-9f5c-53e46a6f8071"
      },
      "execution_count": null,
      "outputs": [
        {
          "output_type": "stream",
          "name": "stdout",
          "text": [
            "              precision    recall  f1-score   support\n",
            "\n",
            "           0       1.00      1.00      1.00     69692\n",
            "           1       0.00      0.00      0.00         0\n",
            "\n",
            "    accuracy                           1.00     69692\n",
            "   macro avg       0.50      0.50      0.50     69692\n",
            "weighted avg       1.00      1.00      1.00     69692\n",
            "\n"
          ]
        },
        {
          "output_type": "stream",
          "name": "stderr",
          "text": [
            "/usr/local/lib/python3.8/dist-packages/sklearn/metrics/_classification.py:1318: UndefinedMetricWarning: Recall and F-score are ill-defined and being set to 0.0 in labels with no true samples. Use `zero_division` parameter to control this behavior.\n",
            "  _warn_prf(average, modifier, msg_start, len(result))\n",
            "/usr/local/lib/python3.8/dist-packages/sklearn/metrics/_classification.py:1318: UndefinedMetricWarning: Recall and F-score are ill-defined and being set to 0.0 in labels with no true samples. Use `zero_division` parameter to control this behavior.\n",
            "  _warn_prf(average, modifier, msg_start, len(result))\n",
            "/usr/local/lib/python3.8/dist-packages/sklearn/metrics/_classification.py:1318: UndefinedMetricWarning: Recall and F-score are ill-defined and being set to 0.0 in labels with no true samples. Use `zero_division` parameter to control this behavior.\n",
            "  _warn_prf(average, modifier, msg_start, len(result))\n"
          ]
        }
      ]
    },
    {
      "cell_type": "code",
      "source": [
        "np.array(X_train)"
      ],
      "metadata": {
        "colab": {
          "base_uri": "https://localhost:8080/"
        },
        "id": "YvKPA1O2GlSS",
        "outputId": "a52cc9e4-3078-4d14-f68c-37c4797f7878"
      },
      "execution_count": null,
      "outputs": [
        {
          "output_type": "execute_result",
          "data": {
            "text/plain": [
              "array([' 1122430726 2005.07.26 R31-M1-N9-C:J02-U01 2005-07-26-19.18.46.933335 R31-M1-N9-C:J02-U01 RAS KERNEL INFO generating core.56339\\n',\n",
              "       ' 1133448255 2005.12.01 R70-M1-N9-C:J16-U01 2005-12-01-06.44.15.870240 R70-M1-N9-C:J16-U01 RAS KERNEL INFO 10636 total interrupts. 0 critical input interrupts. 0 microseconds total spent on critical input interrupts, 0 microseconds max time in a critical input interrupt.\\n',\n",
              "       ' 1120917428 2005.07.09 R15-M1-NA-C:J09-U11 2005-07-09-06.57.08.821159 R15-M1-NA-C:J09-U11 RAS KERNEL INFO generating core.11358\\n',\n",
              "       ...,\n",
              "       ' 1120267031 2005.07.01 R26-M0-N8-C:J10-U11 2005-07-01-18.17.11.104481 R26-M0-N8-C:J10-U11 RAS KERNEL INFO 1049200 double-hummer alignment exceptions\\n',\n",
              "       ' 1122143253 2005.07.23 R12-M0-N4-C:J15-U11 2005-07-23-11.27.33.216558 R12-M0-N4-C:J15-U11 RAS KERNEL INFO generating core.7164\\n',\n",
              "       ' 1120917394 2005.07.09 R11-M1-N8-C:J05-U01 2005-07-09-06.56.34.638188 R11-M1-N8-C:J05-U01 RAS KERNEL INFO generating core.11799\\n'],\n",
              "      dtype=object)"
            ]
          },
          "metadata": {},
          "execution_count": 25
        }
      ]
    },
    {
      "cell_type": "code",
      "source": [
        "yprd"
      ],
      "metadata": {
        "colab": {
          "base_uri": "https://localhost:8080/"
        },
        "id": "k8yROuRyGpja",
        "outputId": "20cb25da-8989-4407-c9b2-e4ec1aa2e89a"
      },
      "execution_count": null,
      "outputs": [
        {
          "output_type": "execute_result",
          "data": {
            "text/plain": [
              "array([1, 0, 0, ..., 0, 0, 1])"
            ]
          },
          "metadata": {},
          "execution_count": 60
        }
      ]
    },
    {
      "cell_type": "code",
      "source": [
        "df_test[' Label'] = yprd"
      ],
      "metadata": {
        "id": "zsVd5WaPUdk3"
      },
      "execution_count": null,
      "outputs": []
    },
    {
      "cell_type": "code",
      "source": [
        "df_ans = df_test.drop([' Log'], axis=1)"
      ],
      "metadata": {
        "id": "dkDpLC0XUkDB"
      },
      "execution_count": null,
      "outputs": []
    },
    {
      "cell_type": "code",
      "source": [
        "df_ans[' Label'] = df_ans[' Label'].apply(lambda x:\"normal\" if x==1 else \"abnormal\")"
      ],
      "metadata": {
        "id": "yecDdOpcVyZT"
      },
      "execution_count": null,
      "outputs": []
    },
    {
      "cell_type": "code",
      "source": [
        "df_ans.to_csv('./ans.csv', index=False)"
      ],
      "metadata": {
        "id": "nPniPV_oUvKG"
      },
      "execution_count": null,
      "outputs": []
    },
    {
      "cell_type": "code",
      "source": [
        "df_ans[' Label'].value_counts()"
      ],
      "metadata": {
        "colab": {
          "base_uri": "https://localhost:8080/"
        },
        "id": "woel62f2VmUH",
        "outputId": "a7556fd0-cd97-4d79-8b83-31e03572fb9d"
      },
      "execution_count": null,
      "outputs": [
        {
          "output_type": "execute_result",
          "data": {
            "text/plain": [
              "normal      424762\n",
              "abnormal    170538\n",
              "Name:  Label, dtype: int64"
            ]
          },
          "metadata": {},
          "execution_count": 73
        }
      ]
    },
    {
      "cell_type": "code",
      "source": [
        "pd.read_csv('./ans.csv')"
      ],
      "metadata": {
        "colab": {
          "base_uri": "https://localhost:8080/",
          "height": 424
        },
        "id": "IxvkRae0Uw3d",
        "outputId": "496c8000-c00a-40a2-da62-220d91aa566d"
      },
      "execution_count": null,
      "outputs": [
        {
          "output_type": "execute_result",
          "data": {
            "text/plain": [
              "            ID     Label\n",
              "0            0    normal\n",
              "1            1  abnormal\n",
              "2            2  abnormal\n",
              "3            3    normal\n",
              "4            4  abnormal\n",
              "...        ...       ...\n",
              "595295  595295    normal\n",
              "595296  595296    normal\n",
              "595297  595297  abnormal\n",
              "595298  595298  abnormal\n",
              "595299  595299    normal\n",
              "\n",
              "[595300 rows x 2 columns]"
            ],
            "text/html": [
              "\n",
              "  <div id=\"df-3a7d8850-b2fc-4a2c-8867-9a115e96b5b7\">\n",
              "    <div class=\"colab-df-container\">\n",
              "      <div>\n",
              "<style scoped>\n",
              "    .dataframe tbody tr th:only-of-type {\n",
              "        vertical-align: middle;\n",
              "    }\n",
              "\n",
              "    .dataframe tbody tr th {\n",
              "        vertical-align: top;\n",
              "    }\n",
              "\n",
              "    .dataframe thead th {\n",
              "        text-align: right;\n",
              "    }\n",
              "</style>\n",
              "<table border=\"1\" class=\"dataframe\">\n",
              "  <thead>\n",
              "    <tr style=\"text-align: right;\">\n",
              "      <th></th>\n",
              "      <th>ID</th>\n",
              "      <th>Label</th>\n",
              "    </tr>\n",
              "  </thead>\n",
              "  <tbody>\n",
              "    <tr>\n",
              "      <th>0</th>\n",
              "      <td>0</td>\n",
              "      <td>normal</td>\n",
              "    </tr>\n",
              "    <tr>\n",
              "      <th>1</th>\n",
              "      <td>1</td>\n",
              "      <td>abnormal</td>\n",
              "    </tr>\n",
              "    <tr>\n",
              "      <th>2</th>\n",
              "      <td>2</td>\n",
              "      <td>abnormal</td>\n",
              "    </tr>\n",
              "    <tr>\n",
              "      <th>3</th>\n",
              "      <td>3</td>\n",
              "      <td>normal</td>\n",
              "    </tr>\n",
              "    <tr>\n",
              "      <th>4</th>\n",
              "      <td>4</td>\n",
              "      <td>abnormal</td>\n",
              "    </tr>\n",
              "    <tr>\n",
              "      <th>...</th>\n",
              "      <td>...</td>\n",
              "      <td>...</td>\n",
              "    </tr>\n",
              "    <tr>\n",
              "      <th>595295</th>\n",
              "      <td>595295</td>\n",
              "      <td>normal</td>\n",
              "    </tr>\n",
              "    <tr>\n",
              "      <th>595296</th>\n",
              "      <td>595296</td>\n",
              "      <td>normal</td>\n",
              "    </tr>\n",
              "    <tr>\n",
              "      <th>595297</th>\n",
              "      <td>595297</td>\n",
              "      <td>abnormal</td>\n",
              "    </tr>\n",
              "    <tr>\n",
              "      <th>595298</th>\n",
              "      <td>595298</td>\n",
              "      <td>abnormal</td>\n",
              "    </tr>\n",
              "    <tr>\n",
              "      <th>595299</th>\n",
              "      <td>595299</td>\n",
              "      <td>normal</td>\n",
              "    </tr>\n",
              "  </tbody>\n",
              "</table>\n",
              "<p>595300 rows × 2 columns</p>\n",
              "</div>\n",
              "      <button class=\"colab-df-convert\" onclick=\"convertToInteractive('df-3a7d8850-b2fc-4a2c-8867-9a115e96b5b7')\"\n",
              "              title=\"Convert this dataframe to an interactive table.\"\n",
              "              style=\"display:none;\">\n",
              "        \n",
              "  <svg xmlns=\"http://www.w3.org/2000/svg\" height=\"24px\"viewBox=\"0 0 24 24\"\n",
              "       width=\"24px\">\n",
              "    <path d=\"M0 0h24v24H0V0z\" fill=\"none\"/>\n",
              "    <path d=\"M18.56 5.44l.94 2.06.94-2.06 2.06-.94-2.06-.94-.94-2.06-.94 2.06-2.06.94zm-11 1L8.5 8.5l.94-2.06 2.06-.94-2.06-.94L8.5 2.5l-.94 2.06-2.06.94zm10 10l.94 2.06.94-2.06 2.06-.94-2.06-.94-.94-2.06-.94 2.06-2.06.94z\"/><path d=\"M17.41 7.96l-1.37-1.37c-.4-.4-.92-.59-1.43-.59-.52 0-1.04.2-1.43.59L10.3 9.45l-7.72 7.72c-.78.78-.78 2.05 0 2.83L4 21.41c.39.39.9.59 1.41.59.51 0 1.02-.2 1.41-.59l7.78-7.78 2.81-2.81c.8-.78.8-2.07 0-2.86zM5.41 20L4 18.59l7.72-7.72 1.47 1.35L5.41 20z\"/>\n",
              "  </svg>\n",
              "      </button>\n",
              "      \n",
              "  <style>\n",
              "    .colab-df-container {\n",
              "      display:flex;\n",
              "      flex-wrap:wrap;\n",
              "      gap: 12px;\n",
              "    }\n",
              "\n",
              "    .colab-df-convert {\n",
              "      background-color: #E8F0FE;\n",
              "      border: none;\n",
              "      border-radius: 50%;\n",
              "      cursor: pointer;\n",
              "      display: none;\n",
              "      fill: #1967D2;\n",
              "      height: 32px;\n",
              "      padding: 0 0 0 0;\n",
              "      width: 32px;\n",
              "    }\n",
              "\n",
              "    .colab-df-convert:hover {\n",
              "      background-color: #E2EBFA;\n",
              "      box-shadow: 0px 1px 2px rgba(60, 64, 67, 0.3), 0px 1px 3px 1px rgba(60, 64, 67, 0.15);\n",
              "      fill: #174EA6;\n",
              "    }\n",
              "\n",
              "    [theme=dark] .colab-df-convert {\n",
              "      background-color: #3B4455;\n",
              "      fill: #D2E3FC;\n",
              "    }\n",
              "\n",
              "    [theme=dark] .colab-df-convert:hover {\n",
              "      background-color: #434B5C;\n",
              "      box-shadow: 0px 1px 3px 1px rgba(0, 0, 0, 0.15);\n",
              "      filter: drop-shadow(0px 1px 2px rgba(0, 0, 0, 0.3));\n",
              "      fill: #FFFFFF;\n",
              "    }\n",
              "  </style>\n",
              "\n",
              "      <script>\n",
              "        const buttonEl =\n",
              "          document.querySelector('#df-3a7d8850-b2fc-4a2c-8867-9a115e96b5b7 button.colab-df-convert');\n",
              "        buttonEl.style.display =\n",
              "          google.colab.kernel.accessAllowed ? 'block' : 'none';\n",
              "\n",
              "        async function convertToInteractive(key) {\n",
              "          const element = document.querySelector('#df-3a7d8850-b2fc-4a2c-8867-9a115e96b5b7');\n",
              "          const dataTable =\n",
              "            await google.colab.kernel.invokeFunction('convertToInteractive',\n",
              "                                                     [key], {});\n",
              "          if (!dataTable) return;\n",
              "\n",
              "          const docLinkHtml = 'Like what you see? Visit the ' +\n",
              "            '<a target=\"_blank\" href=https://colab.research.google.com/notebooks/data_table.ipynb>data table notebook</a>'\n",
              "            + ' to learn more about interactive tables.';\n",
              "          element.innerHTML = '';\n",
              "          dataTable['output_type'] = 'display_data';\n",
              "          await google.colab.output.renderOutput(dataTable, element);\n",
              "          const docLink = document.createElement('div');\n",
              "          docLink.innerHTML = docLinkHtml;\n",
              "          element.appendChild(docLink);\n",
              "        }\n",
              "      </script>\n",
              "    </div>\n",
              "  </div>\n",
              "  "
            ]
          },
          "metadata": {},
          "execution_count": 72
        }
      ]
    },
    {
      "cell_type": "code",
      "source": [
        "pd.read_csv('/content/convolve-epoch1/convolve-epoch1/sample_submission.csv')"
      ],
      "metadata": {
        "colab": {
          "base_uri": "https://localhost:8080/",
          "height": 424
        },
        "id": "guy1VUI9U5xv",
        "outputId": "ae296cbc-edba-4684-d343-7347b1a16909"
      },
      "execution_count": null,
      "outputs": [
        {
          "output_type": "execute_result",
          "data": {
            "text/plain": [
              "            ID   Label\n",
              "0            0  normal\n",
              "1            1  normal\n",
              "2            2  normal\n",
              "3            3  normal\n",
              "4            4  normal\n",
              "...        ...     ...\n",
              "595295  595295  normal\n",
              "595296  595296  normal\n",
              "595297  595297  normal\n",
              "595298  595298  normal\n",
              "595299  595299  normal\n",
              "\n",
              "[595300 rows x 2 columns]"
            ],
            "text/html": [
              "\n",
              "  <div id=\"df-5301e517-7a09-4a3c-900c-85d0ced44652\">\n",
              "    <div class=\"colab-df-container\">\n",
              "      <div>\n",
              "<style scoped>\n",
              "    .dataframe tbody tr th:only-of-type {\n",
              "        vertical-align: middle;\n",
              "    }\n",
              "\n",
              "    .dataframe tbody tr th {\n",
              "        vertical-align: top;\n",
              "    }\n",
              "\n",
              "    .dataframe thead th {\n",
              "        text-align: right;\n",
              "    }\n",
              "</style>\n",
              "<table border=\"1\" class=\"dataframe\">\n",
              "  <thead>\n",
              "    <tr style=\"text-align: right;\">\n",
              "      <th></th>\n",
              "      <th>ID</th>\n",
              "      <th>Label</th>\n",
              "    </tr>\n",
              "  </thead>\n",
              "  <tbody>\n",
              "    <tr>\n",
              "      <th>0</th>\n",
              "      <td>0</td>\n",
              "      <td>normal</td>\n",
              "    </tr>\n",
              "    <tr>\n",
              "      <th>1</th>\n",
              "      <td>1</td>\n",
              "      <td>normal</td>\n",
              "    </tr>\n",
              "    <tr>\n",
              "      <th>2</th>\n",
              "      <td>2</td>\n",
              "      <td>normal</td>\n",
              "    </tr>\n",
              "    <tr>\n",
              "      <th>3</th>\n",
              "      <td>3</td>\n",
              "      <td>normal</td>\n",
              "    </tr>\n",
              "    <tr>\n",
              "      <th>4</th>\n",
              "      <td>4</td>\n",
              "      <td>normal</td>\n",
              "    </tr>\n",
              "    <tr>\n",
              "      <th>...</th>\n",
              "      <td>...</td>\n",
              "      <td>...</td>\n",
              "    </tr>\n",
              "    <tr>\n",
              "      <th>595295</th>\n",
              "      <td>595295</td>\n",
              "      <td>normal</td>\n",
              "    </tr>\n",
              "    <tr>\n",
              "      <th>595296</th>\n",
              "      <td>595296</td>\n",
              "      <td>normal</td>\n",
              "    </tr>\n",
              "    <tr>\n",
              "      <th>595297</th>\n",
              "      <td>595297</td>\n",
              "      <td>normal</td>\n",
              "    </tr>\n",
              "    <tr>\n",
              "      <th>595298</th>\n",
              "      <td>595298</td>\n",
              "      <td>normal</td>\n",
              "    </tr>\n",
              "    <tr>\n",
              "      <th>595299</th>\n",
              "      <td>595299</td>\n",
              "      <td>normal</td>\n",
              "    </tr>\n",
              "  </tbody>\n",
              "</table>\n",
              "<p>595300 rows × 2 columns</p>\n",
              "</div>\n",
              "      <button class=\"colab-df-convert\" onclick=\"convertToInteractive('df-5301e517-7a09-4a3c-900c-85d0ced44652')\"\n",
              "              title=\"Convert this dataframe to an interactive table.\"\n",
              "              style=\"display:none;\">\n",
              "        \n",
              "  <svg xmlns=\"http://www.w3.org/2000/svg\" height=\"24px\"viewBox=\"0 0 24 24\"\n",
              "       width=\"24px\">\n",
              "    <path d=\"M0 0h24v24H0V0z\" fill=\"none\"/>\n",
              "    <path d=\"M18.56 5.44l.94 2.06.94-2.06 2.06-.94-2.06-.94-.94-2.06-.94 2.06-2.06.94zm-11 1L8.5 8.5l.94-2.06 2.06-.94-2.06-.94L8.5 2.5l-.94 2.06-2.06.94zm10 10l.94 2.06.94-2.06 2.06-.94-2.06-.94-.94-2.06-.94 2.06-2.06.94z\"/><path d=\"M17.41 7.96l-1.37-1.37c-.4-.4-.92-.59-1.43-.59-.52 0-1.04.2-1.43.59L10.3 9.45l-7.72 7.72c-.78.78-.78 2.05 0 2.83L4 21.41c.39.39.9.59 1.41.59.51 0 1.02-.2 1.41-.59l7.78-7.78 2.81-2.81c.8-.78.8-2.07 0-2.86zM5.41 20L4 18.59l7.72-7.72 1.47 1.35L5.41 20z\"/>\n",
              "  </svg>\n",
              "      </button>\n",
              "      \n",
              "  <style>\n",
              "    .colab-df-container {\n",
              "      display:flex;\n",
              "      flex-wrap:wrap;\n",
              "      gap: 12px;\n",
              "    }\n",
              "\n",
              "    .colab-df-convert {\n",
              "      background-color: #E8F0FE;\n",
              "      border: none;\n",
              "      border-radius: 50%;\n",
              "      cursor: pointer;\n",
              "      display: none;\n",
              "      fill: #1967D2;\n",
              "      height: 32px;\n",
              "      padding: 0 0 0 0;\n",
              "      width: 32px;\n",
              "    }\n",
              "\n",
              "    .colab-df-convert:hover {\n",
              "      background-color: #E2EBFA;\n",
              "      box-shadow: 0px 1px 2px rgba(60, 64, 67, 0.3), 0px 1px 3px 1px rgba(60, 64, 67, 0.15);\n",
              "      fill: #174EA6;\n",
              "    }\n",
              "\n",
              "    [theme=dark] .colab-df-convert {\n",
              "      background-color: #3B4455;\n",
              "      fill: #D2E3FC;\n",
              "    }\n",
              "\n",
              "    [theme=dark] .colab-df-convert:hover {\n",
              "      background-color: #434B5C;\n",
              "      box-shadow: 0px 1px 3px 1px rgba(0, 0, 0, 0.15);\n",
              "      filter: drop-shadow(0px 1px 2px rgba(0, 0, 0, 0.3));\n",
              "      fill: #FFFFFF;\n",
              "    }\n",
              "  </style>\n",
              "\n",
              "      <script>\n",
              "        const buttonEl =\n",
              "          document.querySelector('#df-5301e517-7a09-4a3c-900c-85d0ced44652 button.colab-df-convert');\n",
              "        buttonEl.style.display =\n",
              "          google.colab.kernel.accessAllowed ? 'block' : 'none';\n",
              "\n",
              "        async function convertToInteractive(key) {\n",
              "          const element = document.querySelector('#df-5301e517-7a09-4a3c-900c-85d0ced44652');\n",
              "          const dataTable =\n",
              "            await google.colab.kernel.invokeFunction('convertToInteractive',\n",
              "                                                     [key], {});\n",
              "          if (!dataTable) return;\n",
              "\n",
              "          const docLinkHtml = 'Like what you see? Visit the ' +\n",
              "            '<a target=\"_blank\" href=https://colab.research.google.com/notebooks/data_table.ipynb>data table notebook</a>'\n",
              "            + ' to learn more about interactive tables.';\n",
              "          element.innerHTML = '';\n",
              "          dataTable['output_type'] = 'display_data';\n",
              "          await google.colab.output.renderOutput(dataTable, element);\n",
              "          const docLink = document.createElement('div');\n",
              "          docLink.innerHTML = docLinkHtml;\n",
              "          element.appendChild(docLink);\n",
              "        }\n",
              "      </script>\n",
              "    </div>\n",
              "  </div>\n",
              "  "
            ]
          },
          "metadata": {},
          "execution_count": 74
        }
      ]
    },
    {
      "cell_type": "code",
      "source": [
        "df_test = pd.read_csv('/content/convolve-epoch1/convolve-epoch1/test.csv')"
      ],
      "metadata": {
        "id": "GqLyiKC5XbTc"
      },
      "execution_count": null,
      "outputs": []
    },
    {
      "cell_type": "code",
      "source": [
        "df_test[' Log'][275908]"
      ],
      "metadata": {
        "colab": {
          "base_uri": "https://localhost:8080/",
          "height": 54
        },
        "id": "O0_EZGUeZWgv",
        "outputId": "d9f52ab8-917b-4e82-eaf7-c25e574d56d7"
      },
      "execution_count": null,
      "outputs": [
        {
          "output_type": "execute_result",
          "data": {
            "text/plain": [
              "' 1118540498 2005.06.11 R30-M0-N9-C:J16-U01 2005-06-11-18.41.38.564764 R30-M0-N9-C:J16-U01 RAS KERNEL FATAL data TLB error interrupt\\n'"
            ],
            "application/vnd.google.colaboratory.intrinsic+json": {
              "type": "string"
            }
          },
          "metadata": {},
          "execution_count": 90
        }
      ]
    },
    {
      "cell_type": "code",
      "source": [
        "df_test[df_test[' Log'].apply(lambda x:\"parity error\" in x)][' Log'][11]"
      ],
      "metadata": {
        "colab": {
          "base_uri": "https://localhost:8080/",
          "height": 54
        },
        "id": "KEr83223ZYbK",
        "outputId": "0bcdef44-c82e-4c80-e716-66049f09367e"
      },
      "execution_count": null,
      "outputs": [
        {
          "output_type": "execute_result",
          "data": {
            "text/plain": [
              "' 1118079424 2005.06.06 R02-M1-N0-C:J12-U11 2005-06-06-10.37.04.740923 R02-M1-N0-C:J12-U11 RAS KERNEL INFO instruction cache parity error corrected\\n'"
            ],
            "application/vnd.google.colaboratory.intrinsic+json": {
              "type": "string"
            }
          },
          "metadata": {},
          "execution_count": 98
        }
      ]
    },
    {
      "cell_type": "code",
      "source": [
        "df_test[' Log'][476962]"
      ],
      "metadata": {
        "colab": {
          "base_uri": "https://localhost:8080/",
          "height": 54
        },
        "id": "519xFz_SatVW",
        "outputId": "4037e867-86da-4610-c405-76c4e85ee2c3"
      },
      "execution_count": null,
      "outputs": [
        {
          "output_type": "execute_result",
          "data": {
            "text/plain": [
              "' 1118536724 2005.06.11 R30-M0-N9-C:J16-U01 2005-06-11-17.38.44.523567 R30-M0-N9-C:J16-U01 RAS KERNEL FATAL data TLB error interrupt\\n'"
            ],
            "application/vnd.google.colaboratory.intrinsic+json": {
              "type": "string"
            }
          },
          "metadata": {},
          "execution_count": 100
        }
      ]
    },
    {
      "cell_type": "code",
      "source": [
        "df[df['log'].apply(lambda x:\"exception syndrome register\" in x)]"
      ],
      "metadata": {
        "colab": {
          "base_uri": "https://localhost:8080/",
          "height": 641
        },
        "id": "N27tW6M3dnlv",
        "outputId": "cf0d7adc-f24c-424b-8b73-939ef014cae0"
      },
      "execution_count": null,
      "outputs": [
        {
          "output_type": "execute_result",
          "data": {
            "text/plain": [
              "                                                                                                                                                          log  \\\n",
              "280671    1118767111 2005.06.14 R25-M0-N3-C:J03-U01 2005-06-14-09.38.31.529366 R25-M0-N3-C:J03-U01 RAS KERNEL FATAL exception syndrome register: 0x00800000\\n   \n",
              "280672    1118767111 2005.06.14 R25-M0-N3-C:J03-U11 2005-06-14-09.38.31.573153 R25-M0-N3-C:J03-U11 RAS KERNEL FATAL exception syndrome register: 0x00800000\\n   \n",
              "280673    1118767111 2005.06.14 R25-M0-N3-C:J05-U01 2005-06-14-09.38.31.507801 R25-M0-N3-C:J05-U01 RAS KERNEL FATAL exception syndrome register: 0x00800000\\n   \n",
              "280674    1118767111 2005.06.14 R25-M0-N3-C:J05-U11 2005-06-14-09.38.31.550867 R25-M0-N3-C:J05-U11 RAS KERNEL FATAL exception syndrome register: 0x00800000\\n   \n",
              "280675    1118767111 2005.06.14 R25-M0-N3-C:J06-U11 2005-06-14-09.38.31.844404 R25-M0-N3-C:J06-U11 RAS KERNEL FATAL exception syndrome register: 0x00800000\\n   \n",
              "...                                                                                                                                                       ...   \n",
              "3351390   1130212702 2005.10.24 R02-M0-N6-C:J16-U01 2005-10-24-20.58.22.667457 R02-M0-N6-C:J16-U01 RAS KERNEL FATAL exception syndrome register: 0x08000000\\n   \n",
              "3357477   1130376973 2005.10.26 R42-M1-N3-C:J17-U11 2005-10-26-18.36.13.715109 R42-M1-N3-C:J17-U11 RAS KERNEL FATAL exception syndrome register: 0x08000000\\n   \n",
              "3813783   1131525612 2005.11.09 R62-M0-N4-C:J13-U01 2005-11-09-00.40.12.054901 R62-M0-N4-C:J13-U01 RAS KERNEL FATAL exception syndrome register: 0x00800000\\n   \n",
              "3906618   1132293338 2005.11.17 R62-M0-N4-C:J13-U01 2005-11-17-21.55.38.811425 R62-M0-N4-C:J13-U01 RAS KERNEL FATAL exception syndrome register: 0x00800000\\n   \n",
              "3920796   1132551089 2005.11.20 R52-M0-N2-C:J13-U11 2005-11-20-21.31.29.149712 R52-M0-N2-C:J13-U11 RAS KERNEL FATAL exception syndrome register: 0x02000000\\n   \n",
              "\n",
              "            ans  \n",
              "280671   normal  \n",
              "280672   normal  \n",
              "280673   normal  \n",
              "280674   normal  \n",
              "280675   normal  \n",
              "...         ...  \n",
              "3351390  normal  \n",
              "3357477  normal  \n",
              "3813783  normal  \n",
              "3906618  normal  \n",
              "3920796  normal  \n",
              "\n",
              "[18013 rows x 2 columns]"
            ],
            "text/html": [
              "\n",
              "  <div id=\"df-4cc8db40-8738-435d-8f44-4318b10aec93\">\n",
              "    <div class=\"colab-df-container\">\n",
              "      <div>\n",
              "<style scoped>\n",
              "    .dataframe tbody tr th:only-of-type {\n",
              "        vertical-align: middle;\n",
              "    }\n",
              "\n",
              "    .dataframe tbody tr th {\n",
              "        vertical-align: top;\n",
              "    }\n",
              "\n",
              "    .dataframe thead th {\n",
              "        text-align: right;\n",
              "    }\n",
              "</style>\n",
              "<table border=\"1\" class=\"dataframe\">\n",
              "  <thead>\n",
              "    <tr style=\"text-align: right;\">\n",
              "      <th></th>\n",
              "      <th>log</th>\n",
              "      <th>ans</th>\n",
              "    </tr>\n",
              "  </thead>\n",
              "  <tbody>\n",
              "    <tr>\n",
              "      <th>280671</th>\n",
              "      <td>1118767111 2005.06.14 R25-M0-N3-C:J03-U01 2005-06-14-09.38.31.529366 R25-M0-N3-C:J03-U01 RAS KERNEL FATAL exception syndrome register: 0x00800000\\n</td>\n",
              "      <td>normal</td>\n",
              "    </tr>\n",
              "    <tr>\n",
              "      <th>280672</th>\n",
              "      <td>1118767111 2005.06.14 R25-M0-N3-C:J03-U11 2005-06-14-09.38.31.573153 R25-M0-N3-C:J03-U11 RAS KERNEL FATAL exception syndrome register: 0x00800000\\n</td>\n",
              "      <td>normal</td>\n",
              "    </tr>\n",
              "    <tr>\n",
              "      <th>280673</th>\n",
              "      <td>1118767111 2005.06.14 R25-M0-N3-C:J05-U01 2005-06-14-09.38.31.507801 R25-M0-N3-C:J05-U01 RAS KERNEL FATAL exception syndrome register: 0x00800000\\n</td>\n",
              "      <td>normal</td>\n",
              "    </tr>\n",
              "    <tr>\n",
              "      <th>280674</th>\n",
              "      <td>1118767111 2005.06.14 R25-M0-N3-C:J05-U11 2005-06-14-09.38.31.550867 R25-M0-N3-C:J05-U11 RAS KERNEL FATAL exception syndrome register: 0x00800000\\n</td>\n",
              "      <td>normal</td>\n",
              "    </tr>\n",
              "    <tr>\n",
              "      <th>280675</th>\n",
              "      <td>1118767111 2005.06.14 R25-M0-N3-C:J06-U11 2005-06-14-09.38.31.844404 R25-M0-N3-C:J06-U11 RAS KERNEL FATAL exception syndrome register: 0x00800000\\n</td>\n",
              "      <td>normal</td>\n",
              "    </tr>\n",
              "    <tr>\n",
              "      <th>...</th>\n",
              "      <td>...</td>\n",
              "      <td>...</td>\n",
              "    </tr>\n",
              "    <tr>\n",
              "      <th>3351390</th>\n",
              "      <td>1130212702 2005.10.24 R02-M0-N6-C:J16-U01 2005-10-24-20.58.22.667457 R02-M0-N6-C:J16-U01 RAS KERNEL FATAL exception syndrome register: 0x08000000\\n</td>\n",
              "      <td>normal</td>\n",
              "    </tr>\n",
              "    <tr>\n",
              "      <th>3357477</th>\n",
              "      <td>1130376973 2005.10.26 R42-M1-N3-C:J17-U11 2005-10-26-18.36.13.715109 R42-M1-N3-C:J17-U11 RAS KERNEL FATAL exception syndrome register: 0x08000000\\n</td>\n",
              "      <td>normal</td>\n",
              "    </tr>\n",
              "    <tr>\n",
              "      <th>3813783</th>\n",
              "      <td>1131525612 2005.11.09 R62-M0-N4-C:J13-U01 2005-11-09-00.40.12.054901 R62-M0-N4-C:J13-U01 RAS KERNEL FATAL exception syndrome register: 0x00800000\\n</td>\n",
              "      <td>normal</td>\n",
              "    </tr>\n",
              "    <tr>\n",
              "      <th>3906618</th>\n",
              "      <td>1132293338 2005.11.17 R62-M0-N4-C:J13-U01 2005-11-17-21.55.38.811425 R62-M0-N4-C:J13-U01 RAS KERNEL FATAL exception syndrome register: 0x00800000\\n</td>\n",
              "      <td>normal</td>\n",
              "    </tr>\n",
              "    <tr>\n",
              "      <th>3920796</th>\n",
              "      <td>1132551089 2005.11.20 R52-M0-N2-C:J13-U11 2005-11-20-21.31.29.149712 R52-M0-N2-C:J13-U11 RAS KERNEL FATAL exception syndrome register: 0x02000000\\n</td>\n",
              "      <td>normal</td>\n",
              "    </tr>\n",
              "  </tbody>\n",
              "</table>\n",
              "<p>18013 rows × 2 columns</p>\n",
              "</div>\n",
              "      <button class=\"colab-df-convert\" onclick=\"convertToInteractive('df-4cc8db40-8738-435d-8f44-4318b10aec93')\"\n",
              "              title=\"Convert this dataframe to an interactive table.\"\n",
              "              style=\"display:none;\">\n",
              "        \n",
              "  <svg xmlns=\"http://www.w3.org/2000/svg\" height=\"24px\"viewBox=\"0 0 24 24\"\n",
              "       width=\"24px\">\n",
              "    <path d=\"M0 0h24v24H0V0z\" fill=\"none\"/>\n",
              "    <path d=\"M18.56 5.44l.94 2.06.94-2.06 2.06-.94-2.06-.94-.94-2.06-.94 2.06-2.06.94zm-11 1L8.5 8.5l.94-2.06 2.06-.94-2.06-.94L8.5 2.5l-.94 2.06-2.06.94zm10 10l.94 2.06.94-2.06 2.06-.94-2.06-.94-.94-2.06-.94 2.06-2.06.94z\"/><path d=\"M17.41 7.96l-1.37-1.37c-.4-.4-.92-.59-1.43-.59-.52 0-1.04.2-1.43.59L10.3 9.45l-7.72 7.72c-.78.78-.78 2.05 0 2.83L4 21.41c.39.39.9.59 1.41.59.51 0 1.02-.2 1.41-.59l7.78-7.78 2.81-2.81c.8-.78.8-2.07 0-2.86zM5.41 20L4 18.59l7.72-7.72 1.47 1.35L5.41 20z\"/>\n",
              "  </svg>\n",
              "      </button>\n",
              "      \n",
              "  <style>\n",
              "    .colab-df-container {\n",
              "      display:flex;\n",
              "      flex-wrap:wrap;\n",
              "      gap: 12px;\n",
              "    }\n",
              "\n",
              "    .colab-df-convert {\n",
              "      background-color: #E8F0FE;\n",
              "      border: none;\n",
              "      border-radius: 50%;\n",
              "      cursor: pointer;\n",
              "      display: none;\n",
              "      fill: #1967D2;\n",
              "      height: 32px;\n",
              "      padding: 0 0 0 0;\n",
              "      width: 32px;\n",
              "    }\n",
              "\n",
              "    .colab-df-convert:hover {\n",
              "      background-color: #E2EBFA;\n",
              "      box-shadow: 0px 1px 2px rgba(60, 64, 67, 0.3), 0px 1px 3px 1px rgba(60, 64, 67, 0.15);\n",
              "      fill: #174EA6;\n",
              "    }\n",
              "\n",
              "    [theme=dark] .colab-df-convert {\n",
              "      background-color: #3B4455;\n",
              "      fill: #D2E3FC;\n",
              "    }\n",
              "\n",
              "    [theme=dark] .colab-df-convert:hover {\n",
              "      background-color: #434B5C;\n",
              "      box-shadow: 0px 1px 3px 1px rgba(0, 0, 0, 0.15);\n",
              "      filter: drop-shadow(0px 1px 2px rgba(0, 0, 0, 0.3));\n",
              "      fill: #FFFFFF;\n",
              "    }\n",
              "  </style>\n",
              "\n",
              "      <script>\n",
              "        const buttonEl =\n",
              "          document.querySelector('#df-4cc8db40-8738-435d-8f44-4318b10aec93 button.colab-df-convert');\n",
              "        buttonEl.style.display =\n",
              "          google.colab.kernel.accessAllowed ? 'block' : 'none';\n",
              "\n",
              "        async function convertToInteractive(key) {\n",
              "          const element = document.querySelector('#df-4cc8db40-8738-435d-8f44-4318b10aec93');\n",
              "          const dataTable =\n",
              "            await google.colab.kernel.invokeFunction('convertToInteractive',\n",
              "                                                     [key], {});\n",
              "          if (!dataTable) return;\n",
              "\n",
              "          const docLinkHtml = 'Like what you see? Visit the ' +\n",
              "            '<a target=\"_blank\" href=https://colab.research.google.com/notebooks/data_table.ipynb>data table notebook</a>'\n",
              "            + ' to learn more about interactive tables.';\n",
              "          element.innerHTML = '';\n",
              "          dataTable['output_type'] = 'display_data';\n",
              "          await google.colab.output.renderOutput(dataTable, element);\n",
              "          const docLink = document.createElement('div');\n",
              "          docLink.innerHTML = docLinkHtml;\n",
              "          element.appendChild(docLink);\n",
              "        }\n",
              "      </script>\n",
              "    </div>\n",
              "  </div>\n",
              "  "
            ]
          },
          "metadata": {},
          "execution_count": 112
        }
      ]
    },
    {
      "cell_type": "code",
      "source": [
        "df_ans"
      ],
      "metadata": {
        "colab": {
          "base_uri": "https://localhost:8080/",
          "height": 424
        },
        "id": "HgHUl_cieRrp",
        "outputId": "59047a6e-f0bf-4702-ab26-97ff8698565b"
      },
      "execution_count": null,
      "outputs": [
        {
          "output_type": "execute_result",
          "data": {
            "text/plain": [
              "            ID     Label\n",
              "0            0    normal\n",
              "1            1  abnormal\n",
              "2            2  abnormal\n",
              "3            3    normal\n",
              "4            4  abnormal\n",
              "...        ...       ...\n",
              "595295  595295    normal\n",
              "595296  595296    normal\n",
              "595297  595297  abnormal\n",
              "595298  595298  abnormal\n",
              "595299  595299    normal\n",
              "\n",
              "[595300 rows x 2 columns]"
            ],
            "text/html": [
              "\n",
              "  <div id=\"df-d3a930ca-646f-451a-a9dc-fe5a0397032e\">\n",
              "    <div class=\"colab-df-container\">\n",
              "      <div>\n",
              "<style scoped>\n",
              "    .dataframe tbody tr th:only-of-type {\n",
              "        vertical-align: middle;\n",
              "    }\n",
              "\n",
              "    .dataframe tbody tr th {\n",
              "        vertical-align: top;\n",
              "    }\n",
              "\n",
              "    .dataframe thead th {\n",
              "        text-align: right;\n",
              "    }\n",
              "</style>\n",
              "<table border=\"1\" class=\"dataframe\">\n",
              "  <thead>\n",
              "    <tr style=\"text-align: right;\">\n",
              "      <th></th>\n",
              "      <th>ID</th>\n",
              "      <th>Label</th>\n",
              "    </tr>\n",
              "  </thead>\n",
              "  <tbody>\n",
              "    <tr>\n",
              "      <th>0</th>\n",
              "      <td>0</td>\n",
              "      <td>normal</td>\n",
              "    </tr>\n",
              "    <tr>\n",
              "      <th>1</th>\n",
              "      <td>1</td>\n",
              "      <td>abnormal</td>\n",
              "    </tr>\n",
              "    <tr>\n",
              "      <th>2</th>\n",
              "      <td>2</td>\n",
              "      <td>abnormal</td>\n",
              "    </tr>\n",
              "    <tr>\n",
              "      <th>3</th>\n",
              "      <td>3</td>\n",
              "      <td>normal</td>\n",
              "    </tr>\n",
              "    <tr>\n",
              "      <th>4</th>\n",
              "      <td>4</td>\n",
              "      <td>abnormal</td>\n",
              "    </tr>\n",
              "    <tr>\n",
              "      <th>...</th>\n",
              "      <td>...</td>\n",
              "      <td>...</td>\n",
              "    </tr>\n",
              "    <tr>\n",
              "      <th>595295</th>\n",
              "      <td>595295</td>\n",
              "      <td>normal</td>\n",
              "    </tr>\n",
              "    <tr>\n",
              "      <th>595296</th>\n",
              "      <td>595296</td>\n",
              "      <td>normal</td>\n",
              "    </tr>\n",
              "    <tr>\n",
              "      <th>595297</th>\n",
              "      <td>595297</td>\n",
              "      <td>abnormal</td>\n",
              "    </tr>\n",
              "    <tr>\n",
              "      <th>595298</th>\n",
              "      <td>595298</td>\n",
              "      <td>abnormal</td>\n",
              "    </tr>\n",
              "    <tr>\n",
              "      <th>595299</th>\n",
              "      <td>595299</td>\n",
              "      <td>normal</td>\n",
              "    </tr>\n",
              "  </tbody>\n",
              "</table>\n",
              "<p>595300 rows × 2 columns</p>\n",
              "</div>\n",
              "      <button class=\"colab-df-convert\" onclick=\"convertToInteractive('df-d3a930ca-646f-451a-a9dc-fe5a0397032e')\"\n",
              "              title=\"Convert this dataframe to an interactive table.\"\n",
              "              style=\"display:none;\">\n",
              "        \n",
              "  <svg xmlns=\"http://www.w3.org/2000/svg\" height=\"24px\"viewBox=\"0 0 24 24\"\n",
              "       width=\"24px\">\n",
              "    <path d=\"M0 0h24v24H0V0z\" fill=\"none\"/>\n",
              "    <path d=\"M18.56 5.44l.94 2.06.94-2.06 2.06-.94-2.06-.94-.94-2.06-.94 2.06-2.06.94zm-11 1L8.5 8.5l.94-2.06 2.06-.94-2.06-.94L8.5 2.5l-.94 2.06-2.06.94zm10 10l.94 2.06.94-2.06 2.06-.94-2.06-.94-.94-2.06-.94 2.06-2.06.94z\"/><path d=\"M17.41 7.96l-1.37-1.37c-.4-.4-.92-.59-1.43-.59-.52 0-1.04.2-1.43.59L10.3 9.45l-7.72 7.72c-.78.78-.78 2.05 0 2.83L4 21.41c.39.39.9.59 1.41.59.51 0 1.02-.2 1.41-.59l7.78-7.78 2.81-2.81c.8-.78.8-2.07 0-2.86zM5.41 20L4 18.59l7.72-7.72 1.47 1.35L5.41 20z\"/>\n",
              "  </svg>\n",
              "      </button>\n",
              "      \n",
              "  <style>\n",
              "    .colab-df-container {\n",
              "      display:flex;\n",
              "      flex-wrap:wrap;\n",
              "      gap: 12px;\n",
              "    }\n",
              "\n",
              "    .colab-df-convert {\n",
              "      background-color: #E8F0FE;\n",
              "      border: none;\n",
              "      border-radius: 50%;\n",
              "      cursor: pointer;\n",
              "      display: none;\n",
              "      fill: #1967D2;\n",
              "      height: 32px;\n",
              "      padding: 0 0 0 0;\n",
              "      width: 32px;\n",
              "    }\n",
              "\n",
              "    .colab-df-convert:hover {\n",
              "      background-color: #E2EBFA;\n",
              "      box-shadow: 0px 1px 2px rgba(60, 64, 67, 0.3), 0px 1px 3px 1px rgba(60, 64, 67, 0.15);\n",
              "      fill: #174EA6;\n",
              "    }\n",
              "\n",
              "    [theme=dark] .colab-df-convert {\n",
              "      background-color: #3B4455;\n",
              "      fill: #D2E3FC;\n",
              "    }\n",
              "\n",
              "    [theme=dark] .colab-df-convert:hover {\n",
              "      background-color: #434B5C;\n",
              "      box-shadow: 0px 1px 3px 1px rgba(0, 0, 0, 0.15);\n",
              "      filter: drop-shadow(0px 1px 2px rgba(0, 0, 0, 0.3));\n",
              "      fill: #FFFFFF;\n",
              "    }\n",
              "  </style>\n",
              "\n",
              "      <script>\n",
              "        const buttonEl =\n",
              "          document.querySelector('#df-d3a930ca-646f-451a-a9dc-fe5a0397032e button.colab-df-convert');\n",
              "        buttonEl.style.display =\n",
              "          google.colab.kernel.accessAllowed ? 'block' : 'none';\n",
              "\n",
              "        async function convertToInteractive(key) {\n",
              "          const element = document.querySelector('#df-d3a930ca-646f-451a-a9dc-fe5a0397032e');\n",
              "          const dataTable =\n",
              "            await google.colab.kernel.invokeFunction('convertToInteractive',\n",
              "                                                     [key], {});\n",
              "          if (!dataTable) return;\n",
              "\n",
              "          const docLinkHtml = 'Like what you see? Visit the ' +\n",
              "            '<a target=\"_blank\" href=https://colab.research.google.com/notebooks/data_table.ipynb>data table notebook</a>'\n",
              "            + ' to learn more about interactive tables.';\n",
              "          element.innerHTML = '';\n",
              "          dataTable['output_type'] = 'display_data';\n",
              "          await google.colab.output.renderOutput(dataTable, element);\n",
              "          const docLink = document.createElement('div');\n",
              "          docLink.innerHTML = docLinkHtml;\n",
              "          element.appendChild(docLink);\n",
              "        }\n",
              "      </script>\n",
              "    </div>\n",
              "  </div>\n",
              "  "
            ]
          },
          "metadata": {},
          "execution_count": 109
        }
      ]
    },
    {
      "cell_type": "code",
      "source": [
        "pd.read_csv('/content/convolve-epoch1/convolve-epoch1/sample_submission.csv')"
      ],
      "metadata": {
        "colab": {
          "base_uri": "https://localhost:8080/",
          "height": 424
        },
        "id": "qDeBT9JLemr_",
        "outputId": "2b22cd19-12dd-4fa9-cce9-1c662bf40e00"
      },
      "execution_count": null,
      "outputs": [
        {
          "output_type": "execute_result",
          "data": {
            "text/plain": [
              "            ID   Label\n",
              "0            0  normal\n",
              "1            1  normal\n",
              "2            2  normal\n",
              "3            3  normal\n",
              "4            4  normal\n",
              "...        ...     ...\n",
              "595295  595295  normal\n",
              "595296  595296  normal\n",
              "595297  595297  normal\n",
              "595298  595298  normal\n",
              "595299  595299  normal\n",
              "\n",
              "[595300 rows x 2 columns]"
            ],
            "text/html": [
              "\n",
              "  <div id=\"df-0d89c3a4-732f-40dd-8296-dbdb3ebac490\">\n",
              "    <div class=\"colab-df-container\">\n",
              "      <div>\n",
              "<style scoped>\n",
              "    .dataframe tbody tr th:only-of-type {\n",
              "        vertical-align: middle;\n",
              "    }\n",
              "\n",
              "    .dataframe tbody tr th {\n",
              "        vertical-align: top;\n",
              "    }\n",
              "\n",
              "    .dataframe thead th {\n",
              "        text-align: right;\n",
              "    }\n",
              "</style>\n",
              "<table border=\"1\" class=\"dataframe\">\n",
              "  <thead>\n",
              "    <tr style=\"text-align: right;\">\n",
              "      <th></th>\n",
              "      <th>ID</th>\n",
              "      <th>Label</th>\n",
              "    </tr>\n",
              "  </thead>\n",
              "  <tbody>\n",
              "    <tr>\n",
              "      <th>0</th>\n",
              "      <td>0</td>\n",
              "      <td>normal</td>\n",
              "    </tr>\n",
              "    <tr>\n",
              "      <th>1</th>\n",
              "      <td>1</td>\n",
              "      <td>normal</td>\n",
              "    </tr>\n",
              "    <tr>\n",
              "      <th>2</th>\n",
              "      <td>2</td>\n",
              "      <td>normal</td>\n",
              "    </tr>\n",
              "    <tr>\n",
              "      <th>3</th>\n",
              "      <td>3</td>\n",
              "      <td>normal</td>\n",
              "    </tr>\n",
              "    <tr>\n",
              "      <th>4</th>\n",
              "      <td>4</td>\n",
              "      <td>normal</td>\n",
              "    </tr>\n",
              "    <tr>\n",
              "      <th>...</th>\n",
              "      <td>...</td>\n",
              "      <td>...</td>\n",
              "    </tr>\n",
              "    <tr>\n",
              "      <th>595295</th>\n",
              "      <td>595295</td>\n",
              "      <td>normal</td>\n",
              "    </tr>\n",
              "    <tr>\n",
              "      <th>595296</th>\n",
              "      <td>595296</td>\n",
              "      <td>normal</td>\n",
              "    </tr>\n",
              "    <tr>\n",
              "      <th>595297</th>\n",
              "      <td>595297</td>\n",
              "      <td>normal</td>\n",
              "    </tr>\n",
              "    <tr>\n",
              "      <th>595298</th>\n",
              "      <td>595298</td>\n",
              "      <td>normal</td>\n",
              "    </tr>\n",
              "    <tr>\n",
              "      <th>595299</th>\n",
              "      <td>595299</td>\n",
              "      <td>normal</td>\n",
              "    </tr>\n",
              "  </tbody>\n",
              "</table>\n",
              "<p>595300 rows × 2 columns</p>\n",
              "</div>\n",
              "      <button class=\"colab-df-convert\" onclick=\"convertToInteractive('df-0d89c3a4-732f-40dd-8296-dbdb3ebac490')\"\n",
              "              title=\"Convert this dataframe to an interactive table.\"\n",
              "              style=\"display:none;\">\n",
              "        \n",
              "  <svg xmlns=\"http://www.w3.org/2000/svg\" height=\"24px\"viewBox=\"0 0 24 24\"\n",
              "       width=\"24px\">\n",
              "    <path d=\"M0 0h24v24H0V0z\" fill=\"none\"/>\n",
              "    <path d=\"M18.56 5.44l.94 2.06.94-2.06 2.06-.94-2.06-.94-.94-2.06-.94 2.06-2.06.94zm-11 1L8.5 8.5l.94-2.06 2.06-.94-2.06-.94L8.5 2.5l-.94 2.06-2.06.94zm10 10l.94 2.06.94-2.06 2.06-.94-2.06-.94-.94-2.06-.94 2.06-2.06.94z\"/><path d=\"M17.41 7.96l-1.37-1.37c-.4-.4-.92-.59-1.43-.59-.52 0-1.04.2-1.43.59L10.3 9.45l-7.72 7.72c-.78.78-.78 2.05 0 2.83L4 21.41c.39.39.9.59 1.41.59.51 0 1.02-.2 1.41-.59l7.78-7.78 2.81-2.81c.8-.78.8-2.07 0-2.86zM5.41 20L4 18.59l7.72-7.72 1.47 1.35L5.41 20z\"/>\n",
              "  </svg>\n",
              "      </button>\n",
              "      \n",
              "  <style>\n",
              "    .colab-df-container {\n",
              "      display:flex;\n",
              "      flex-wrap:wrap;\n",
              "      gap: 12px;\n",
              "    }\n",
              "\n",
              "    .colab-df-convert {\n",
              "      background-color: #E8F0FE;\n",
              "      border: none;\n",
              "      border-radius: 50%;\n",
              "      cursor: pointer;\n",
              "      display: none;\n",
              "      fill: #1967D2;\n",
              "      height: 32px;\n",
              "      padding: 0 0 0 0;\n",
              "      width: 32px;\n",
              "    }\n",
              "\n",
              "    .colab-df-convert:hover {\n",
              "      background-color: #E2EBFA;\n",
              "      box-shadow: 0px 1px 2px rgba(60, 64, 67, 0.3), 0px 1px 3px 1px rgba(60, 64, 67, 0.15);\n",
              "      fill: #174EA6;\n",
              "    }\n",
              "\n",
              "    [theme=dark] .colab-df-convert {\n",
              "      background-color: #3B4455;\n",
              "      fill: #D2E3FC;\n",
              "    }\n",
              "\n",
              "    [theme=dark] .colab-df-convert:hover {\n",
              "      background-color: #434B5C;\n",
              "      box-shadow: 0px 1px 3px 1px rgba(0, 0, 0, 0.15);\n",
              "      filter: drop-shadow(0px 1px 2px rgba(0, 0, 0, 0.3));\n",
              "      fill: #FFFFFF;\n",
              "    }\n",
              "  </style>\n",
              "\n",
              "      <script>\n",
              "        const buttonEl =\n",
              "          document.querySelector('#df-0d89c3a4-732f-40dd-8296-dbdb3ebac490 button.colab-df-convert');\n",
              "        buttonEl.style.display =\n",
              "          google.colab.kernel.accessAllowed ? 'block' : 'none';\n",
              "\n",
              "        async function convertToInteractive(key) {\n",
              "          const element = document.querySelector('#df-0d89c3a4-732f-40dd-8296-dbdb3ebac490');\n",
              "          const dataTable =\n",
              "            await google.colab.kernel.invokeFunction('convertToInteractive',\n",
              "                                                     [key], {});\n",
              "          if (!dataTable) return;\n",
              "\n",
              "          const docLinkHtml = 'Like what you see? Visit the ' +\n",
              "            '<a target=\"_blank\" href=https://colab.research.google.com/notebooks/data_table.ipynb>data table notebook</a>'\n",
              "            + ' to learn more about interactive tables.';\n",
              "          element.innerHTML = '';\n",
              "          dataTable['output_type'] = 'display_data';\n",
              "          await google.colab.output.renderOutput(dataTable, element);\n",
              "          const docLink = document.createElement('div');\n",
              "          docLink.innerHTML = docLinkHtml;\n",
              "          element.appendChild(docLink);\n",
              "        }\n",
              "      </script>\n",
              "    </div>\n",
              "  </div>\n",
              "  "
            ]
          },
          "metadata": {},
          "execution_count": 108
        }
      ]
    },
    {
      "cell_type": "code",
      "source": [
        "pd.set_option('max_colwidth', 400)\n",
        "df_test"
      ],
      "metadata": {
        "colab": {
          "base_uri": "https://localhost:8080/",
          "height": 502
        },
        "id": "jZAvH0N0e5dt",
        "outputId": "adff432d-51ed-4c61-e43e-46a1db53b078"
      },
      "execution_count": null,
      "outputs": [
        {
          "output_type": "execute_result",
          "data": {
            "text/plain": [
              "            ID  \\\n",
              "0            0   \n",
              "1            1   \n",
              "2            2   \n",
              "3            3   \n",
              "4            4   \n",
              "...        ...   \n",
              "595295  595295   \n",
              "595296  595296   \n",
              "595297  595297   \n",
              "595298  595298   \n",
              "595299  595299   \n",
              "\n",
              "                                                                                                                                                         Log  \n",
              "0         1124336301 2005.08.17 R13-M1-N8-C:J12-U01 2005-08-17-20.38.21.466368 R13-M1-N8-C:J12-U01 RAS KERNEL FATAL rts: kernel terminated for reason 1001\\n  \n",
              "1                       1118553175 2005.06.11 R30-M0-N9-C:J16-U01 2005-06-11-22.12.55.707149 R30-M0-N9-C:J16-U01 RAS KERNEL FATAL data TLB error interrupt\\n  \n",
              "2                       1118536033 2005.06.11 R30-M0-N9-C:J16-U01 2005-06-11-17.27.13.042387 R30-M0-N9-C:J16-U01 RAS KERNEL FATAL data TLB error interrupt\\n  \n",
              "3                            1117992566 2005.06.05 R30-M1-N6-C:J03-U11 2005-06-05-10.29.26.943462 R30-M1-N6-C:J03-U11 RAS KERNEL INFO generating core.6463\\n  \n",
              "4                       1118538965 2005.06.11 R30-M0-N9-C:J16-U01 2005-06-11-18.16.05.049256 R30-M0-N9-C:J16-U01 RAS KERNEL FATAL data TLB error interrupt\\n  \n",
              "...                                                                                                                                                      ...  \n",
              "595295   1118768234 2005.06.14 R20-M0-NA-C:J17-U11 2005-06-14-09.57.14.709136 R20-M0-NA-C:J17-U11 RAS KERNEL FATAL exception syndrome register: 0x00800000\\n  \n",
              "595296                      1118370947 2005.06.09 R15-M0-NA-C:J02-U01 2005-06-09-19.35.47.353971 R15-M0-NA-C:J02-U01 RAS KERNEL INFO generating core.10895\\n  \n",
              "595297                  1118540242 2005.06.11 R30-M0-N9-C:J16-U01 2005-06-11-18.37.22.743936 R30-M0-N9-C:J16-U01 RAS KERNEL FATAL data TLB error interrupt\\n  \n",
              "595298                  1118538947 2005.06.11 R30-M0-N9-C:J16-U01 2005-06-11-18.15.47.247097 R30-M0-N9-C:J16-U01 RAS KERNEL FATAL data TLB error interrupt\\n  \n",
              "595299                        1118165805 2005.06.07 R23-M1-N5-C:J16-U11 2005-06-07-10.36.45.002573 R23-M1-N5-C:J16-U11 RAS KERNEL INFO generating core.680\\n  \n",
              "\n",
              "[595300 rows x 2 columns]"
            ],
            "text/html": [
              "\n",
              "  <div id=\"df-77c52d7d-b170-4763-811d-0ce6d207bd51\">\n",
              "    <div class=\"colab-df-container\">\n",
              "      <div>\n",
              "<style scoped>\n",
              "    .dataframe tbody tr th:only-of-type {\n",
              "        vertical-align: middle;\n",
              "    }\n",
              "\n",
              "    .dataframe tbody tr th {\n",
              "        vertical-align: top;\n",
              "    }\n",
              "\n",
              "    .dataframe thead th {\n",
              "        text-align: right;\n",
              "    }\n",
              "</style>\n",
              "<table border=\"1\" class=\"dataframe\">\n",
              "  <thead>\n",
              "    <tr style=\"text-align: right;\">\n",
              "      <th></th>\n",
              "      <th>ID</th>\n",
              "      <th>Log</th>\n",
              "    </tr>\n",
              "  </thead>\n",
              "  <tbody>\n",
              "    <tr>\n",
              "      <th>0</th>\n",
              "      <td>0</td>\n",
              "      <td>1124336301 2005.08.17 R13-M1-N8-C:J12-U01 2005-08-17-20.38.21.466368 R13-M1-N8-C:J12-U01 RAS KERNEL FATAL rts: kernel terminated for reason 1001\\n</td>\n",
              "    </tr>\n",
              "    <tr>\n",
              "      <th>1</th>\n",
              "      <td>1</td>\n",
              "      <td>1118553175 2005.06.11 R30-M0-N9-C:J16-U01 2005-06-11-22.12.55.707149 R30-M0-N9-C:J16-U01 RAS KERNEL FATAL data TLB error interrupt\\n</td>\n",
              "    </tr>\n",
              "    <tr>\n",
              "      <th>2</th>\n",
              "      <td>2</td>\n",
              "      <td>1118536033 2005.06.11 R30-M0-N9-C:J16-U01 2005-06-11-17.27.13.042387 R30-M0-N9-C:J16-U01 RAS KERNEL FATAL data TLB error interrupt\\n</td>\n",
              "    </tr>\n",
              "    <tr>\n",
              "      <th>3</th>\n",
              "      <td>3</td>\n",
              "      <td>1117992566 2005.06.05 R30-M1-N6-C:J03-U11 2005-06-05-10.29.26.943462 R30-M1-N6-C:J03-U11 RAS KERNEL INFO generating core.6463\\n</td>\n",
              "    </tr>\n",
              "    <tr>\n",
              "      <th>4</th>\n",
              "      <td>4</td>\n",
              "      <td>1118538965 2005.06.11 R30-M0-N9-C:J16-U01 2005-06-11-18.16.05.049256 R30-M0-N9-C:J16-U01 RAS KERNEL FATAL data TLB error interrupt\\n</td>\n",
              "    </tr>\n",
              "    <tr>\n",
              "      <th>...</th>\n",
              "      <td>...</td>\n",
              "      <td>...</td>\n",
              "    </tr>\n",
              "    <tr>\n",
              "      <th>595295</th>\n",
              "      <td>595295</td>\n",
              "      <td>1118768234 2005.06.14 R20-M0-NA-C:J17-U11 2005-06-14-09.57.14.709136 R20-M0-NA-C:J17-U11 RAS KERNEL FATAL exception syndrome register: 0x00800000\\n</td>\n",
              "    </tr>\n",
              "    <tr>\n",
              "      <th>595296</th>\n",
              "      <td>595296</td>\n",
              "      <td>1118370947 2005.06.09 R15-M0-NA-C:J02-U01 2005-06-09-19.35.47.353971 R15-M0-NA-C:J02-U01 RAS KERNEL INFO generating core.10895\\n</td>\n",
              "    </tr>\n",
              "    <tr>\n",
              "      <th>595297</th>\n",
              "      <td>595297</td>\n",
              "      <td>1118540242 2005.06.11 R30-M0-N9-C:J16-U01 2005-06-11-18.37.22.743936 R30-M0-N9-C:J16-U01 RAS KERNEL FATAL data TLB error interrupt\\n</td>\n",
              "    </tr>\n",
              "    <tr>\n",
              "      <th>595298</th>\n",
              "      <td>595298</td>\n",
              "      <td>1118538947 2005.06.11 R30-M0-N9-C:J16-U01 2005-06-11-18.15.47.247097 R30-M0-N9-C:J16-U01 RAS KERNEL FATAL data TLB error interrupt\\n</td>\n",
              "    </tr>\n",
              "    <tr>\n",
              "      <th>595299</th>\n",
              "      <td>595299</td>\n",
              "      <td>1118165805 2005.06.07 R23-M1-N5-C:J16-U11 2005-06-07-10.36.45.002573 R23-M1-N5-C:J16-U11 RAS KERNEL INFO generating core.680\\n</td>\n",
              "    </tr>\n",
              "  </tbody>\n",
              "</table>\n",
              "<p>595300 rows × 2 columns</p>\n",
              "</div>\n",
              "      <button class=\"colab-df-convert\" onclick=\"convertToInteractive('df-77c52d7d-b170-4763-811d-0ce6d207bd51')\"\n",
              "              title=\"Convert this dataframe to an interactive table.\"\n",
              "              style=\"display:none;\">\n",
              "        \n",
              "  <svg xmlns=\"http://www.w3.org/2000/svg\" height=\"24px\"viewBox=\"0 0 24 24\"\n",
              "       width=\"24px\">\n",
              "    <path d=\"M0 0h24v24H0V0z\" fill=\"none\"/>\n",
              "    <path d=\"M18.56 5.44l.94 2.06.94-2.06 2.06-.94-2.06-.94-.94-2.06-.94 2.06-2.06.94zm-11 1L8.5 8.5l.94-2.06 2.06-.94-2.06-.94L8.5 2.5l-.94 2.06-2.06.94zm10 10l.94 2.06.94-2.06 2.06-.94-2.06-.94-.94-2.06-.94 2.06-2.06.94z\"/><path d=\"M17.41 7.96l-1.37-1.37c-.4-.4-.92-.59-1.43-.59-.52 0-1.04.2-1.43.59L10.3 9.45l-7.72 7.72c-.78.78-.78 2.05 0 2.83L4 21.41c.39.39.9.59 1.41.59.51 0 1.02-.2 1.41-.59l7.78-7.78 2.81-2.81c.8-.78.8-2.07 0-2.86zM5.41 20L4 18.59l7.72-7.72 1.47 1.35L5.41 20z\"/>\n",
              "  </svg>\n",
              "      </button>\n",
              "      \n",
              "  <style>\n",
              "    .colab-df-container {\n",
              "      display:flex;\n",
              "      flex-wrap:wrap;\n",
              "      gap: 12px;\n",
              "    }\n",
              "\n",
              "    .colab-df-convert {\n",
              "      background-color: #E8F0FE;\n",
              "      border: none;\n",
              "      border-radius: 50%;\n",
              "      cursor: pointer;\n",
              "      display: none;\n",
              "      fill: #1967D2;\n",
              "      height: 32px;\n",
              "      padding: 0 0 0 0;\n",
              "      width: 32px;\n",
              "    }\n",
              "\n",
              "    .colab-df-convert:hover {\n",
              "      background-color: #E2EBFA;\n",
              "      box-shadow: 0px 1px 2px rgba(60, 64, 67, 0.3), 0px 1px 3px 1px rgba(60, 64, 67, 0.15);\n",
              "      fill: #174EA6;\n",
              "    }\n",
              "\n",
              "    [theme=dark] .colab-df-convert {\n",
              "      background-color: #3B4455;\n",
              "      fill: #D2E3FC;\n",
              "    }\n",
              "\n",
              "    [theme=dark] .colab-df-convert:hover {\n",
              "      background-color: #434B5C;\n",
              "      box-shadow: 0px 1px 3px 1px rgba(0, 0, 0, 0.15);\n",
              "      filter: drop-shadow(0px 1px 2px rgba(0, 0, 0, 0.3));\n",
              "      fill: #FFFFFF;\n",
              "    }\n",
              "  </style>\n",
              "\n",
              "      <script>\n",
              "        const buttonEl =\n",
              "          document.querySelector('#df-77c52d7d-b170-4763-811d-0ce6d207bd51 button.colab-df-convert');\n",
              "        buttonEl.style.display =\n",
              "          google.colab.kernel.accessAllowed ? 'block' : 'none';\n",
              "\n",
              "        async function convertToInteractive(key) {\n",
              "          const element = document.querySelector('#df-77c52d7d-b170-4763-811d-0ce6d207bd51');\n",
              "          const dataTable =\n",
              "            await google.colab.kernel.invokeFunction('convertToInteractive',\n",
              "                                                     [key], {});\n",
              "          if (!dataTable) return;\n",
              "\n",
              "          const docLinkHtml = 'Like what you see? Visit the ' +\n",
              "            '<a target=\"_blank\" href=https://colab.research.google.com/notebooks/data_table.ipynb>data table notebook</a>'\n",
              "            + ' to learn more about interactive tables.';\n",
              "          element.innerHTML = '';\n",
              "          dataTable['output_type'] = 'display_data';\n",
              "          await google.colab.output.renderOutput(dataTable, element);\n",
              "          const docLink = document.createElement('div');\n",
              "          docLink.innerHTML = docLinkHtml;\n",
              "          element.appendChild(docLink);\n",
              "        }\n",
              "      </script>\n",
              "    </div>\n",
              "  </div>\n",
              "  "
            ]
          },
          "metadata": {},
          "execution_count": 111
        }
      ]
    },
    {
      "cell_type": "code",
      "source": [
        "df[df['log'].a]"
      ],
      "metadata": {
        "id": "9rjRY2MUfKzi"
      },
      "execution_count": null,
      "outputs": []
    }
  ]
}